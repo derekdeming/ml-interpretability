{
 "cells": [
  {
   "cell_type": "markdown",
   "metadata": {},
   "source": [
    "#### experimenting with the effects of superposition on adversarial robustness"
   ]
  },
  {
   "cell_type": "code",
   "execution_count": 2,
   "metadata": {},
   "outputs": [
    {
     "name": "stdout",
     "output_type": "stream",
     "text": [
      "Collecting seaborn\n",
      "  Using cached seaborn-0.13.2-py3-none-any.whl.metadata (5.4 kB)\n",
      "Requirement already satisfied: numpy!=1.24.0,>=1.20 in ./toy_models_env/lib/python3.10/site-packages (from seaborn) (2.1.2)\n",
      "Requirement already satisfied: pandas>=1.2 in ./toy_models_env/lib/python3.10/site-packages (from seaborn) (2.2.3)\n",
      "Requirement already satisfied: matplotlib!=3.6.1,>=3.4 in ./toy_models_env/lib/python3.10/site-packages (from seaborn) (3.9.2)\n",
      "Requirement already satisfied: contourpy>=1.0.1 in ./toy_models_env/lib/python3.10/site-packages (from matplotlib!=3.6.1,>=3.4->seaborn) (1.3.0)\n",
      "Requirement already satisfied: cycler>=0.10 in ./toy_models_env/lib/python3.10/site-packages (from matplotlib!=3.6.1,>=3.4->seaborn) (0.12.1)\n",
      "Requirement already satisfied: fonttools>=4.22.0 in ./toy_models_env/lib/python3.10/site-packages (from matplotlib!=3.6.1,>=3.4->seaborn) (4.54.1)\n",
      "Requirement already satisfied: kiwisolver>=1.3.1 in ./toy_models_env/lib/python3.10/site-packages (from matplotlib!=3.6.1,>=3.4->seaborn) (1.4.7)\n",
      "Requirement already satisfied: packaging>=20.0 in ./toy_models_env/lib/python3.10/site-packages (from matplotlib!=3.6.1,>=3.4->seaborn) (24.1)\n",
      "Requirement already satisfied: pillow>=8 in ./toy_models_env/lib/python3.10/site-packages (from matplotlib!=3.6.1,>=3.4->seaborn) (10.4.0)\n",
      "Requirement already satisfied: pyparsing>=2.3.1 in ./toy_models_env/lib/python3.10/site-packages (from matplotlib!=3.6.1,>=3.4->seaborn) (3.1.4)\n",
      "Requirement already satisfied: python-dateutil>=2.7 in ./toy_models_env/lib/python3.10/site-packages (from matplotlib!=3.6.1,>=3.4->seaborn) (2.9.0.post0)\n",
      "Requirement already satisfied: pytz>=2020.1 in ./toy_models_env/lib/python3.10/site-packages (from pandas>=1.2->seaborn) (2024.2)\n",
      "Requirement already satisfied: tzdata>=2022.7 in ./toy_models_env/lib/python3.10/site-packages (from pandas>=1.2->seaborn) (2024.2)\n",
      "Requirement already satisfied: six>=1.5 in ./toy_models_env/lib/python3.10/site-packages (from python-dateutil>=2.7->matplotlib!=3.6.1,>=3.4->seaborn) (1.16.0)\n",
      "Using cached seaborn-0.13.2-py3-none-any.whl (294 kB)\n",
      "Installing collected packages: seaborn\n",
      "Successfully installed seaborn-0.13.2\n"
     ]
    }
   ],
   "source": [
    "!pip install seaborn"
   ]
  },
  {
   "cell_type": "code",
   "execution_count": 17,
   "metadata": {},
   "outputs": [],
   "source": [
    "import torch\n",
    "from torch import nn\n",
    "from torch.nn import functional as F\n",
    "import numpy as np\n",
    "import einops\n",
    "from tqdm.notebook import trange\n",
    "import matplotlib.pyplot as plt\n",
    "import seaborn as sns\n",
    "import pandas as pd"
   ]
  },
  {
   "cell_type": "code",
   "execution_count": 7,
   "metadata": {},
   "outputs": [],
   "source": [
    "DEVICE = 'cuda' if torch.cuda.is_available() else 'cpu'"
   ]
  },
  {
   "cell_type": "code",
   "execution_count": 18,
   "metadata": {},
   "outputs": [],
   "source": [
    "from dataclasses import dataclass\n",
    "from typing import Optional\n",
    "\n",
    "\n",
    "@dataclass\n",
    "class Config:\n",
    "    n_features: int\n",
    "    n_hidden: int\n",
    "    n_instances: int  # Number of model instances (set to 1 for simplicity)\n",
    "\n",
    "class Model(nn.Module):\n",
    "    def __init__(self, \n",
    "                  config, \n",
    "                  feature_probability: Optional[torch.Tensor] = None,\n",
    "                  importance: Optional[torch.Tensor] = None,               \n",
    "                  device=DEVICE):\n",
    "        super().__init__()\n",
    "        self.config = config\n",
    "        self.W = nn.Parameter(torch.empty((config.n_features, config.n_hidden), device=device))\n",
    "        nn.init.xavier_normal_(self.W)\n",
    "        self.b_final = nn.Parameter(torch.zeros((config.n_features,), device=device))\n",
    "\n",
    "        if feature_probability is None:\n",
    "            feature_probability = torch.ones((config.n_features,), device=device)\n",
    "        self.feature_probability = feature_probability.to(device)\n",
    "        if importance is None:\n",
    "            importance = torch.ones((config.n_features,), device=device)\n",
    "        self.importance = importance.to(device)\n",
    "\n",
    "    def forward(self, features):\n",
    "        # features: [batch_size, n_features]\n",
    "        # W: [n_features, n_hidden]\n",
    "        hidden = torch.matmul(features, self.W)\n",
    "        out = torch.matmul(hidden, self.W.T)\n",
    "        out = out + self.b_final\n",
    "        out = F.relu(out)\n",
    "        return out\n",
    "\n",
    "    def generate_batch(self, n_batch):\n",
    "        feat = torch.rand((n_batch, self.config.n_features), device=self.W.device)\n",
    "        batch = torch.where(\n",
    "            torch.rand((n_batch, self.config.n_features), device=self.W.device) <= self.feature_probability,\n",
    "            feat,\n",
    "            torch.zeros_like(feat, device=self.W.device),\n",
    "        )\n",
    "        return batch"
   ]
  },
  {
   "cell_type": "code",
   "execution_count": 19,
   "metadata": {},
   "outputs": [],
   "source": [
    "def optimize(model, \n",
    "             n_batch=1024,\n",
    "             steps=5000,\n",
    "             print_freq=500,\n",
    "             lr=1e-3,\n",
    "             l1_lambda=0.0):\n",
    "    opt = torch.optim.AdamW(model.parameters(), lr=lr)\n",
    "    for step in trange(steps):\n",
    "        opt.zero_grad(set_to_none=True)\n",
    "        batch = model.generate_batch(n_batch)\n",
    "        out = model(batch)\n",
    "        error = (model.importance * (batch - out) ** 2)\n",
    "        loss = error.mean()\n",
    "        # Add L1 regularization if needed\n",
    "        if l1_lambda > 0.0:\n",
    "            l1_norm = sum(torch.abs(param).sum() for param in model.parameters())\n",
    "            loss = loss + l1_lambda * l1_norm\n",
    "        loss.backward()\n",
    "        opt.step()\n",
    "        if step % print_freq == 0 or step == steps - 1:\n",
    "            print(f\"Step {step}/{steps}, Loss: {loss.item():.6f}\")"
   ]
  },
  {
   "cell_type": "code",
   "execution_count": 20,
   "metadata": {},
   "outputs": [],
   "source": [
    "# fast gradient sign method\n",
    "def fgsm_attack(model, data, epsilon, importance):\n",
    "    data.requires_grad = True\n",
    "    output = model(data)\n",
    "    loss = (importance * (data - output) ** 2).mean()\n",
    "    model.zero_grad()\n",
    "    loss.backward()\n",
    "    data_grad = data.grad.data\n",
    "    # Generate adversarial examples\n",
    "    perturbed_data = data + epsilon * data_grad.sign()\n",
    "    # Clip data to valid range\n",
    "    perturbed_data = torch.clamp(perturbed_data, 0, 1)\n",
    "    return perturbed_data"
   ]
  },
  {
   "cell_type": "code",
   "execution_count": 21,
   "metadata": {},
   "outputs": [],
   "source": [
    "def pgd_attack(model, data, epsilon, alpha, num_iter, importance):\n",
    "    original_data = data.clone().detach()\n",
    "    perturbed_data = data.clone().detach()\n",
    "    for i in range(num_iter):\n",
    "        perturbed_data.requires_grad = True\n",
    "        output = model(perturbed_data)\n",
    "        loss = (importance * (original_data - output) ** 2).mean()\n",
    "        model.zero_grad()\n",
    "        loss.backward()\n",
    "        data_grad = perturbed_data.grad.data\n",
    "        perturbed_data = perturbed_data + alpha * data_grad.sign()\n",
    "        # Project back into the epsilon-ball\n",
    "        perturbed_data = torch.max(torch.min(perturbed_data, original_data + epsilon), original_data - epsilon)\n",
    "        # Clip data to valid range\n",
    "        perturbed_data = torch.clamp(perturbed_data, 0, 1).detach()\n",
    "    return perturbed_data"
   ]
  },
  {
   "cell_type": "code",
   "execution_count": 23,
   "metadata": {},
   "outputs": [],
   "source": [
    "def evaluate_adversarial(model, importance, epsilon=0.1, n_batch=1024, attack_type='fgsm'):\n",
    "    data = model.generate_batch(n_batch)\n",
    "    if attack_type == 'fgsm':\n",
    "        adv_data = fgsm_attack(model, data, epsilon, importance)\n",
    "    elif attack_type == 'pgd':\n",
    "        alpha = epsilon / 4  # Step size\n",
    "        num_iter = 10  # Number of iterations\n",
    "        adv_data = pgd_attack(model, data, epsilon, alpha, num_iter, importance)\n",
    "    else:\n",
    "        raise ValueError(\"Unsupported attack type\")\n",
    "    output = model(adv_data)\n",
    "    loss = (importance * (data - output) ** 2).mean()\n",
    "    return loss.item()"
   ]
  },
  {
   "cell_type": "code",
   "execution_count": 24,
   "metadata": {},
   "outputs": [],
   "source": [
    "# measure superposition in the model\n",
    "def measure_superposition(model):\n",
    "    W = model.W.detach()  # [n_features, n_hidden]\n",
    "    norms = torch.linalg.norm(W, dim=-1, keepdim=True)  # [n_features, 1]\n",
    "    W_normalized = W / (norms + 1e-6)\n",
    "    interference = torch.abs(torch.matmul(W_normalized, W_normalized.T))\n",
    "    interference = interference - torch.diag(torch.diag(interference))  # Remove self-interference\n",
    "    avg_interference = interference.mean().item()\n",
    "    return avg_interference\n"
   ]
  },
  {
   "cell_type": "code",
   "execution_count": 25,
   "metadata": {},
   "outputs": [],
   "source": [
    "'''\n",
    "by changing the number of hidden units and the l1 regularization parameter, we can see how the model's robustness and superposition change as we increase the number of hidden units.\n",
    "'''\n",
    "\n",
    "def run_experiment(n_features=100, n_hidden_list=[20, 40, 60, 80, 100, 120], l1_lambda_list=[0.0], attack_type='fgsm'):\n",
    "    results = []\n",
    "    for l1_lambda in l1_lambda_list:\n",
    "        for n_hidden in n_hidden_list:\n",
    "            print(f\"\\nTraining model with n_hidden = {n_hidden}, l1_lambda = {l1_lambda}\")\n",
    "            config = Config(\n",
    "                n_features=n_features,\n",
    "                n_hidden=n_hidden,\n",
    "                n_instances=1,\n",
    "            )\n",
    "            feature_probability = torch.ones((n_features,), device=DEVICE) * 0.5  # 50% sparsity\n",
    "            importance = torch.ones((n_features,), device=DEVICE)\n",
    "            model = Model(\n",
    "                config=config,\n",
    "                device=DEVICE,\n",
    "                feature_probability=feature_probability,\n",
    "                importance=importance,\n",
    "            )\n",
    "            optimize(model, steps=5000, lr=1e-3, l1_lambda=l1_lambda)\n",
    "            loss_clean = evaluate_adversarial(model, importance, epsilon=0.0, attack_type=attack_type)\n",
    "            loss_adv = evaluate_adversarial(model, importance, epsilon=0.1, attack_type=attack_type)\n",
    "            superposition_measure = measure_superposition(model)\n",
    "            results.append({\n",
    "                'n_hidden': n_hidden,\n",
    "                'l1_lambda': l1_lambda,\n",
    "                'loss_clean': loss_clean,\n",
    "                'loss_adv': loss_adv,\n",
    "                'superposition': superposition_measure,\n",
    "                'attack_type': attack_type,\n",
    "            })\n",
    "    return results"
   ]
  },
  {
   "cell_type": "code",
   "execution_count": 26,
   "metadata": {},
   "outputs": [
    {
     "name": "stdout",
     "output_type": "stream",
     "text": [
      "\n",
      "Training model with n_hidden = 20, l1_lambda = 0.0\n"
     ]
    },
    {
     "data": {
      "application/vnd.jupyter.widget-view+json": {
       "model_id": "05bedc17560e472f9c116cb71b0eb9c8",
       "version_major": 2,
       "version_minor": 0
      },
      "text/plain": [
       "  0%|          | 0/5000 [00:00<?, ?it/s]"
      ]
     },
     "metadata": {},
     "output_type": "display_data"
    },
    {
     "name": "stdout",
     "output_type": "stream",
     "text": [
      "Step 0/5000, Loss: 0.114465\n",
      "Step 500/5000, Loss: 0.082506\n",
      "Step 1000/5000, Loss: 0.082218\n",
      "Step 1500/5000, Loss: 0.079828\n",
      "Step 2000/5000, Loss: 0.078220\n",
      "Step 2500/5000, Loss: 0.077816\n",
      "Step 3000/5000, Loss: 0.077468\n",
      "Step 3500/5000, Loss: 0.078236\n",
      "Step 4000/5000, Loss: 0.078433\n",
      "Step 4500/5000, Loss: 0.077656\n",
      "Step 4999/5000, Loss: 0.078148\n",
      "\n",
      "Training model with n_hidden = 40, l1_lambda = 0.0\n"
     ]
    },
    {
     "data": {
      "application/vnd.jupyter.widget-view+json": {
       "model_id": "3e70ed806c46456592ac12b3cc678c3d",
       "version_major": 2,
       "version_minor": 0
      },
      "text/plain": [
       "  0%|          | 0/5000 [00:00<?, ?it/s]"
      ]
     },
     "metadata": {},
     "output_type": "display_data"
    },
    {
     "name": "stdout",
     "output_type": "stream",
     "text": [
      "Step 0/5000, Loss: 0.124406\n",
      "Step 500/5000, Loss: 0.058910\n",
      "Step 1000/5000, Loss: 0.058532\n",
      "Step 1500/5000, Loss: 0.056705\n",
      "Step 2000/5000, Loss: 0.053090\n",
      "Step 2500/5000, Loss: 0.052087\n",
      "Step 3000/5000, Loss: 0.051363\n",
      "Step 3500/5000, Loss: 0.050967\n",
      "Step 4000/5000, Loss: 0.051442\n",
      "Step 4500/5000, Loss: 0.051708\n",
      "Step 4999/5000, Loss: 0.051952\n",
      "\n",
      "Training model with n_hidden = 60, l1_lambda = 0.0\n"
     ]
    },
    {
     "data": {
      "application/vnd.jupyter.widget-view+json": {
       "model_id": "43fd515d2ff9434c86118f19cf6a5759",
       "version_major": 2,
       "version_minor": 0
      },
      "text/plain": [
       "  0%|          | 0/5000 [00:00<?, ?it/s]"
      ]
     },
     "metadata": {},
     "output_type": "display_data"
    },
    {
     "name": "stdout",
     "output_type": "stream",
     "text": [
      "Step 0/5000, Loss: 0.122800\n",
      "Step 500/5000, Loss: 0.036115\n",
      "Step 1000/5000, Loss: 0.035767\n",
      "Step 1500/5000, Loss: 0.032335\n",
      "Step 2000/5000, Loss: 0.031466\n",
      "Step 2500/5000, Loss: 0.031351\n",
      "Step 3000/5000, Loss: 0.030664\n",
      "Step 3500/5000, Loss: 0.030356\n",
      "Step 4000/5000, Loss: 0.030408\n",
      "Step 4500/5000, Loss: 0.030643\n",
      "Step 4999/5000, Loss: 0.031017\n",
      "\n",
      "Training model with n_hidden = 80, l1_lambda = 0.0\n"
     ]
    },
    {
     "data": {
      "application/vnd.jupyter.widget-view+json": {
       "model_id": "a304e6ade256486181f08cb95d4d7e6c",
       "version_major": 2,
       "version_minor": 0
      },
      "text/plain": [
       "  0%|          | 0/5000 [00:00<?, ?it/s]"
      ]
     },
     "metadata": {},
     "output_type": "display_data"
    },
    {
     "name": "stdout",
     "output_type": "stream",
     "text": [
      "Step 0/5000, Loss: 0.123630\n",
      "Step 500/5000, Loss: 0.016328\n",
      "Step 1000/5000, Loss: 0.015711\n",
      "Step 1500/5000, Loss: 0.016117\n",
      "Step 2000/5000, Loss: 0.015183\n",
      "Step 2500/5000, Loss: 0.015319\n",
      "Step 3000/5000, Loss: 0.014852\n",
      "Step 3500/5000, Loss: 0.015227\n",
      "Step 4000/5000, Loss: 0.014555\n",
      "Step 4500/5000, Loss: 0.014987\n",
      "Step 4999/5000, Loss: 0.014883\n",
      "\n",
      "Training model with n_hidden = 100, l1_lambda = 0.0\n"
     ]
    },
    {
     "data": {
      "application/vnd.jupyter.widget-view+json": {
       "model_id": "1c664faa195146f1ab309d7ee71cf3f6",
       "version_major": 2,
       "version_minor": 0
      },
      "text/plain": [
       "  0%|          | 0/5000 [00:00<?, ?it/s]"
      ]
     },
     "metadata": {},
     "output_type": "display_data"
    },
    {
     "name": "stdout",
     "output_type": "stream",
     "text": [
      "Step 0/5000, Loss: 0.101971\n",
      "Step 500/5000, Loss: 0.000307\n",
      "Step 1000/5000, Loss: 0.000000\n",
      "Step 1500/5000, Loss: 0.000000\n",
      "Step 2000/5000, Loss: 0.000000\n",
      "Step 2500/5000, Loss: 0.000000\n",
      "Step 3000/5000, Loss: 0.000000\n",
      "Step 3500/5000, Loss: 0.000000\n",
      "Step 4000/5000, Loss: 0.000001\n",
      "Step 4500/5000, Loss: 0.000000\n",
      "Step 4999/5000, Loss: 0.000000\n",
      "\n",
      "Training model with n_hidden = 120, l1_lambda = 0.0\n"
     ]
    },
    {
     "data": {
      "application/vnd.jupyter.widget-view+json": {
       "model_id": "ae35829fef80452b956670663219275e",
       "version_major": 2,
       "version_minor": 0
      },
      "text/plain": [
       "  0%|          | 0/5000 [00:00<?, ?it/s]"
      ]
     },
     "metadata": {},
     "output_type": "display_data"
    },
    {
     "name": "stdout",
     "output_type": "stream",
     "text": [
      "Step 0/5000, Loss: 0.115601\n",
      "Step 500/5000, Loss: 0.000001\n",
      "Step 1000/5000, Loss: 0.000000\n",
      "Step 1500/5000, Loss: 0.000000\n",
      "Step 2000/5000, Loss: 0.000000\n",
      "Step 2500/5000, Loss: 0.000000\n",
      "Step 3000/5000, Loss: 0.000000\n",
      "Step 3500/5000, Loss: 0.000000\n",
      "Step 4000/5000, Loss: 0.000003\n",
      "Step 4500/5000, Loss: 0.000000\n",
      "Step 4999/5000, Loss: 0.000001\n",
      "\n",
      "Training model with n_hidden = 20, l1_lambda = 1e-05\n"
     ]
    },
    {
     "data": {
      "application/vnd.jupyter.widget-view+json": {
       "model_id": "1423cd5144394cec9021a24178701fdd",
       "version_major": 2,
       "version_minor": 0
      },
      "text/plain": [
       "  0%|          | 0/5000 [00:00<?, ?it/s]"
      ]
     },
     "metadata": {},
     "output_type": "display_data"
    },
    {
     "name": "stdout",
     "output_type": "stream",
     "text": [
      "Step 0/5000, Loss: 0.111180\n",
      "Step 500/5000, Loss: 0.083577\n",
      "Step 1000/5000, Loss: 0.083813\n",
      "Step 1500/5000, Loss: 0.081357\n",
      "Step 2000/5000, Loss: 0.080212\n",
      "Step 2500/5000, Loss: 0.079148\n",
      "Step 3000/5000, Loss: 0.079656\n",
      "Step 3500/5000, Loss: 0.078412\n",
      "Step 4000/5000, Loss: 0.078352\n",
      "Step 4500/5000, Loss: 0.079678\n",
      "Step 4999/5000, Loss: 0.079978\n",
      "\n",
      "Training model with n_hidden = 40, l1_lambda = 1e-05\n"
     ]
    },
    {
     "data": {
      "application/vnd.jupyter.widget-view+json": {
       "model_id": "56bd2c47818a4eb389f601e49449b3a9",
       "version_major": 2,
       "version_minor": 0
      },
      "text/plain": [
       "  0%|          | 0/5000 [00:00<?, ?it/s]"
      ]
     },
     "metadata": {},
     "output_type": "display_data"
    },
    {
     "name": "stdout",
     "output_type": "stream",
     "text": [
      "Step 0/5000, Loss: 0.129879\n",
      "Step 500/5000, Loss: 0.063012\n",
      "Step 1000/5000, Loss: 0.061767\n",
      "Step 1500/5000, Loss: 0.060811\n",
      "Step 2000/5000, Loss: 0.059149\n",
      "Step 2500/5000, Loss: 0.056143\n",
      "Step 3000/5000, Loss: 0.055459\n",
      "Step 3500/5000, Loss: 0.054810\n",
      "Step 4000/5000, Loss: 0.054357\n",
      "Step 4500/5000, Loss: 0.054659\n",
      "Step 4999/5000, Loss: 0.054226\n",
      "\n",
      "Training model with n_hidden = 60, l1_lambda = 1e-05\n"
     ]
    },
    {
     "data": {
      "application/vnd.jupyter.widget-view+json": {
       "model_id": "eba9753eab52494998afac29ee41598c",
       "version_major": 2,
       "version_minor": 0
      },
      "text/plain": [
       "  0%|          | 0/5000 [00:00<?, ?it/s]"
      ]
     },
     "metadata": {},
     "output_type": "display_data"
    },
    {
     "name": "stdout",
     "output_type": "stream",
     "text": [
      "Step 0/5000, Loss: 0.110947\n",
      "Step 500/5000, Loss: 0.041516\n",
      "Step 1000/5000, Loss: 0.040260\n",
      "Step 1500/5000, Loss: 0.038118\n",
      "Step 2000/5000, Loss: 0.036246\n",
      "Step 2500/5000, Loss: 0.036045\n",
      "Step 3000/5000, Loss: 0.034861\n",
      "Step 3500/5000, Loss: 0.035348\n",
      "Step 4000/5000, Loss: 0.034600\n",
      "Step 4500/5000, Loss: 0.033819\n",
      "Step 4999/5000, Loss: 0.033745\n",
      "\n",
      "Training model with n_hidden = 80, l1_lambda = 1e-05\n"
     ]
    },
    {
     "data": {
      "application/vnd.jupyter.widget-view+json": {
       "model_id": "c3a9a43c740a412c89f1d15031b67d01",
       "version_major": 2,
       "version_minor": 0
      },
      "text/plain": [
       "  0%|          | 0/5000 [00:00<?, ?it/s]"
      ]
     },
     "metadata": {},
     "output_type": "display_data"
    },
    {
     "name": "stdout",
     "output_type": "stream",
     "text": [
      "Step 0/5000, Loss: 0.114171\n",
      "Step 500/5000, Loss: 0.022810\n",
      "Step 1000/5000, Loss: 0.022059\n",
      "Step 1500/5000, Loss: 0.021442\n",
      "Step 2000/5000, Loss: 0.020929\n",
      "Step 2500/5000, Loss: 0.020535\n",
      "Step 3000/5000, Loss: 0.020024\n",
      "Step 3500/5000, Loss: 0.019828\n",
      "Step 4000/5000, Loss: 0.019646\n",
      "Step 4500/5000, Loss: 0.019348\n",
      "Step 4999/5000, Loss: 0.019279\n",
      "\n",
      "Training model with n_hidden = 100, l1_lambda = 1e-05\n"
     ]
    },
    {
     "data": {
      "application/vnd.jupyter.widget-view+json": {
       "model_id": "0d7b559ae3c14655b6b2ebcfd5ee1458",
       "version_major": 2,
       "version_minor": 0
      },
      "text/plain": [
       "  0%|          | 0/5000 [00:00<?, ?it/s]"
      ]
     },
     "metadata": {},
     "output_type": "display_data"
    },
    {
     "name": "stdout",
     "output_type": "stream",
     "text": [
      "Step 0/5000, Loss: 0.099652\n",
      "Step 500/5000, Loss: 0.007416\n",
      "Step 1000/5000, Loss: 0.006589\n",
      "Step 1500/5000, Loss: 0.005928\n",
      "Step 2000/5000, Loss: 0.005451\n",
      "Step 2500/5000, Loss: 0.005034\n",
      "Step 3000/5000, Loss: 0.004485\n",
      "Step 3500/5000, Loss: 0.003179\n",
      "Step 4000/5000, Loss: 0.001650\n",
      "Step 4500/5000, Loss: 0.001237\n",
      "Step 4999/5000, Loss: 0.001115\n",
      "\n",
      "Training model with n_hidden = 120, l1_lambda = 1e-05\n"
     ]
    },
    {
     "data": {
      "application/vnd.jupyter.widget-view+json": {
       "model_id": "efa7c8f6a9ca446999309343d6d9871e",
       "version_major": 2,
       "version_minor": 0
      },
      "text/plain": [
       "  0%|          | 0/5000 [00:00<?, ?it/s]"
      ]
     },
     "metadata": {},
     "output_type": "display_data"
    },
    {
     "name": "stdout",
     "output_type": "stream",
     "text": [
      "Step 0/5000, Loss: 0.139450\n",
      "Step 500/5000, Loss: 0.008093\n",
      "Step 1000/5000, Loss: 0.007174\n",
      "Step 1500/5000, Loss: 0.006404\n",
      "Step 2000/5000, Loss: 0.005782\n",
      "Step 2500/5000, Loss: 0.005257\n",
      "Step 3000/5000, Loss: 0.004630\n",
      "Step 3500/5000, Loss: 0.003623\n",
      "Step 4000/5000, Loss: 0.001998\n",
      "Step 4500/5000, Loss: 0.001347\n",
      "Step 4999/5000, Loss: 0.001192\n",
      "\n",
      "Training model with n_hidden = 20, l1_lambda = 0.0001\n"
     ]
    },
    {
     "data": {
      "application/vnd.jupyter.widget-view+json": {
       "model_id": "f56f5d470e9547778fb4a6af42210127",
       "version_major": 2,
       "version_minor": 0
      },
      "text/plain": [
       "  0%|          | 0/5000 [00:00<?, ?it/s]"
      ]
     },
     "metadata": {},
     "output_type": "display_data"
    },
    {
     "name": "stdout",
     "output_type": "stream",
     "text": [
      "Step 0/5000, Loss: 0.130560\n",
      "Step 500/5000, Loss: 0.091239\n",
      "Step 1000/5000, Loss: 0.086438\n",
      "Step 1500/5000, Loss: 0.084798\n",
      "Step 2000/5000, Loss: 0.084534\n",
      "Step 2500/5000, Loss: 0.084000\n",
      "Step 3000/5000, Loss: 0.084330\n",
      "Step 3500/5000, Loss: 0.084907\n",
      "Step 4000/5000, Loss: 0.084473\n",
      "Step 4500/5000, Loss: 0.084932\n",
      "Step 4999/5000, Loss: 0.083655\n",
      "\n",
      "Training model with n_hidden = 40, l1_lambda = 0.0001\n"
     ]
    },
    {
     "data": {
      "application/vnd.jupyter.widget-view+json": {
       "model_id": "dac0fed104f6430896a029f3fe564b50",
       "version_major": 2,
       "version_minor": 0
      },
      "text/plain": [
       "  0%|          | 0/5000 [00:00<?, ?it/s]"
      ]
     },
     "metadata": {},
     "output_type": "display_data"
    },
    {
     "name": "stdout",
     "output_type": "stream",
     "text": [
      "Step 0/5000, Loss: 0.141706\n",
      "Step 500/5000, Loss: 0.078328\n",
      "Step 1000/5000, Loss: 0.070173\n",
      "Step 1500/5000, Loss: 0.065091\n",
      "Step 2000/5000, Loss: 0.063428\n",
      "Step 2500/5000, Loss: 0.062243\n",
      "Step 3000/5000, Loss: 0.061682\n",
      "Step 3500/5000, Loss: 0.061233\n",
      "Step 4000/5000, Loss: 0.061517\n",
      "Step 4500/5000, Loss: 0.061190\n",
      "Step 4999/5000, Loss: 0.061750\n",
      "\n",
      "Training model with n_hidden = 60, l1_lambda = 0.0001\n"
     ]
    },
    {
     "data": {
      "application/vnd.jupyter.widget-view+json": {
       "model_id": "c57a760a700e49bd820908a43704341a",
       "version_major": 2,
       "version_minor": 0
      },
      "text/plain": [
       "  0%|          | 0/5000 [00:00<?, ?it/s]"
      ]
     },
     "metadata": {},
     "output_type": "display_data"
    },
    {
     "name": "stdout",
     "output_type": "stream",
     "text": [
      "Step 0/5000, Loss: 0.161724\n",
      "Step 500/5000, Loss: 0.066942\n",
      "Step 1000/5000, Loss: 0.054158\n",
      "Step 1500/5000, Loss: 0.045955\n",
      "Step 2000/5000, Loss: 0.043308\n",
      "Step 2500/5000, Loss: 0.041607\n",
      "Step 3000/5000, Loss: 0.041359\n",
      "Step 3500/5000, Loss: 0.041023\n",
      "Step 4000/5000, Loss: 0.041629\n",
      "Step 4500/5000, Loss: 0.040825\n",
      "Step 4999/5000, Loss: 0.041337\n",
      "\n",
      "Training model with n_hidden = 80, l1_lambda = 0.0001\n"
     ]
    },
    {
     "data": {
      "application/vnd.jupyter.widget-view+json": {
       "model_id": "c7d9b37992684423acb792ae8e92d421",
       "version_major": 2,
       "version_minor": 0
      },
      "text/plain": [
       "  0%|          | 0/5000 [00:00<?, ?it/s]"
      ]
     },
     "metadata": {},
     "output_type": "display_data"
    },
    {
     "name": "stdout",
     "output_type": "stream",
     "text": [
      "Step 0/5000, Loss: 0.163938\n",
      "Step 500/5000, Loss: 0.056725\n",
      "Step 1000/5000, Loss: 0.038237\n",
      "Step 1500/5000, Loss: 0.029658\n",
      "Step 2000/5000, Loss: 0.026677\n",
      "Step 2500/5000, Loss: 0.025414\n",
      "Step 3000/5000, Loss: 0.025375\n",
      "Step 3500/5000, Loss: 0.025524\n",
      "Step 4000/5000, Loss: 0.025607\n",
      "Step 4500/5000, Loss: 0.025809\n",
      "Step 4999/5000, Loss: 0.026113\n",
      "\n",
      "Training model with n_hidden = 100, l1_lambda = 0.0001\n"
     ]
    },
    {
     "data": {
      "application/vnd.jupyter.widget-view+json": {
       "model_id": "9509a2d19fda49a0af26bcd740f34617",
       "version_major": 2,
       "version_minor": 0
      },
      "text/plain": [
       "  0%|          | 0/5000 [00:00<?, ?it/s]"
      ]
     },
     "metadata": {},
     "output_type": "display_data"
    },
    {
     "name": "stdout",
     "output_type": "stream",
     "text": [
      "Step 0/5000, Loss: 0.209174\n",
      "Step 500/5000, Loss: 0.052841\n",
      "Step 1000/5000, Loss: 0.038624\n",
      "Step 1500/5000, Loss: 0.019867\n",
      "Step 2000/5000, Loss: 0.012407\n",
      "Step 2500/5000, Loss: 0.010820\n",
      "Step 3000/5000, Loss: 0.010487\n",
      "Step 3500/5000, Loss: 0.010209\n",
      "Step 4000/5000, Loss: 0.010081\n",
      "Step 4500/5000, Loss: 0.010079\n",
      "Step 4999/5000, Loss: 0.010080\n",
      "\n",
      "Training model with n_hidden = 120, l1_lambda = 0.0001\n"
     ]
    },
    {
     "data": {
      "application/vnd.jupyter.widget-view+json": {
       "model_id": "98340cb2ad5f4cf88d73e857fda8089b",
       "version_major": 2,
       "version_minor": 0
      },
      "text/plain": [
       "  0%|          | 0/5000 [00:00<?, ?it/s]"
      ]
     },
     "metadata": {},
     "output_type": "display_data"
    },
    {
     "name": "stdout",
     "output_type": "stream",
     "text": [
      "Step 0/5000, Loss: 0.191910\n",
      "Step 500/5000, Loss: 0.048889\n",
      "Step 1000/5000, Loss: 0.022145\n",
      "Step 1500/5000, Loss: 0.012652\n",
      "Step 2000/5000, Loss: 0.010968\n",
      "Step 2500/5000, Loss: 0.010519\n",
      "Step 3000/5000, Loss: 0.010122\n",
      "Step 3500/5000, Loss: 0.010099\n",
      "Step 4000/5000, Loss: 0.010101\n",
      "Step 4500/5000, Loss: 0.010100\n",
      "Step 4999/5000, Loss: 0.010100\n",
      "\n",
      "Training model with n_hidden = 20, l1_lambda = 0.001\n"
     ]
    },
    {
     "data": {
      "application/vnd.jupyter.widget-view+json": {
       "model_id": "3b25cf42088e4c0a802fcee2c1725828",
       "version_major": 2,
       "version_minor": 0
      },
      "text/plain": [
       "  0%|          | 0/5000 [00:00<?, ?it/s]"
      ]
     },
     "metadata": {},
     "output_type": "display_data"
    },
    {
     "name": "stdout",
     "output_type": "stream",
     "text": [
      "Step 0/5000, Loss: 0.309782\n",
      "Step 500/5000, Loss: 0.116353\n",
      "Step 1000/5000, Loss: 0.112696\n",
      "Step 1500/5000, Loss: 0.112463\n",
      "Step 2000/5000, Loss: 0.112133\n",
      "Step 2500/5000, Loss: 0.111671\n",
      "Step 3000/5000, Loss: 0.112935\n",
      "Step 3500/5000, Loss: 0.112296\n",
      "Step 4000/5000, Loss: 0.112533\n",
      "Step 4500/5000, Loss: 0.111919\n",
      "Step 4999/5000, Loss: 0.112577\n",
      "\n",
      "Training model with n_hidden = 40, l1_lambda = 0.001\n"
     ]
    },
    {
     "data": {
      "application/vnd.jupyter.widget-view+json": {
       "model_id": "615ff4bf73ff405abf6e2301943dce6c",
       "version_major": 2,
       "version_minor": 0
      },
      "text/plain": [
       "  0%|          | 0/5000 [00:00<?, ?it/s]"
      ]
     },
     "metadata": {},
     "output_type": "display_data"
    },
    {
     "name": "stdout",
     "output_type": "stream",
     "text": [
      "Step 0/5000, Loss: 0.472180\n",
      "Step 500/5000, Loss: 0.117781\n",
      "Step 1000/5000, Loss: 0.111303\n",
      "Step 1500/5000, Loss: 0.110896\n",
      "Step 2000/5000, Loss: 0.111363\n",
      "Step 2500/5000, Loss: 0.110984\n",
      "Step 3000/5000, Loss: 0.110746\n",
      "Step 3500/5000, Loss: 0.111019\n",
      "Step 4000/5000, Loss: 0.111694\n",
      "Step 4500/5000, Loss: 0.110687\n",
      "Step 4999/5000, Loss: 0.110609\n",
      "\n",
      "Training model with n_hidden = 60, l1_lambda = 0.001\n"
     ]
    },
    {
     "data": {
      "application/vnd.jupyter.widget-view+json": {
       "model_id": "ff9a74fa1d374891b902972950ddd26b",
       "version_major": 2,
       "version_minor": 0
      },
      "text/plain": [
       "  0%|          | 0/5000 [00:00<?, ?it/s]"
      ]
     },
     "metadata": {},
     "output_type": "display_data"
    },
    {
     "name": "stdout",
     "output_type": "stream",
     "text": [
      "Step 0/5000, Loss: 0.659253\n",
      "Step 500/5000, Loss: 0.116814\n",
      "Step 1000/5000, Loss: 0.111351\n",
      "Step 1500/5000, Loss: 0.110664\n",
      "Step 2000/5000, Loss: 0.111273\n",
      "Step 2500/5000, Loss: 0.111035\n",
      "Step 3000/5000, Loss: 0.111189\n",
      "Step 3500/5000, Loss: 0.111241\n",
      "Step 4000/5000, Loss: 0.110902\n",
      "Step 4500/5000, Loss: 0.111420\n",
      "Step 4999/5000, Loss: 0.110977\n",
      "\n",
      "Training model with n_hidden = 80, l1_lambda = 0.001\n"
     ]
    },
    {
     "data": {
      "application/vnd.jupyter.widget-view+json": {
       "model_id": "66fef1e73e584cbfaf50e8c79335cf28",
       "version_major": 2,
       "version_minor": 0
      },
      "text/plain": [
       "  0%|          | 0/5000 [00:00<?, ?it/s]"
      ]
     },
     "metadata": {},
     "output_type": "display_data"
    },
    {
     "name": "stdout",
     "output_type": "stream",
     "text": [
      "Step 0/5000, Loss: 0.774492\n",
      "Step 500/5000, Loss: 0.117733\n",
      "Step 1000/5000, Loss: 0.112444\n",
      "Step 1500/5000, Loss: 0.111728\n",
      "Step 2000/5000, Loss: 0.111639\n",
      "Step 2500/5000, Loss: 0.112488\n",
      "Step 3000/5000, Loss: 0.111376\n",
      "Step 3500/5000, Loss: 0.112102\n",
      "Step 4000/5000, Loss: 0.111870\n",
      "Step 4500/5000, Loss: 0.111843\n",
      "Step 4999/5000, Loss: 0.111748\n",
      "\n",
      "Training model with n_hidden = 100, l1_lambda = 0.001\n"
     ]
    },
    {
     "data": {
      "application/vnd.jupyter.widget-view+json": {
       "model_id": "50c0182f568241619a826d9e94c928a8",
       "version_major": 2,
       "version_minor": 0
      },
      "text/plain": [
       "  0%|          | 0/5000 [00:00<?, ?it/s]"
      ]
     },
     "metadata": {},
     "output_type": "display_data"
    },
    {
     "name": "stdout",
     "output_type": "stream",
     "text": [
      "Step 0/5000, Loss: 0.900204\n",
      "Step 500/5000, Loss: 0.118630\n",
      "Step 1000/5000, Loss: 0.112783\n",
      "Step 1500/5000, Loss: 0.111316\n",
      "Step 2000/5000, Loss: 0.111800\n",
      "Step 2500/5000, Loss: 0.111598\n",
      "Step 3000/5000, Loss: 0.111462\n",
      "Step 3500/5000, Loss: 0.112073\n",
      "Step 4000/5000, Loss: 0.112521\n",
      "Step 4500/5000, Loss: 0.111351\n",
      "Step 4999/5000, Loss: 0.112369\n",
      "\n",
      "Training model with n_hidden = 120, l1_lambda = 0.001\n"
     ]
    },
    {
     "data": {
      "application/vnd.jupyter.widget-view+json": {
       "model_id": "c3db94c4cea7477091ad48d5d4cc62a8",
       "version_major": 2,
       "version_minor": 0
      },
      "text/plain": [
       "  0%|          | 0/5000 [00:00<?, ?it/s]"
      ]
     },
     "metadata": {},
     "output_type": "display_data"
    },
    {
     "name": "stdout",
     "output_type": "stream",
     "text": [
      "Step 0/5000, Loss: 1.005609\n",
      "Step 500/5000, Loss: 0.117084\n",
      "Step 1000/5000, Loss: 0.112216\n",
      "Step 1500/5000, Loss: 0.111627\n",
      "Step 2000/5000, Loss: 0.111724\n",
      "Step 2500/5000, Loss: 0.112334\n",
      "Step 3000/5000, Loss: 0.111488\n",
      "Step 3500/5000, Loss: 0.112624\n",
      "Step 4000/5000, Loss: 0.111959\n",
      "Step 4500/5000, Loss: 0.111801\n",
      "Step 4999/5000, Loss: 0.111682\n"
     ]
    }
   ],
   "source": [
    "n_features = 100\n",
    "n_hidden_list = [20, 40, 60, 80, 100, 120]\n",
    "l1_lambda_list = [0.0, 1e-5, 1e-4, 1e-3]\n",
    "results_fgsm = run_experiment(n_features=n_features, n_hidden_list=n_hidden_list, l1_lambda_list=l1_lambda_list, attack_type='fgsm')\n"
   ]
  },
  {
   "cell_type": "code",
   "execution_count": 28,
   "metadata": {},
   "outputs": [],
   "source": [
    "import pandas as pd\n",
    "\n",
    "df_results_fgsm = pd.DataFrame(results_fgsm)"
   ]
  },
  {
   "cell_type": "code",
   "execution_count": 29,
   "metadata": {},
   "outputs": [
    {
     "name": "stdout",
     "output_type": "stream",
     "text": [
      "\n",
      "Results with FGSM Attack:\n"
     ]
    },
    {
     "data": {
      "text/html": [
       "<div>\n",
       "<style scoped>\n",
       "    .dataframe tbody tr th:only-of-type {\n",
       "        vertical-align: middle;\n",
       "    }\n",
       "\n",
       "    .dataframe tbody tr th {\n",
       "        vertical-align: top;\n",
       "    }\n",
       "\n",
       "    .dataframe thead th {\n",
       "        text-align: right;\n",
       "    }\n",
       "</style>\n",
       "<table border=\"1\" class=\"dataframe\">\n",
       "  <thead>\n",
       "    <tr style=\"text-align: right;\">\n",
       "      <th></th>\n",
       "      <th>n_hidden</th>\n",
       "      <th>l1_lambda</th>\n",
       "      <th>loss_clean</th>\n",
       "      <th>loss_adv</th>\n",
       "      <th>superposition</th>\n",
       "      <th>attack_type</th>\n",
       "    </tr>\n",
       "  </thead>\n",
       "  <tbody>\n",
       "    <tr>\n",
       "      <th>0</th>\n",
       "      <td>20</td>\n",
       "      <td>0.00000</td>\n",
       "      <td>7.834062e-02</td>\n",
       "      <td>0.079978</td>\n",
       "      <td>0.386791</td>\n",
       "      <td>fgsm</td>\n",
       "    </tr>\n",
       "    <tr>\n",
       "      <th>1</th>\n",
       "      <td>40</td>\n",
       "      <td>0.00000</td>\n",
       "      <td>5.176623e-02</td>\n",
       "      <td>0.053508</td>\n",
       "      <td>0.060926</td>\n",
       "      <td>fgsm</td>\n",
       "    </tr>\n",
       "    <tr>\n",
       "      <th>2</th>\n",
       "      <td>60</td>\n",
       "      <td>0.00000</td>\n",
       "      <td>3.100025e-02</td>\n",
       "      <td>0.032329</td>\n",
       "      <td>0.015911</td>\n",
       "      <td>fgsm</td>\n",
       "    </tr>\n",
       "    <tr>\n",
       "      <th>3</th>\n",
       "      <td>80</td>\n",
       "      <td>0.00000</td>\n",
       "      <td>1.529017e-02</td>\n",
       "      <td>0.017331</td>\n",
       "      <td>0.019716</td>\n",
       "      <td>fgsm</td>\n",
       "    </tr>\n",
       "    <tr>\n",
       "      <th>4</th>\n",
       "      <td>100</td>\n",
       "      <td>0.00000</td>\n",
       "      <td>1.250535e-10</td>\n",
       "      <td>0.005577</td>\n",
       "      <td>0.000001</td>\n",
       "      <td>fgsm</td>\n",
       "    </tr>\n",
       "    <tr>\n",
       "      <th>5</th>\n",
       "      <td>120</td>\n",
       "      <td>0.00000</td>\n",
       "      <td>5.648365e-07</td>\n",
       "      <td>0.009501</td>\n",
       "      <td>0.000056</td>\n",
       "      <td>fgsm</td>\n",
       "    </tr>\n",
       "    <tr>\n",
       "      <th>6</th>\n",
       "      <td>20</td>\n",
       "      <td>0.00001</td>\n",
       "      <td>7.830914e-02</td>\n",
       "      <td>0.079708</td>\n",
       "      <td>0.388384</td>\n",
       "      <td>fgsm</td>\n",
       "    </tr>\n",
       "    <tr>\n",
       "      <th>7</th>\n",
       "      <td>40</td>\n",
       "      <td>0.00001</td>\n",
       "      <td>5.172765e-02</td>\n",
       "      <td>0.053219</td>\n",
       "      <td>0.060578</td>\n",
       "      <td>fgsm</td>\n",
       "    </tr>\n",
       "    <tr>\n",
       "      <th>8</th>\n",
       "      <td>60</td>\n",
       "      <td>0.00001</td>\n",
       "      <td>3.082087e-02</td>\n",
       "      <td>0.032097</td>\n",
       "      <td>0.015098</td>\n",
       "      <td>fgsm</td>\n",
       "    </tr>\n",
       "    <tr>\n",
       "      <th>9</th>\n",
       "      <td>80</td>\n",
       "      <td>0.00001</td>\n",
       "      <td>1.533855e-02</td>\n",
       "      <td>0.018027</td>\n",
       "      <td>0.024608</td>\n",
       "      <td>fgsm</td>\n",
       "    </tr>\n",
       "    <tr>\n",
       "      <th>10</th>\n",
       "      <td>100</td>\n",
       "      <td>0.00001</td>\n",
       "      <td>1.624842e-06</td>\n",
       "      <td>0.007648</td>\n",
       "      <td>0.000147</td>\n",
       "      <td>fgsm</td>\n",
       "    </tr>\n",
       "    <tr>\n",
       "      <th>11</th>\n",
       "      <td>120</td>\n",
       "      <td>0.00001</td>\n",
       "      <td>1.998952e-06</td>\n",
       "      <td>0.007452</td>\n",
       "      <td>0.000146</td>\n",
       "      <td>fgsm</td>\n",
       "    </tr>\n",
       "    <tr>\n",
       "      <th>12</th>\n",
       "      <td>20</td>\n",
       "      <td>0.00010</td>\n",
       "      <td>7.974494e-02</td>\n",
       "      <td>0.080500</td>\n",
       "      <td>0.169385</td>\n",
       "      <td>fgsm</td>\n",
       "    </tr>\n",
       "    <tr>\n",
       "      <th>13</th>\n",
       "      <td>40</td>\n",
       "      <td>0.00010</td>\n",
       "      <td>5.401500e-02</td>\n",
       "      <td>0.055745</td>\n",
       "      <td>0.116872</td>\n",
       "      <td>fgsm</td>\n",
       "    </tr>\n",
       "    <tr>\n",
       "      <th>14</th>\n",
       "      <td>60</td>\n",
       "      <td>0.00010</td>\n",
       "      <td>3.053533e-02</td>\n",
       "      <td>0.033606</td>\n",
       "      <td>0.013208</td>\n",
       "      <td>fgsm</td>\n",
       "    </tr>\n",
       "    <tr>\n",
       "      <th>15</th>\n",
       "      <td>80</td>\n",
       "      <td>0.00010</td>\n",
       "      <td>1.573564e-02</td>\n",
       "      <td>0.019251</td>\n",
       "      <td>0.004264</td>\n",
       "      <td>fgsm</td>\n",
       "    </tr>\n",
       "    <tr>\n",
       "      <th>16</th>\n",
       "      <td>100</td>\n",
       "      <td>0.00010</td>\n",
       "      <td>4.347386e-05</td>\n",
       "      <td>0.003686</td>\n",
       "      <td>0.000196</td>\n",
       "      <td>fgsm</td>\n",
       "    </tr>\n",
       "    <tr>\n",
       "      <th>17</th>\n",
       "      <td>120</td>\n",
       "      <td>0.00010</td>\n",
       "      <td>4.429154e-05</td>\n",
       "      <td>0.003674</td>\n",
       "      <td>0.000196</td>\n",
       "      <td>fgsm</td>\n",
       "    </tr>\n",
       "    <tr>\n",
       "      <th>18</th>\n",
       "      <td>20</td>\n",
       "      <td>0.00100</td>\n",
       "      <td>9.779126e-02</td>\n",
       "      <td>0.097955</td>\n",
       "      <td>0.876861</td>\n",
       "      <td>fgsm</td>\n",
       "    </tr>\n",
       "    <tr>\n",
       "      <th>19</th>\n",
       "      <td>40</td>\n",
       "      <td>0.00100</td>\n",
       "      <td>8.793812e-02</td>\n",
       "      <td>0.087069</td>\n",
       "      <td>0.703853</td>\n",
       "      <td>fgsm</td>\n",
       "    </tr>\n",
       "    <tr>\n",
       "      <th>20</th>\n",
       "      <td>60</td>\n",
       "      <td>0.00100</td>\n",
       "      <td>8.575010e-02</td>\n",
       "      <td>0.085258</td>\n",
       "      <td>0.671486</td>\n",
       "      <td>fgsm</td>\n",
       "    </tr>\n",
       "    <tr>\n",
       "      <th>21</th>\n",
       "      <td>80</td>\n",
       "      <td>0.00100</td>\n",
       "      <td>8.961731e-02</td>\n",
       "      <td>0.089632</td>\n",
       "      <td>0.736762</td>\n",
       "      <td>fgsm</td>\n",
       "    </tr>\n",
       "    <tr>\n",
       "      <th>22</th>\n",
       "      <td>100</td>\n",
       "      <td>0.00100</td>\n",
       "      <td>8.835684e-02</td>\n",
       "      <td>0.087845</td>\n",
       "      <td>0.720147</td>\n",
       "      <td>fgsm</td>\n",
       "    </tr>\n",
       "    <tr>\n",
       "      <th>23</th>\n",
       "      <td>120</td>\n",
       "      <td>0.00100</td>\n",
       "      <td>8.688872e-02</td>\n",
       "      <td>0.087430</td>\n",
       "      <td>0.703642</td>\n",
       "      <td>fgsm</td>\n",
       "    </tr>\n",
       "  </tbody>\n",
       "</table>\n",
       "</div>"
      ],
      "text/plain": [
       "    n_hidden  l1_lambda    loss_clean  loss_adv  superposition attack_type\n",
       "0         20    0.00000  7.834062e-02  0.079978       0.386791        fgsm\n",
       "1         40    0.00000  5.176623e-02  0.053508       0.060926        fgsm\n",
       "2         60    0.00000  3.100025e-02  0.032329       0.015911        fgsm\n",
       "3         80    0.00000  1.529017e-02  0.017331       0.019716        fgsm\n",
       "4        100    0.00000  1.250535e-10  0.005577       0.000001        fgsm\n",
       "5        120    0.00000  5.648365e-07  0.009501       0.000056        fgsm\n",
       "6         20    0.00001  7.830914e-02  0.079708       0.388384        fgsm\n",
       "7         40    0.00001  5.172765e-02  0.053219       0.060578        fgsm\n",
       "8         60    0.00001  3.082087e-02  0.032097       0.015098        fgsm\n",
       "9         80    0.00001  1.533855e-02  0.018027       0.024608        fgsm\n",
       "10       100    0.00001  1.624842e-06  0.007648       0.000147        fgsm\n",
       "11       120    0.00001  1.998952e-06  0.007452       0.000146        fgsm\n",
       "12        20    0.00010  7.974494e-02  0.080500       0.169385        fgsm\n",
       "13        40    0.00010  5.401500e-02  0.055745       0.116872        fgsm\n",
       "14        60    0.00010  3.053533e-02  0.033606       0.013208        fgsm\n",
       "15        80    0.00010  1.573564e-02  0.019251       0.004264        fgsm\n",
       "16       100    0.00010  4.347386e-05  0.003686       0.000196        fgsm\n",
       "17       120    0.00010  4.429154e-05  0.003674       0.000196        fgsm\n",
       "18        20    0.00100  9.779126e-02  0.097955       0.876861        fgsm\n",
       "19        40    0.00100  8.793812e-02  0.087069       0.703853        fgsm\n",
       "20        60    0.00100  8.575010e-02  0.085258       0.671486        fgsm\n",
       "21        80    0.00100  8.961731e-02  0.089632       0.736762        fgsm\n",
       "22       100    0.00100  8.835684e-02  0.087845       0.720147        fgsm\n",
       "23       120    0.00100  8.688872e-02  0.087430       0.703642        fgsm"
      ]
     },
     "metadata": {},
     "output_type": "display_data"
    }
   ],
   "source": [
    "print(\"\\nResults with FGSM Attack:\")\n",
    "display(df_results_fgsm)"
   ]
  },
  {
   "cell_type": "code",
   "execution_count": 30,
   "metadata": {},
   "outputs": [
    {
     "data": {
      "image/png": "[encoded data removed]",
      "text/plain": [
       "<Figure size 1200x600 with 1 Axes>"
      ]
     },
     "metadata": {},
     "output_type": "display_data"
    }
   ],
   "source": [
    "plt.figure(figsize=(12, 6))\n",
    "sns.lineplot(x='n_hidden', y='loss_adv', hue='l1_lambda', data=df_results_fgsm, marker='o')\n",
    "plt.title('Adversarial Loss vs. Number of Hidden Units (FGSM Attack)')\n",
    "plt.xlabel('Number of Hidden Units')\n",
    "plt.ylabel('Loss on Adversarial Examples')\n",
    "plt.legend(title='L1 Lambda')\n",
    "plt.show()"
   ]
  },
  {
   "cell_type": "code",
   "execution_count": 31,
   "metadata": {},
   "outputs": [
    {
     "data": {
      "image/png": "[encoded data removed]",
      "text/plain": [
       "<Figure size 1200x600 with 1 Axes>"
      ]
     },
     "metadata": {},
     "output_type": "display_data"
    }
   ],
   "source": [
    "plt.figure(figsize=(12, 6))\n",
    "sns.lineplot(x='n_hidden', y='superposition', hue='l1_lambda', data=df_results_fgsm, marker='o')\n",
    "plt.title('Superposition Measure vs. Number of Hidden Units (FGSM Attack)')\n",
    "plt.xlabel('Number of Hidden Units')\n",
    "plt.ylabel('Average Interference (Superposition Measure)')\n",
    "plt.legend(title='L1 Lambda')\n",
    "plt.show()\n"
   ]
  },
  {
   "cell_type": "code",
   "execution_count": 32,
   "metadata": {},
   "outputs": [
    {
     "name": "stdout",
     "output_type": "stream",
     "text": [
      "\n",
      "Training model with n_hidden = 20, l1_lambda = 0.0\n"
     ]
    },
    {
     "data": {
      "application/vnd.jupyter.widget-view+json": {
       "model_id": "72e9de51ac594aa19761dfd257336274",
       "version_major": 2,
       "version_minor": 0
      },
      "text/plain": [
       "  0%|          | 0/5000 [00:00<?, ?it/s]"
      ]
     },
     "metadata": {},
     "output_type": "display_data"
    },
    {
     "name": "stdout",
     "output_type": "stream",
     "text": [
      "Step 0/5000, Loss: 0.110167\n",
      "Step 500/5000, Loss: 0.082850\n",
      "Step 1000/5000, Loss: 0.082267\n",
      "Step 1500/5000, Loss: 0.079760\n",
      "Step 2000/5000, Loss: 0.078622\n",
      "Step 2500/5000, Loss: 0.077817\n",
      "Step 3000/5000, Loss: 0.078435\n",
      "Step 3500/5000, Loss: 0.078357\n",
      "Step 4000/5000, Loss: 0.078748\n",
      "Step 4500/5000, Loss: 0.078286\n",
      "Step 4999/5000, Loss: 0.077936\n",
      "\n",
      "Training model with n_hidden = 40, l1_lambda = 0.0\n"
     ]
    },
    {
     "data": {
      "application/vnd.jupyter.widget-view+json": {
       "model_id": "390407e9ed134130b8f2e611c1034b4c",
       "version_major": 2,
       "version_minor": 0
      },
      "text/plain": [
       "  0%|          | 0/5000 [00:00<?, ?it/s]"
      ]
     },
     "metadata": {},
     "output_type": "display_data"
    },
    {
     "name": "stdout",
     "output_type": "stream",
     "text": [
      "Step 0/5000, Loss: 0.097856\n",
      "Step 500/5000, Loss: 0.058840\n",
      "Step 1000/5000, Loss: 0.057961\n",
      "Step 1500/5000, Loss: 0.054954\n",
      "Step 2000/5000, Loss: 0.051805\n",
      "Step 2500/5000, Loss: 0.051245\n",
      "Step 3000/5000, Loss: 0.051754\n",
      "Step 3500/5000, Loss: 0.051920\n",
      "Step 4000/5000, Loss: 0.052550\n",
      "Step 4500/5000, Loss: 0.051260\n",
      "Step 4999/5000, Loss: 0.052259\n",
      "\n",
      "Training model with n_hidden = 60, l1_lambda = 0.0\n"
     ]
    },
    {
     "data": {
      "application/vnd.jupyter.widget-view+json": {
       "model_id": "bb7ed2c4fd044f7dba17a5a5f519a504",
       "version_major": 2,
       "version_minor": 0
      },
      "text/plain": [
       "  0%|          | 0/5000 [00:00<?, ?it/s]"
      ]
     },
     "metadata": {},
     "output_type": "display_data"
    },
    {
     "name": "stdout",
     "output_type": "stream",
     "text": [
      "Step 0/5000, Loss: 0.086611\n",
      "Step 500/5000, Loss: 0.036678\n",
      "Step 1000/5000, Loss: 0.033411\n",
      "Step 1500/5000, Loss: 0.031011\n",
      "Step 2000/5000, Loss: 0.030408\n",
      "Step 2500/5000, Loss: 0.031011\n",
      "Step 3000/5000, Loss: 0.029931\n",
      "Step 3500/5000, Loss: 0.030104\n",
      "Step 4000/5000, Loss: 0.031152\n",
      "Step 4500/5000, Loss: 0.030271\n",
      "Step 4999/5000, Loss: 0.030354\n",
      "\n",
      "Training model with n_hidden = 80, l1_lambda = 0.0\n"
     ]
    },
    {
     "data": {
      "application/vnd.jupyter.widget-view+json": {
       "model_id": "9adb8dd7001143b3b781801520b28bdf",
       "version_major": 2,
       "version_minor": 0
      },
      "text/plain": [
       "  0%|          | 0/5000 [00:00<?, ?it/s]"
      ]
     },
     "metadata": {},
     "output_type": "display_data"
    },
    {
     "name": "stdout",
     "output_type": "stream",
     "text": [
      "Step 0/5000, Loss: 0.100595\n",
      "Step 500/5000, Loss: 0.016027\n",
      "Step 1000/5000, Loss: 0.015534\n",
      "Step 1500/5000, Loss: 0.015500\n",
      "Step 2000/5000, Loss: 0.015181\n",
      "Step 2500/5000, Loss: 0.015024\n",
      "Step 3000/5000, Loss: 0.015255\n",
      "Step 3500/5000, Loss: 0.015107\n",
      "Step 4000/5000, Loss: 0.015076\n",
      "Step 4500/5000, Loss: 0.015014\n",
      "Step 4999/5000, Loss: 0.014900\n",
      "\n",
      "Training model with n_hidden = 100, l1_lambda = 0.0\n"
     ]
    },
    {
     "data": {
      "application/vnd.jupyter.widget-view+json": {
       "model_id": "da4bba108d554cae9368411f7e26967d",
       "version_major": 2,
       "version_minor": 0
      },
      "text/plain": [
       "  0%|          | 0/5000 [00:00<?, ?it/s]"
      ]
     },
     "metadata": {},
     "output_type": "display_data"
    },
    {
     "name": "stdout",
     "output_type": "stream",
     "text": [
      "Step 0/5000, Loss: 0.089031\n",
      "Step 500/5000, Loss: 0.000002\n",
      "Step 1000/5000, Loss: 0.000000\n",
      "Step 1500/5000, Loss: 0.000000\n",
      "Step 2000/5000, Loss: 0.000000\n",
      "Step 2500/5000, Loss: 0.000000\n",
      "Step 3000/5000, Loss: 0.000000\n",
      "Step 3500/5000, Loss: 0.000008\n",
      "Step 4000/5000, Loss: 0.000000\n",
      "Step 4500/5000, Loss: 0.000000\n",
      "Step 4999/5000, Loss: 0.000000\n",
      "\n",
      "Training model with n_hidden = 120, l1_lambda = 0.0\n"
     ]
    },
    {
     "data": {
      "application/vnd.jupyter.widget-view+json": {
       "model_id": "61de6cf22161445ea1cf03cf5c3114c2",
       "version_major": 2,
       "version_minor": 0
      },
      "text/plain": [
       "  0%|          | 0/5000 [00:00<?, ?it/s]"
      ]
     },
     "metadata": {},
     "output_type": "display_data"
    },
    {
     "name": "stdout",
     "output_type": "stream",
     "text": [
      "Step 0/5000, Loss: 0.129535\n",
      "Step 500/5000, Loss: 0.000002\n",
      "Step 1000/5000, Loss: 0.000000\n",
      "Step 1500/5000, Loss: 0.000000\n",
      "Step 2000/5000, Loss: 0.000000\n",
      "Step 2500/5000, Loss: 0.000000\n",
      "Step 3000/5000, Loss: 0.000000\n",
      "Step 3500/5000, Loss: 0.000000\n",
      "Step 4000/5000, Loss: 0.000001\n",
      "Step 4500/5000, Loss: 0.000000\n",
      "Step 4999/5000, Loss: 0.000000\n",
      "\n",
      "Training model with n_hidden = 20, l1_lambda = 1e-05\n"
     ]
    },
    {
     "data": {
      "application/vnd.jupyter.widget-view+json": {
       "model_id": "6ad54f6a4d734ef78a2510a7583018c2",
       "version_major": 2,
       "version_minor": 0
      },
      "text/plain": [
       "  0%|          | 0/5000 [00:00<?, ?it/s]"
      ]
     },
     "metadata": {},
     "output_type": "display_data"
    },
    {
     "name": "stdout",
     "output_type": "stream",
     "text": [
      "Step 0/5000, Loss: 0.114196\n",
      "Step 500/5000, Loss: 0.084517\n",
      "Step 1000/5000, Loss: 0.083157\n",
      "Step 1500/5000, Loss: 0.081194\n",
      "Step 2000/5000, Loss: 0.080144\n",
      "Step 2500/5000, Loss: 0.079859\n",
      "Step 3000/5000, Loss: 0.079434\n",
      "Step 3500/5000, Loss: 0.079336\n",
      "Step 4000/5000, Loss: 0.079408\n",
      "Step 4500/5000, Loss: 0.079252\n",
      "Step 4999/5000, Loss: 0.079077\n",
      "\n",
      "Training model with n_hidden = 40, l1_lambda = 1e-05\n"
     ]
    },
    {
     "data": {
      "application/vnd.jupyter.widget-view+json": {
       "model_id": "b6eb6cb342c245168301c8a88cd1a2bb",
       "version_major": 2,
       "version_minor": 0
      },
      "text/plain": [
       "  0%|          | 0/5000 [00:00<?, ?it/s]"
      ]
     },
     "metadata": {},
     "output_type": "display_data"
    },
    {
     "name": "stdout",
     "output_type": "stream",
     "text": [
      "Step 0/5000, Loss: 0.110387\n",
      "Step 500/5000, Loss: 0.062574\n",
      "Step 1000/5000, Loss: 0.061707\n",
      "Step 1500/5000, Loss: 0.059619\n",
      "Step 2000/5000, Loss: 0.057473\n",
      "Step 2500/5000, Loss: 0.054803\n",
      "Step 3000/5000, Loss: 0.054634\n",
      "Step 3500/5000, Loss: 0.054591\n",
      "Step 4000/5000, Loss: 0.054490\n",
      "Step 4500/5000, Loss: 0.054036\n",
      "Step 4999/5000, Loss: 0.053551\n",
      "\n",
      "Training model with n_hidden = 60, l1_lambda = 1e-05\n"
     ]
    },
    {
     "data": {
      "application/vnd.jupyter.widget-view+json": {
       "model_id": "df915a30ed314857aa5571a1ff4dc66a",
       "version_major": 2,
       "version_minor": 0
      },
      "text/plain": [
       "  0%|          | 0/5000 [00:00<?, ?it/s]"
      ]
     },
     "metadata": {},
     "output_type": "display_data"
    },
    {
     "name": "stdout",
     "output_type": "stream",
     "text": [
      "Step 0/5000, Loss: 0.138339\n",
      "Step 500/5000, Loss: 0.041721\n",
      "Step 1000/5000, Loss: 0.040474\n",
      "Step 1500/5000, Loss: 0.038858\n",
      "Step 2000/5000, Loss: 0.036806\n",
      "Step 2500/5000, Loss: 0.035622\n",
      "Step 3000/5000, Loss: 0.034598\n",
      "Step 3500/5000, Loss: 0.034412\n",
      "Step 4000/5000, Loss: 0.034467\n",
      "Step 4500/5000, Loss: 0.034204\n",
      "Step 4999/5000, Loss: 0.033970\n",
      "\n",
      "Training model with n_hidden = 80, l1_lambda = 1e-05\n"
     ]
    },
    {
     "data": {
      "application/vnd.jupyter.widget-view+json": {
       "model_id": "224b7152d4624d84914eed0b4fc7cd22",
       "version_major": 2,
       "version_minor": 0
      },
      "text/plain": [
       "  0%|          | 0/5000 [00:00<?, ?it/s]"
      ]
     },
     "metadata": {},
     "output_type": "display_data"
    },
    {
     "name": "stdout",
     "output_type": "stream",
     "text": [
      "Step 0/5000, Loss: 0.115316\n",
      "Step 500/5000, Loss: 0.022697\n",
      "Step 1000/5000, Loss: 0.022042\n",
      "Step 1500/5000, Loss: 0.021252\n",
      "Step 2000/5000, Loss: 0.020765\n",
      "Step 2500/5000, Loss: 0.020405\n",
      "Step 3000/5000, Loss: 0.020322\n",
      "Step 3500/5000, Loss: 0.019952\n",
      "Step 4000/5000, Loss: 0.019801\n",
      "Step 4500/5000, Loss: 0.019687\n",
      "Step 4999/5000, Loss: 0.019337\n",
      "\n",
      "Training model with n_hidden = 100, l1_lambda = 1e-05\n"
     ]
    },
    {
     "data": {
      "application/vnd.jupyter.widget-view+json": {
       "model_id": "ebe85006c0604165b2f6ea98942ef738",
       "version_major": 2,
       "version_minor": 0
      },
      "text/plain": [
       "  0%|          | 0/5000 [00:00<?, ?it/s]"
      ]
     },
     "metadata": {},
     "output_type": "display_data"
    },
    {
     "name": "stdout",
     "output_type": "stream",
     "text": [
      "Step 0/5000, Loss: 0.144199\n",
      "Step 500/5000, Loss: 0.007690\n",
      "Step 1000/5000, Loss: 0.007039\n",
      "Step 1500/5000, Loss: 0.006424\n",
      "Step 2000/5000, Loss: 0.005910\n",
      "Step 2500/5000, Loss: 0.005481\n",
      "Step 3000/5000, Loss: 0.005054\n",
      "Step 3500/5000, Loss: 0.004597\n",
      "Step 4000/5000, Loss: 0.003929\n",
      "Step 4500/5000, Loss: 0.002706\n",
      "Step 4999/5000, Loss: 0.001581\n",
      "\n",
      "Training model with n_hidden = 120, l1_lambda = 1e-05\n"
     ]
    },
    {
     "data": {
      "application/vnd.jupyter.widget-view+json": {
       "model_id": "0981b80624844bcf8aef8b2b6c527626",
       "version_major": 2,
       "version_minor": 0
      },
      "text/plain": [
       "  0%|          | 0/5000 [00:00<?, ?it/s]"
      ]
     },
     "metadata": {},
     "output_type": "display_data"
    },
    {
     "name": "stdout",
     "output_type": "stream",
     "text": [
      "Step 0/5000, Loss: 0.127977\n",
      "Step 500/5000, Loss: 0.008118\n",
      "Step 1000/5000, Loss: 0.007200\n",
      "Step 1500/5000, Loss: 0.006448\n",
      "Step 2000/5000, Loss: 0.005812\n",
      "Step 2500/5000, Loss: 0.005266\n",
      "Step 3000/5000, Loss: 0.004622\n",
      "Step 3500/5000, Loss: 0.003315\n",
      "Step 4000/5000, Loss: 0.001850\n",
      "Step 4500/5000, Loss: 0.001285\n",
      "Step 4999/5000, Loss: 0.001146\n",
      "\n",
      "Training model with n_hidden = 20, l1_lambda = 0.0001\n"
     ]
    },
    {
     "data": {
      "application/vnd.jupyter.widget-view+json": {
       "model_id": "a4e6c203431149b9b7f384c05f22176b",
       "version_major": 2,
       "version_minor": 0
      },
      "text/plain": [
       "  0%|          | 0/5000 [00:00<?, ?it/s]"
      ]
     },
     "metadata": {},
     "output_type": "display_data"
    },
    {
     "name": "stdout",
     "output_type": "stream",
     "text": [
      "Step 0/5000, Loss: 0.135200\n",
      "Step 500/5000, Loss: 0.091202\n",
      "Step 1000/5000, Loss: 0.087573\n",
      "Step 1500/5000, Loss: 0.085938\n",
      "Step 2000/5000, Loss: 0.085446\n",
      "Step 2500/5000, Loss: 0.084507\n",
      "Step 3000/5000, Loss: 0.083934\n",
      "Step 3500/5000, Loss: 0.084489\n",
      "Step 4000/5000, Loss: 0.084082\n",
      "Step 4500/5000, Loss: 0.083171\n",
      "Step 4999/5000, Loss: 0.084264\n",
      "\n",
      "Training model with n_hidden = 40, l1_lambda = 0.0001\n"
     ]
    },
    {
     "data": {
      "application/vnd.jupyter.widget-view+json": {
       "model_id": "7bff20dfbdbf4e2dbd6bef870e499e1b",
       "version_major": 2,
       "version_minor": 0
      },
      "text/plain": [
       "  0%|          | 0/5000 [00:00<?, ?it/s]"
      ]
     },
     "metadata": {},
     "output_type": "display_data"
    },
    {
     "name": "stdout",
     "output_type": "stream",
     "text": [
      "Step 0/5000, Loss: 0.135348\n",
      "Step 500/5000, Loss: 0.077109\n",
      "Step 1000/5000, Loss: 0.069474\n",
      "Step 1500/5000, Loss: 0.063511\n",
      "Step 2000/5000, Loss: 0.062421\n",
      "Step 2500/5000, Loss: 0.061324\n",
      "Step 3000/5000, Loss: 0.061539\n",
      "Step 3500/5000, Loss: 0.060849\n",
      "Step 4000/5000, Loss: 0.061623\n",
      "Step 4500/5000, Loss: 0.062045\n",
      "Step 4999/5000, Loss: 0.061598\n",
      "\n",
      "Training model with n_hidden = 60, l1_lambda = 0.0001\n"
     ]
    },
    {
     "data": {
      "application/vnd.jupyter.widget-view+json": {
       "model_id": "b7bde44eee554f7ea4b25f470f02607a",
       "version_major": 2,
       "version_minor": 0
      },
      "text/plain": [
       "  0%|          | 0/5000 [00:00<?, ?it/s]"
      ]
     },
     "metadata": {},
     "output_type": "display_data"
    },
    {
     "name": "stdout",
     "output_type": "stream",
     "text": [
      "Step 0/5000, Loss: 0.154697\n",
      "Step 500/5000, Loss: 0.066844\n",
      "Step 1000/5000, Loss: 0.054626\n",
      "Step 1500/5000, Loss: 0.047572\n",
      "Step 2000/5000, Loss: 0.043847\n",
      "Step 2500/5000, Loss: 0.043107\n",
      "Step 3000/5000, Loss: 0.042969\n",
      "Step 3500/5000, Loss: 0.042488\n",
      "Step 4000/5000, Loss: 0.042005\n",
      "Step 4500/5000, Loss: 0.041687\n",
      "Step 4999/5000, Loss: 0.041835\n",
      "\n",
      "Training model with n_hidden = 80, l1_lambda = 0.0001\n"
     ]
    },
    {
     "data": {
      "application/vnd.jupyter.widget-view+json": {
       "model_id": "dfcae031a38d4d1dbe3e3d506a41390a",
       "version_major": 2,
       "version_minor": 0
      },
      "text/plain": [
       "  0%|          | 0/5000 [00:00<?, ?it/s]"
      ]
     },
     "metadata": {},
     "output_type": "display_data"
    },
    {
     "name": "stdout",
     "output_type": "stream",
     "text": [
      "Step 0/5000, Loss: 0.186109\n",
      "Step 500/5000, Loss: 0.059705\n",
      "Step 1000/5000, Loss: 0.044703\n",
      "Step 1500/5000, Loss: 0.031493\n",
      "Step 2000/5000, Loss: 0.028299\n",
      "Step 2500/5000, Loss: 0.027184\n",
      "Step 3000/5000, Loss: 0.026045\n",
      "Step 3500/5000, Loss: 0.025804\n",
      "Step 4000/5000, Loss: 0.025091\n",
      "Step 4500/5000, Loss: 0.025798\n",
      "Step 4999/5000, Loss: 0.025552\n",
      "\n",
      "Training model with n_hidden = 100, l1_lambda = 0.0001\n"
     ]
    },
    {
     "data": {
      "application/vnd.jupyter.widget-view+json": {
       "model_id": "5e1fb3da729940afaa99707c22c7d6d4",
       "version_major": 2,
       "version_minor": 0
      },
      "text/plain": [
       "  0%|          | 0/5000 [00:00<?, ?it/s]"
      ]
     },
     "metadata": {},
     "output_type": "display_data"
    },
    {
     "name": "stdout",
     "output_type": "stream",
     "text": [
      "Step 0/5000, Loss: 0.214741\n",
      "Step 500/5000, Loss: 0.052766\n",
      "Step 1000/5000, Loss: 0.036385\n",
      "Step 1500/5000, Loss: 0.016254\n",
      "Step 2000/5000, Loss: 0.012129\n",
      "Step 2500/5000, Loss: 0.010770\n",
      "Step 3000/5000, Loss: 0.010274\n",
      "Step 3500/5000, Loss: 0.010109\n",
      "Step 4000/5000, Loss: 0.010080\n",
      "Step 4500/5000, Loss: 0.010080\n",
      "Step 4999/5000, Loss: 0.010079\n",
      "\n",
      "Training model with n_hidden = 120, l1_lambda = 0.0001\n"
     ]
    },
    {
     "data": {
      "application/vnd.jupyter.widget-view+json": {
       "model_id": "9a86063fad574c339b81d6ea82144eae",
       "version_major": 2,
       "version_minor": 0
      },
      "text/plain": [
       "  0%|          | 0/5000 [00:00<?, ?it/s]"
      ]
     },
     "metadata": {},
     "output_type": "display_data"
    },
    {
     "name": "stdout",
     "output_type": "stream",
     "text": [
      "Step 0/5000, Loss: 0.211108\n",
      "Step 500/5000, Loss: 0.051662\n",
      "Step 1000/5000, Loss: 0.026755\n",
      "Step 1500/5000, Loss: 0.012736\n",
      "Step 2000/5000, Loss: 0.011014\n",
      "Step 2500/5000, Loss: 0.010479\n",
      "Step 3000/5000, Loss: 0.010135\n",
      "Step 3500/5000, Loss: 0.010101\n",
      "Step 4000/5000, Loss: 0.010101\n",
      "Step 4500/5000, Loss: 0.010099\n",
      "Step 4999/5000, Loss: 0.010102\n",
      "\n",
      "Training model with n_hidden = 20, l1_lambda = 0.001\n"
     ]
    },
    {
     "data": {
      "application/vnd.jupyter.widget-view+json": {
       "model_id": "d40f0a94eccd442395c8a195686e4d5f",
       "version_major": 2,
       "version_minor": 0
      },
      "text/plain": [
       "  0%|          | 0/5000 [00:00<?, ?it/s]"
      ]
     },
     "metadata": {},
     "output_type": "display_data"
    },
    {
     "name": "stdout",
     "output_type": "stream",
     "text": [
      "Step 0/5000, Loss: 0.320419\n",
      "Step 500/5000, Loss: 0.115241\n",
      "Step 1000/5000, Loss: 0.112025\n",
      "Step 1500/5000, Loss: 0.111105\n",
      "Step 2000/5000, Loss: 0.111913\n",
      "Step 2500/5000, Loss: 0.111236\n",
      "Step 3000/5000, Loss: 0.111162\n",
      "Step 3500/5000, Loss: 0.111712\n",
      "Step 4000/5000, Loss: 0.111970\n",
      "Step 4500/5000, Loss: 0.111691\n",
      "Step 4999/5000, Loss: 0.111253\n",
      "\n",
      "Training model with n_hidden = 40, l1_lambda = 0.001\n"
     ]
    },
    {
     "data": {
      "application/vnd.jupyter.widget-view+json": {
       "model_id": "423fcec992be40ff9701eef4a328805e",
       "version_major": 2,
       "version_minor": 0
      },
      "text/plain": [
       "  0%|          | 0/5000 [00:00<?, ?it/s]"
      ]
     },
     "metadata": {},
     "output_type": "display_data"
    },
    {
     "name": "stdout",
     "output_type": "stream",
     "text": [
      "Step 0/5000, Loss: 0.488869\n",
      "Step 500/5000, Loss: 0.116616\n",
      "Step 1000/5000, Loss: 0.112101\n",
      "Step 1500/5000, Loss: 0.110970\n",
      "Step 2000/5000, Loss: 0.111886\n",
      "Step 2500/5000, Loss: 0.111238\n",
      "Step 3000/5000, Loss: 0.112051\n",
      "Step 3500/5000, Loss: 0.111985\n",
      "Step 4000/5000, Loss: 0.111672\n",
      "Step 4500/5000, Loss: 0.111469\n",
      "Step 4999/5000, Loss: 0.111735\n",
      "\n",
      "Training model with n_hidden = 60, l1_lambda = 0.001\n"
     ]
    },
    {
     "data": {
      "application/vnd.jupyter.widget-view+json": {
       "model_id": "26ab37c3e7ce4982b5c0ca74b8a54056",
       "version_major": 2,
       "version_minor": 0
      },
      "text/plain": [
       "  0%|          | 0/5000 [00:00<?, ?it/s]"
      ]
     },
     "metadata": {},
     "output_type": "display_data"
    },
    {
     "name": "stdout",
     "output_type": "stream",
     "text": [
      "Step 0/5000, Loss: 0.623110\n",
      "Step 500/5000, Loss: 0.116894\n",
      "Step 1000/5000, Loss: 0.111450\n",
      "Step 1500/5000, Loss: 0.111599\n",
      "Step 2000/5000, Loss: 0.110809\n",
      "Step 2500/5000, Loss: 0.110842\n",
      "Step 3000/5000, Loss: 0.111576\n",
      "Step 3500/5000, Loss: 0.110827\n",
      "Step 4000/5000, Loss: 0.110850\n",
      "Step 4500/5000, Loss: 0.111069\n",
      "Step 4999/5000, Loss: 0.111337\n",
      "\n",
      "Training model with n_hidden = 80, l1_lambda = 0.001\n"
     ]
    },
    {
     "data": {
      "application/vnd.jupyter.widget-view+json": {
       "model_id": "d8a2c5ee4c1b404f98e0934994602439",
       "version_major": 2,
       "version_minor": 0
      },
      "text/plain": [
       "  0%|          | 0/5000 [00:00<?, ?it/s]"
      ]
     },
     "metadata": {},
     "output_type": "display_data"
    },
    {
     "name": "stdout",
     "output_type": "stream",
     "text": [
      "Step 0/5000, Loss: 0.768277\n",
      "Step 500/5000, Loss: 0.116731\n",
      "Step 1000/5000, Loss: 0.112061\n",
      "Step 1500/5000, Loss: 0.111745\n",
      "Step 2000/5000, Loss: 0.111205\n",
      "Step 2500/5000, Loss: 0.111523\n",
      "Step 3000/5000, Loss: 0.111803\n",
      "Step 3500/5000, Loss: 0.112162\n",
      "Step 4000/5000, Loss: 0.111675\n",
      "Step 4500/5000, Loss: 0.112166\n",
      "Step 4999/5000, Loss: 0.111605\n",
      "\n",
      "Training model with n_hidden = 100, l1_lambda = 0.001\n"
     ]
    },
    {
     "data": {
      "application/vnd.jupyter.widget-view+json": {
       "model_id": "d9f7d879850b4039ab0228ee4017729e",
       "version_major": 2,
       "version_minor": 0
      },
      "text/plain": [
       "  0%|          | 0/5000 [00:00<?, ?it/s]"
      ]
     },
     "metadata": {},
     "output_type": "display_data"
    },
    {
     "name": "stdout",
     "output_type": "stream",
     "text": [
      "Step 0/5000, Loss: 0.914847\n",
      "Step 500/5000, Loss: 0.116288\n",
      "Step 1000/5000, Loss: 0.112423\n",
      "Step 1500/5000, Loss: 0.112786\n",
      "Step 2000/5000, Loss: 0.112060\n",
      "Step 2500/5000, Loss: 0.112471\n",
      "Step 3000/5000, Loss: 0.111941\n",
      "Step 3500/5000, Loss: 0.112244\n",
      "Step 4000/5000, Loss: 0.112804\n",
      "Step 4500/5000, Loss: 0.112877\n",
      "Step 4999/5000, Loss: 0.112247\n",
      "\n",
      "Training model with n_hidden = 120, l1_lambda = 0.001\n"
     ]
    },
    {
     "data": {
      "application/vnd.jupyter.widget-view+json": {
       "model_id": "6dab362c309045c084bb648c625e65f8",
       "version_major": 2,
       "version_minor": 0
      },
      "text/plain": [
       "  0%|          | 0/5000 [00:00<?, ?it/s]"
      ]
     },
     "metadata": {},
     "output_type": "display_data"
    },
    {
     "name": "stdout",
     "output_type": "stream",
     "text": [
      "Step 0/5000, Loss: 1.035306\n",
      "Step 500/5000, Loss: 0.119078\n",
      "Step 1000/5000, Loss: 0.112156\n",
      "Step 1500/5000, Loss: 0.112144\n",
      "Step 2000/5000, Loss: 0.112202\n",
      "Step 2500/5000, Loss: 0.112039\n",
      "Step 3000/5000, Loss: 0.111864\n",
      "Step 3500/5000, Loss: 0.112345\n",
      "Step 4000/5000, Loss: 0.112187\n",
      "Step 4500/5000, Loss: 0.112491\n",
      "Step 4999/5000, Loss: 0.113636\n"
     ]
    }
   ],
   "source": [
    "results_pgd = run_experiment(n_features=n_features, n_hidden_list=n_hidden_list, l1_lambda_list=l1_lambda_list, attack_type='pgd')\n"
   ]
  },
  {
   "cell_type": "code",
   "execution_count": 33,
   "metadata": {},
   "outputs": [
    {
     "name": "stdout",
     "output_type": "stream",
     "text": [
      "\n",
      "Results with PGD Attack:\n"
     ]
    },
    {
     "data": {
      "text/html": [
       "<div>\n",
       "<style scoped>\n",
       "    .dataframe tbody tr th:only-of-type {\n",
       "        vertical-align: middle;\n",
       "    }\n",
       "\n",
       "    .dataframe tbody tr th {\n",
       "        vertical-align: top;\n",
       "    }\n",
       "\n",
       "    .dataframe thead th {\n",
       "        text-align: right;\n",
       "    }\n",
       "</style>\n",
       "<table border=\"1\" class=\"dataframe\">\n",
       "  <thead>\n",
       "    <tr style=\"text-align: right;\">\n",
       "      <th></th>\n",
       "      <th>n_hidden</th>\n",
       "      <th>l1_lambda</th>\n",
       "      <th>loss_clean</th>\n",
       "      <th>loss_adv</th>\n",
       "      <th>superposition</th>\n",
       "      <th>attack_type</th>\n",
       "    </tr>\n",
       "  </thead>\n",
       "  <tbody>\n",
       "    <tr>\n",
       "      <th>0</th>\n",
       "      <td>20</td>\n",
       "      <td>0.00000</td>\n",
       "      <td>7.790068e-02</td>\n",
       "      <td>0.090089</td>\n",
       "      <td>0.385932</td>\n",
       "      <td>pgd</td>\n",
       "    </tr>\n",
       "    <tr>\n",
       "      <th>1</th>\n",
       "      <td>40</td>\n",
       "      <td>0.00000</td>\n",
       "      <td>5.150755e-02</td>\n",
       "      <td>0.066167</td>\n",
       "      <td>0.060899</td>\n",
       "      <td>pgd</td>\n",
       "    </tr>\n",
       "    <tr>\n",
       "      <th>2</th>\n",
       "      <td>60</td>\n",
       "      <td>0.00000</td>\n",
       "      <td>3.100521e-02</td>\n",
       "      <td>0.046083</td>\n",
       "      <td>0.015705</td>\n",
       "      <td>pgd</td>\n",
       "    </tr>\n",
       "    <tr>\n",
       "      <th>3</th>\n",
       "      <td>80</td>\n",
       "      <td>0.00000</td>\n",
       "      <td>1.509725e-02</td>\n",
       "      <td>0.028387</td>\n",
       "      <td>0.019771</td>\n",
       "      <td>pgd</td>\n",
       "    </tr>\n",
       "    <tr>\n",
       "      <th>4</th>\n",
       "      <td>100</td>\n",
       "      <td>0.00000</td>\n",
       "      <td>2.140367e-07</td>\n",
       "      <td>0.009615</td>\n",
       "      <td>0.000029</td>\n",
       "      <td>pgd</td>\n",
       "    </tr>\n",
       "    <tr>\n",
       "      <th>5</th>\n",
       "      <td>120</td>\n",
       "      <td>0.00000</td>\n",
       "      <td>1.237663e-07</td>\n",
       "      <td>0.009471</td>\n",
       "      <td>0.000034</td>\n",
       "      <td>pgd</td>\n",
       "    </tr>\n",
       "    <tr>\n",
       "      <th>6</th>\n",
       "      <td>20</td>\n",
       "      <td>0.00001</td>\n",
       "      <td>7.761912e-02</td>\n",
       "      <td>0.087836</td>\n",
       "      <td>0.388487</td>\n",
       "      <td>pgd</td>\n",
       "    </tr>\n",
       "    <tr>\n",
       "      <th>7</th>\n",
       "      <td>40</td>\n",
       "      <td>0.00001</td>\n",
       "      <td>5.176629e-02</td>\n",
       "      <td>0.066121</td>\n",
       "      <td>0.060761</td>\n",
       "      <td>pgd</td>\n",
       "    </tr>\n",
       "    <tr>\n",
       "      <th>8</th>\n",
       "      <td>60</td>\n",
       "      <td>0.00001</td>\n",
       "      <td>3.051764e-02</td>\n",
       "      <td>0.046220</td>\n",
       "      <td>0.015463</td>\n",
       "      <td>pgd</td>\n",
       "    </tr>\n",
       "    <tr>\n",
       "      <th>9</th>\n",
       "      <td>80</td>\n",
       "      <td>0.00001</td>\n",
       "      <td>1.545070e-02</td>\n",
       "      <td>0.028192</td>\n",
       "      <td>0.024669</td>\n",
       "      <td>pgd</td>\n",
       "    </tr>\n",
       "    <tr>\n",
       "      <th>10</th>\n",
       "      <td>100</td>\n",
       "      <td>0.00001</td>\n",
       "      <td>5.447262e-06</td>\n",
       "      <td>0.009803</td>\n",
       "      <td>0.000307</td>\n",
       "      <td>pgd</td>\n",
       "    </tr>\n",
       "    <tr>\n",
       "      <th>11</th>\n",
       "      <td>120</td>\n",
       "      <td>0.00001</td>\n",
       "      <td>1.283694e-06</td>\n",
       "      <td>0.009832</td>\n",
       "      <td>0.000142</td>\n",
       "      <td>pgd</td>\n",
       "    </tr>\n",
       "    <tr>\n",
       "      <th>12</th>\n",
       "      <td>20</td>\n",
       "      <td>0.00010</td>\n",
       "      <td>8.027778e-02</td>\n",
       "      <td>0.087907</td>\n",
       "      <td>0.343997</td>\n",
       "      <td>pgd</td>\n",
       "    </tr>\n",
       "    <tr>\n",
       "      <th>13</th>\n",
       "      <td>40</td>\n",
       "      <td>0.00010</td>\n",
       "      <td>5.331264e-02</td>\n",
       "      <td>0.064295</td>\n",
       "      <td>0.080985</td>\n",
       "      <td>pgd</td>\n",
       "    </tr>\n",
       "    <tr>\n",
       "      <th>14</th>\n",
       "      <td>60</td>\n",
       "      <td>0.00010</td>\n",
       "      <td>3.151270e-02</td>\n",
       "      <td>0.045125</td>\n",
       "      <td>0.015132</td>\n",
       "      <td>pgd</td>\n",
       "    </tr>\n",
       "    <tr>\n",
       "      <th>15</th>\n",
       "      <td>80</td>\n",
       "      <td>0.00010</td>\n",
       "      <td>1.545903e-02</td>\n",
       "      <td>0.028204</td>\n",
       "      <td>0.004267</td>\n",
       "      <td>pgd</td>\n",
       "    </tr>\n",
       "    <tr>\n",
       "      <th>16</th>\n",
       "      <td>100</td>\n",
       "      <td>0.00010</td>\n",
       "      <td>4.381925e-05</td>\n",
       "      <td>0.010631</td>\n",
       "      <td>0.000198</td>\n",
       "      <td>pgd</td>\n",
       "    </tr>\n",
       "    <tr>\n",
       "      <th>17</th>\n",
       "      <td>120</td>\n",
       "      <td>0.00010</td>\n",
       "      <td>4.314482e-05</td>\n",
       "      <td>0.010629</td>\n",
       "      <td>0.000199</td>\n",
       "      <td>pgd</td>\n",
       "    </tr>\n",
       "    <tr>\n",
       "      <th>18</th>\n",
       "      <td>20</td>\n",
       "      <td>0.00100</td>\n",
       "      <td>9.277424e-02</td>\n",
       "      <td>0.097090</td>\n",
       "      <td>0.787903</td>\n",
       "      <td>pgd</td>\n",
       "    </tr>\n",
       "    <tr>\n",
       "      <th>19</th>\n",
       "      <td>40</td>\n",
       "      <td>0.00100</td>\n",
       "      <td>9.192791e-02</td>\n",
       "      <td>0.095892</td>\n",
       "      <td>0.770674</td>\n",
       "      <td>pgd</td>\n",
       "    </tr>\n",
       "    <tr>\n",
       "      <th>20</th>\n",
       "      <td>60</td>\n",
       "      <td>0.00100</td>\n",
       "      <td>8.573369e-02</td>\n",
       "      <td>0.091415</td>\n",
       "      <td>0.671501</td>\n",
       "      <td>pgd</td>\n",
       "    </tr>\n",
       "    <tr>\n",
       "      <th>21</th>\n",
       "      <td>80</td>\n",
       "      <td>0.00100</td>\n",
       "      <td>8.942498e-02</td>\n",
       "      <td>0.093142</td>\n",
       "      <td>0.720171</td>\n",
       "      <td>pgd</td>\n",
       "    </tr>\n",
       "    <tr>\n",
       "      <th>22</th>\n",
       "      <td>100</td>\n",
       "      <td>0.00100</td>\n",
       "      <td>9.183639e-02</td>\n",
       "      <td>0.095827</td>\n",
       "      <td>0.770651</td>\n",
       "      <td>pgd</td>\n",
       "    </tr>\n",
       "    <tr>\n",
       "      <th>23</th>\n",
       "      <td>120</td>\n",
       "      <td>0.00100</td>\n",
       "      <td>8.981167e-02</td>\n",
       "      <td>0.094514</td>\n",
       "      <td>0.736674</td>\n",
       "      <td>pgd</td>\n",
       "    </tr>\n",
       "  </tbody>\n",
       "</table>\n",
       "</div>"
      ],
      "text/plain": [
       "    n_hidden  l1_lambda    loss_clean  loss_adv  superposition attack_type\n",
       "0         20    0.00000  7.790068e-02  0.090089       0.385932         pgd\n",
       "1         40    0.00000  5.150755e-02  0.066167       0.060899         pgd\n",
       "2         60    0.00000  3.100521e-02  0.046083       0.015705         pgd\n",
       "3         80    0.00000  1.509725e-02  0.028387       0.019771         pgd\n",
       "4        100    0.00000  2.140367e-07  0.009615       0.000029         pgd\n",
       "5        120    0.00000  1.237663e-07  0.009471       0.000034         pgd\n",
       "6         20    0.00001  7.761912e-02  0.087836       0.388487         pgd\n",
       "7         40    0.00001  5.176629e-02  0.066121       0.060761         pgd\n",
       "8         60    0.00001  3.051764e-02  0.046220       0.015463         pgd\n",
       "9         80    0.00001  1.545070e-02  0.028192       0.024669         pgd\n",
       "10       100    0.00001  5.447262e-06  0.009803       0.000307         pgd\n",
       "11       120    0.00001  1.283694e-06  0.009832       0.000142         pgd\n",
       "12        20    0.00010  8.027778e-02  0.087907       0.343997         pgd\n",
       "13        40    0.00010  5.331264e-02  0.064295       0.080985         pgd\n",
       "14        60    0.00010  3.151270e-02  0.045125       0.015132         pgd\n",
       "15        80    0.00010  1.545903e-02  0.028204       0.004267         pgd\n",
       "16       100    0.00010  4.381925e-05  0.010631       0.000198         pgd\n",
       "17       120    0.00010  4.314482e-05  0.010629       0.000199         pgd\n",
       "18        20    0.00100  9.277424e-02  0.097090       0.787903         pgd\n",
       "19        40    0.00100  9.192791e-02  0.095892       0.770674         pgd\n",
       "20        60    0.00100  8.573369e-02  0.091415       0.671501         pgd\n",
       "21        80    0.00100  8.942498e-02  0.093142       0.720171         pgd\n",
       "22       100    0.00100  9.183639e-02  0.095827       0.770651         pgd\n",
       "23       120    0.00100  8.981167e-02  0.094514       0.736674         pgd"
      ]
     },
     "metadata": {},
     "output_type": "display_data"
    }
   ],
   "source": [
    "df_results_pgd = pd.DataFrame(results_pgd)\n",
    "\n",
    "print(\"\\nResults with PGD Attack:\")\n",
    "display(df_results_pgd)"
   ]
  },
  {
   "cell_type": "code",
   "execution_count": 34,
   "metadata": {},
   "outputs": [
    {
     "data": {
      "image/png": "[encoded data removed]",
      "text/plain": [
       "<Figure size 1200x600 with 1 Axes>"
      ]
     },
     "metadata": {},
     "output_type": "display_data"
    }
   ],
   "source": [
    "plt.figure(figsize=(12, 6))\n",
    "sns.lineplot(x='n_hidden', y='loss_adv', hue='l1_lambda', data=df_results_pgd, marker='o')\n",
    "plt.title('Adversarial Loss vs. Number of Hidden Units (PGD Attack)')\n",
    "plt.xlabel('Number of Hidden Units')\n",
    "plt.ylabel('Loss on Adversarial Examples')\n",
    "plt.legend(title='L1 Lambda')\n",
    "plt.show()"
   ]
  },
  {
   "cell_type": "code",
   "execution_count": 35,
   "metadata": {},
   "outputs": [
    {
     "data": {
      "image/png": "[encoded data removed]",
      "text/plain": [
       "<Figure size 1200x600 with 1 Axes>"
      ]
     },
     "metadata": {},
     "output_type": "display_data"
    }
   ],
   "source": [
    "plt.figure(figsize=(12, 6))\n",
    "sns.lineplot(x='n_hidden', y='superposition', hue='l1_lambda', data=df_results_pgd, marker='o')\n",
    "plt.title('Superposition Measure vs. Number of Hidden Units (PGD Attack)')\n",
    "plt.xlabel('Number of Hidden Units')\n",
    "plt.ylabel('Average Interference (Superposition Measure)')\n",
    "plt.legend(title='L1 Lambda')\n",
    "plt.show()"
   ]
  },
  {
   "cell_type": "code",
   "execution_count": 36,
   "metadata": {},
   "outputs": [],
   "source": [
    "def plot_interference_heatmap(model, title='Interference Heatmap'):\n",
    "    W = model.W.detach()  # [n_features, n_hidden]\n",
    "    norms = torch.linalg.norm(W, dim=-1, keepdim=True)  # [n_features, 1]\n",
    "    W_normalized = W / (norms + 1e-6)\n",
    "    interference = torch.abs(torch.matmul(W_normalized, W_normalized.T))\n",
    "    interference = interference - torch.diag(torch.diag(interference))  # Remove self-interference\n",
    "    plt.figure(figsize=(8, 6))\n",
    "    sns.heatmap(interference.cpu().numpy(), cmap='viridis')\n",
    "    plt.title(title)\n",
    "    plt.xlabel('Features')\n",
    "    plt.ylabel('Features')\n",
    "    plt.show()"
   ]
  },
  {
   "cell_type": "code",
   "execution_count": 37,
   "metadata": {},
   "outputs": [
    {
     "data": {
      "application/vnd.jupyter.widget-view+json": {
       "model_id": "8b80a29604654f90bfaa5f67601df379",
       "version_major": 2,
       "version_minor": 0
      },
      "text/plain": [
       "  0%|          | 0/5000 [00:00<?, ?it/s]"
      ]
     },
     "metadata": {},
     "output_type": "display_data"
    },
    {
     "name": "stdout",
     "output_type": "stream",
     "text": [
      "Step 0/5000, Loss: 0.113870\n",
      "Step 500/5000, Loss: 0.082780\n",
      "Step 1000/5000, Loss: 0.081335\n",
      "Step 1500/5000, Loss: 0.080791\n",
      "Step 2000/5000, Loss: 0.079566\n",
      "Step 2500/5000, Loss: 0.078209\n",
      "Step 3000/5000, Loss: 0.077669\n",
      "Step 3500/5000, Loss: 0.078029\n",
      "Step 4000/5000, Loss: 0.077938\n",
      "Step 4500/5000, Loss: 0.078150\n",
      "Step 4999/5000, Loss: 0.078355\n"
     ]
    },
    {
     "data": {
      "image/png": "[encoded data removed]",
      "text/plain": [
       "<Figure size 800x600 with 2 Axes>"
      ]
     },
     "metadata": {},
     "output_type": "display_data"
    }
   ],
   "source": [
    "# Example: Visualize interference pattern for a specific model\n",
    "# Select a model from results\n",
    "selected_n_hidden = 20\n",
    "selected_l1_lambda = 0.0\n",
    "model_example = None\n",
    "\n",
    "for l1_lambda in l1_lambda_list:\n",
    "    for n_hidden in n_hidden_list:\n",
    "        if n_hidden == selected_n_hidden and l1_lambda == selected_l1_lambda:\n",
    "            config = Config(\n",
    "                n_features=n_features,\n",
    "                n_hidden=n_hidden,\n",
    "                n_instances=1,\n",
    "            )\n",
    "            feature_probability = torch.ones((n_features,), device=DEVICE) * 0.5\n",
    "            importance = torch.ones((n_features,), device=DEVICE)\n",
    "            model_example = Model(\n",
    "                config=config,\n",
    "                device=DEVICE,\n",
    "                feature_probability=feature_probability,\n",
    "                importance=importance,\n",
    "            )\n",
    "            optimize(model_example, steps=5000, lr=1e-3, l1_lambda=l1_lambda)\n",
    "            break\n",
    "\n",
    "if model_example is not None:\n",
    "    plot_interference_heatmap(model_example, title=f'Interference Heatmap (n_hidden={selected_n_hidden}, l1_lambda={selected_l1_lambda})')"
   ]
  },
  {
   "cell_type": "code",
   "execution_count": null,
   "metadata": {},
   "outputs": [],
   "source": []
  },
  {
   "cell_type": "code",
   "execution_count": null,
   "metadata": {},
   "outputs": [],
   "source": []
  },
  {
   "cell_type": "code",
   "execution_count": null,
   "metadata": {},
   "outputs": [],
   "source": []
  },
  {
   "cell_type": "code",
   "execution_count": 15,
   "metadata": {},
   "outputs": [
    {
     "name": "stdout",
     "output_type": "stream",
     "text": [
      "\n",
      "Results:\n",
      "   n_hidden    loss_clean  loss_adv  superposition\n",
      "0        20  7.806541e-02  0.079578        0.38701\n",
      "1       120  1.224091e-09  0.007151        0.00001\n"
     ]
    }
   ],
   "source": [
    "import pandas as pd\n",
    "\n",
    "df_results = pd.DataFrame(results)\n",
    "print(\"\\nResults:\")\n",
    "print(df_results)"
   ]
  },
  {
   "cell_type": "markdown",
   "metadata": {},
   "source": [
    "so we see that fewer number of hidden units (with superposition) has a loss of (0.07806 lossclean and 0.0795 loss adversarial)\n",
    "\n",
    "while the model with more hidden units (no superposition) has a loss of (1.22e-09 loss clean and 0.007151 loss adversarial)\n",
    "\n",
    "the avg interference (superposition measurement) is higher in the model with fewer hidden units (the model with superposition), indicating that the features are more interfering with each other.\n"
   ]
  },
  {
   "cell_type": "code",
   "execution_count": 16,
   "metadata": {},
   "outputs": [
    {
     "data": {
      "image/png": "[encoded data removed]",
      "text/plain": [
       "<Figure size 1000x500 with 1 Axes>"
      ]
     },
     "metadata": {},
     "output_type": "display_data"
    },
    {
     "data": {
      "image/png": "[encoded data removed]",
      "text/plain": [
       "<Figure size 1000x500 with 1 Axes>"
      ]
     },
     "metadata": {},
     "output_type": "display_data"
    }
   ],
   "source": [
    "# Plotting the results\n",
    "plt.figure(figsize=(10, 5))\n",
    "sns.barplot(x='n_hidden', y='loss_adv', data=df_results)\n",
    "plt.title('Adversarial Loss vs. Number of Hidden Units')\n",
    "plt.xlabel('Number of Hidden Units')\n",
    "plt.ylabel('Loss on Adversarial Examples')\n",
    "plt.show()\n",
    "\n",
    "plt.figure(figsize=(10, 5))\n",
    "sns.barplot(x='n_hidden', y='superposition', data=df_results)\n",
    "plt.title('Superposition Measure vs. Number of Hidden Units')\n",
    "plt.xlabel('Number of Hidden Units')\n",
    "plt.ylabel('Average Interference (Superposition Measure)')\n",
    "plt.show()"
   ]
  },
  {
   "cell_type": "code",
   "execution_count": null,
   "metadata": {},
   "outputs": [],
   "source": []
  }
 ],
 "metadata": {
  "kernelspec": {
   "display_name": "toy_models_env",
   "language": "python",
   "name": "python3"
  },
  "language_info": {
   "codemirror_mode": {
    "name": "ipython",
    "version": 3
   },
   "file_extension": ".py",
   "mimetype": "text/x-python",
   "name": "python",
   "nbconvert_exporter": "python",
   "pygments_lexer": "ipython3",
   "version": "3.10.9"
  }
 },
 "nbformat": 4,
 "nbformat_minor": 2
}
