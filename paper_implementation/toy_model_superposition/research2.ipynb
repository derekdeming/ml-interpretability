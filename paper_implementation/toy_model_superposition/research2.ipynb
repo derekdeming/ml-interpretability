{
 "cells": [
  {
   "cell_type": "code",
   "execution_count": 3,
   "metadata": {},
   "outputs": [],
   "source": [
    "import torch\n",
    "from torch import nn\n",
    "from torch.nn import functional as F\n",
    "import numpy as np\n",
    "import einops\n",
    "from tqdm.notebook import trange\n",
    "import matplotlib.pyplot as plt\n",
    "import seaborn as sns\n",
    "import pandas as pd\n",
    "from dataclasses import dataclass\n",
    "from typing import Optional"
   ]
  },
  {
   "cell_type": "code",
   "execution_count": 4,
   "metadata": {},
   "outputs": [],
   "source": [
    "DEVICE = 'cuda' if torch.cuda.is_available() else 'cpu'\n",
    "\n",
    "@dataclass\n",
    "class Config:\n",
    "    n_features: int\n",
    "    n_hidden: int\n",
    "    n_instances: int  # Number of model instances (set to 1 for simplicity)\n",
    "\n",
    "# Define the model class with optional non-linear hidden layers and deeper networks\n",
    "class Model(nn.Module):\n",
    "    def __init__(self, \n",
    "                  config, \n",
    "                  feature_probability: Optional[torch.Tensor] = None,\n",
    "                  importance: Optional[torch.Tensor] = None,               \n",
    "                  device=DEVICE,\n",
    "                  nonlinear_hidden=False,\n",
    "                  num_layers=1):\n",
    "        super().__init__()\n",
    "        self.config = config\n",
    "        self.nonlinear_hidden = nonlinear_hidden\n",
    "        self.num_layers = num_layers\n",
    "\n",
    "        layers = []\n",
    "        input_size = config.n_features\n",
    "        for i in range(num_layers):\n",
    "            hidden_size = config.n_hidden\n",
    "            layer = nn.Linear(input_size, hidden_size)\n",
    "            nn.init.xavier_normal_(layer.weight)\n",
    "            layers.append(layer)\n",
    "            if nonlinear_hidden:\n",
    "                layers.append(nn.ReLU())\n",
    "            input_size = hidden_size\n",
    "\n",
    "        self.encoder = nn.Sequential(*layers)\n",
    "        self.decoder = nn.Linear(config.n_hidden, config.n_features)\n",
    "        nn.init.xavier_normal_(self.decoder.weight)\n",
    "        self.b_final = nn.Parameter(torch.zeros((config.n_features,), device=device))\n",
    "\n",
    "        if feature_probability is None:\n",
    "            feature_probability = torch.ones((config.n_features,), device=device)\n",
    "        self.feature_probability = feature_probability.to(device)\n",
    "        if importance is None:\n",
    "            importance = torch.ones((config.n_features,), device=device)\n",
    "        self.importance = importance.to(device)\n",
    "\n",
    "    def forward(self, features):\n",
    "        # features: [batch_size, n_features]\n",
    "        hidden = features\n",
    "        hidden = self.encoder(hidden)\n",
    "        out = self.decoder(hidden)\n",
    "        out = out + self.b_final\n",
    "        out = F.relu(out)\n",
    "        return out\n",
    "\n",
    "    def generate_batch(self, n_batch, correlated=False, correlation_matrix=None):\n",
    "        if not correlated:\n",
    "            feat = torch.rand((n_batch, self.config.n_features), device=self.b_final.device)\n",
    "        else:\n",
    "            # Generate correlated features\n",
    "            mean = torch.zeros(self.config.n_features, device=self.b_final.device)\n",
    "            feat = torch.distributions.MultivariateNormal(mean, correlation_matrix).sample((n_batch,))\n",
    "            feat = torch.sigmoid(feat)  # Map to (0,1)\n",
    "        batch = torch.where(\n",
    "            torch.rand((n_batch, self.config.n_features), device=self.b_final.device) <= self.feature_probability,\n",
    "            feat,\n",
    "            torch.zeros_like(feat, device=self.b_final.device),\n",
    "        )\n",
    "        return batch"
   ]
  },
  {
   "cell_type": "code",
   "execution_count": 5,
   "metadata": {},
   "outputs": [],
   "source": [
    "def optimize(model, \n",
    "              n_batch=1024,\n",
    "              steps=5000,\n",
    "              print_freq=500,\n",
    "              lr=1e-3,\n",
    "              l1_lambda=0.0,\n",
    "              l2_lambda=0.0):\n",
    "    opt = torch.optim.AdamW(model.parameters(), lr=lr)\n",
    "    for step in trange(steps):\n",
    "        opt.zero_grad(set_to_none=True)\n",
    "        batch = model.generate_batch(n_batch)\n",
    "        out = model(batch)\n",
    "        error = (model.importance * (batch - out) ** 2)\n",
    "        loss = error.mean()\n",
    "        # Add L1 and L2 regularization if needed\n",
    "        l1_norm = sum(torch.abs(param).sum() for param in model.parameters())\n",
    "        l2_norm = sum(torch.norm(param) ** 2 for param in model.parameters())\n",
    "        loss = loss + l1_lambda * l1_norm + l2_lambda * l2_norm\n",
    "        loss.backward()\n",
    "        opt.step()\n",
    "        if step % print_freq == 0 or step == steps - 1:\n",
    "            print(f\"Step {step}/{steps}, Loss: {loss.item():.6f}\")\n",
    "\n",
    "# Function to measure superposition\n",
    "def measure_superposition(model):\n",
    "    W = model.encoder[0].weight.detach()  # Assuming the first layer is the main encoder\n",
    "    norms = torch.linalg.norm(W, dim=-1, keepdim=True)  # [n_hidden, 1]\n",
    "    W_normalized = W / (norms + 1e-6)\n",
    "    interference = torch.abs(torch.matmul(W_normalized.T, W_normalized))\n",
    "    interference = interference - torch.diag(torch.diag(interference))  # Remove self-interference\n",
    "    avg_interference = interference.mean().item()\n",
    "    return avg_interference"
   ]
  },
  {
   "cell_type": "code",
   "execution_count": 6,
   "metadata": {},
   "outputs": [],
   "source": [
    "def fgsm_attack(model, data, epsilon, importance):\n",
    "    data.requires_grad = True\n",
    "    output = model(data)\n",
    "    loss = (importance * (data - output) ** 2).mean()\n",
    "    model.zero_grad()\n",
    "    loss.backward()\n",
    "    data_grad = data.grad.data\n",
    "    # Generate adversarial examples\n",
    "    perturbed_data = data + epsilon * data_grad.sign()\n",
    "    # Clip data to valid range\n",
    "    perturbed_data = torch.clamp(perturbed_data, 0, 1)\n",
    "    return perturbed_data\n",
    "\n",
    "def pgd_attack(model, data, epsilon, alpha, num_iter, importance):\n",
    "    original_data = data.clone().detach()\n",
    "    perturbed_data = data.clone().detach()\n",
    "    for i in range(num_iter):\n",
    "        perturbed_data.requires_grad = True\n",
    "        output = model(perturbed_data)\n",
    "        loss = (importance * (original_data - output) ** 2).mean()\n",
    "        model.zero_grad()\n",
    "        loss.backward()\n",
    "        data_grad = perturbed_data.grad.data\n",
    "        perturbed_data = perturbed_data + alpha * data_grad.sign()\n",
    "        # Project back into the epsilon-ball\n",
    "        perturbed_data = torch.max(torch.min(perturbed_data, original_data + epsilon), original_data - epsilon)\n",
    "        # Clip data to valid range\n",
    "        perturbed_data = torch.clamp(perturbed_data, 0, 1).detach()\n",
    "    return perturbed_data"
   ]
  },
  {
   "cell_type": "code",
   "execution_count": 7,
   "metadata": {},
   "outputs": [],
   "source": [
    "def evaluate_adversarial(model, importance, epsilon=0.1, n_batch=1024, attack_type='fgsm', correlated=False, correlation_matrix=None):\n",
    "    data = model.generate_batch(n_batch, correlated=correlated, correlation_matrix=correlation_matrix)\n",
    "    if attack_type == 'fgsm':\n",
    "        adv_data = fgsm_attack(model, data, epsilon, importance)\n",
    "    elif attack_type == 'pgd':\n",
    "        alpha = epsilon / 4  # Step size\n",
    "        num_iter = 10  # Number of iterations\n",
    "        adv_data = pgd_attack(model, data, epsilon, alpha, num_iter, importance)\n",
    "    else:\n",
    "        raise ValueError(\"Unsupported attack type\")\n",
    "    output = model(adv_data)\n",
    "    loss = (importance * (data - output) ** 2).mean()\n",
    "    return loss.item()\n"
   ]
  },
  {
   "cell_type": "code",
   "execution_count": 8,
   "metadata": {},
   "outputs": [],
   "source": [
    "def run_experiment(n_features=100, n_hidden_list=[20, 40, 60, 80, 100, 120], l1_lambda_list=[0.0], l2_lambda_list=[0.0], attack_type='fgsm', nonlinear_hidden=False, num_layers=1, feature_probability=0.5, correlated=False, correlation_matrix=None):\n",
    "    results = []\n",
    "    for l1_lambda in l1_lambda_list:\n",
    "        for l2_lambda in l2_lambda_list:\n",
    "            for n_hidden in n_hidden_list:\n",
    "                print(f\"\\nTraining model with n_hidden = {n_hidden}, l1_lambda = {l1_lambda}, l2_lambda = {l2_lambda}\")\n",
    "                config = Config(\n",
    "                    n_features=n_features,\n",
    "                    n_hidden=n_hidden,\n",
    "                    n_instances=1,\n",
    "                )\n",
    "                feature_prob_tensor = torch.ones((n_features,), device=DEVICE) * feature_probability\n",
    "                importance = torch.ones((n_features,), device=DEVICE)\n",
    "                model = Model(\n",
    "                    config=config,\n",
    "                    device=DEVICE,\n",
    "                    feature_probability=feature_prob_tensor,\n",
    "                    importance=importance,\n",
    "                    nonlinear_hidden=nonlinear_hidden,\n",
    "                    num_layers=num_layers\n",
    "                )\n",
    "                optimize(model, steps=5000, lr=1e-3, l1_lambda=l1_lambda, l2_lambda=l2_lambda)\n",
    "                loss_clean = evaluate_adversarial(model, importance, epsilon=0.0, attack_type=attack_type, correlated=correlated, correlation_matrix=correlation_matrix)\n",
    "                loss_adv = evaluate_adversarial(model, importance, epsilon=0.1, attack_type=attack_type, correlated=correlated, correlation_matrix=correlation_matrix)\n",
    "                superposition_measure = measure_superposition(model)\n",
    "                results.append({\n",
    "                    'n_hidden': n_hidden,\n",
    "                    'l1_lambda': l1_lambda,\n",
    "                    'l2_lambda': l2_lambda,\n",
    "                    'loss_clean': loss_clean,\n",
    "                    'loss_adv': loss_adv,\n",
    "                    'superposition': superposition_measure,\n",
    "                    'attack_type': attack_type,\n",
    "                    'nonlinear_hidden': nonlinear_hidden,\n",
    "                    'num_layers': num_layers,\n",
    "                    'feature_probability': feature_probability,\n",
    "                    'correlated': correlated\n",
    "                })\n",
    "    return results"
   ]
  },
  {
   "cell_type": "code",
   "execution_count": 13,
   "metadata": {},
   "outputs": [],
   "source": [
    "def plot_weight_histogram(model, title='Weight Histogram'):\n",
    "    weights = model.encoder[0].weight.detach().cpu().numpy().flatten()\n",
    "    plt.figure(figsize=(8, 6))\n",
    "    plt.hist(weights, bins=50, alpha=0.7)\n",
    "    plt.title(title)\n",
    "    plt.xlabel('Weight Value')\n",
    "    plt.ylabel('Frequency')\n",
    "    plt.show()"
   ]
  },
  {
   "cell_type": "code",
   "execution_count": 9,
   "metadata": {},
   "outputs": [],
   "source": [
    "def plot_activation_patterns(model, data, title='Activation Patterns'):\n",
    "    with torch.no_grad():\n",
    "        if model.nonlinear_hidden:\n",
    "            activations = model.encoder(data)\n",
    "        else:\n",
    "            activations = F.relu(model.encoder(data))\n",
    "        activations = activations.cpu().numpy()\n",
    "    plt.figure(figsize=(8, 6))\n",
    "    sns.heatmap(activations, cmap='viridis')\n",
    "    plt.title(title)\n",
    "    plt.xlabel('Neurons')\n",
    "    plt.ylabel('Samples')\n",
    "    plt.show()"
   ]
  },
  {
   "cell_type": "code",
   "execution_count": 10,
   "metadata": {},
   "outputs": [],
   "source": [
    "def create_correlation_matrix(n_features, correlation_coefficient):\n",
    "    corr_matrix = torch.eye(n_features) * (1 - correlation_coefficient) + correlation_coefficient\n",
    "    return corr_matrix"
   ]
  },
  {
   "cell_type": "code",
   "execution_count": 11,
   "metadata": {},
   "outputs": [
    {
     "name": "stdout",
     "output_type": "stream",
     "text": [
      "\n",
      "Training model with n_hidden = 20, l1_lambda = 0.0, l2_lambda = 0.0\n"
     ]
    },
    {
     "data": {
      "application/vnd.jupyter.widget-view+json": {
       "model_id": "cdf238ca88054cdfa53e905ea3a73101",
       "version_major": 2,
       "version_minor": 0
      },
      "text/plain": [
       "  0%|          | 0/5000 [00:00<?, ?it/s]"
      ]
     },
     "metadata": {},
     "output_type": "display_data"
    },
    {
     "name": "stdout",
     "output_type": "stream",
     "text": [
      "Step 0/5000, Loss: 0.155499\n",
      "Step 500/5000, Loss: 0.083107\n",
      "Step 1000/5000, Loss: 0.082376\n",
      "Step 1500/5000, Loss: 0.082390\n",
      "Step 2000/5000, Loss: 0.080856\n",
      "Step 2500/5000, Loss: 0.079889\n",
      "Step 3000/5000, Loss: 0.078606\n",
      "Step 3500/5000, Loss: 0.077701\n",
      "Step 4000/5000, Loss: 0.077947\n",
      "Step 4500/5000, Loss: 0.077719\n",
      "Step 4999/5000, Loss: 0.077510\n",
      "\n",
      "Training model with n_hidden = 40, l1_lambda = 0.0, l2_lambda = 0.0\n"
     ]
    },
    {
     "data": {
      "application/vnd.jupyter.widget-view+json": {
       "model_id": "7f1a8798c1d64807a62542af20bb87e4",
       "version_major": 2,
       "version_minor": 0
      },
      "text/plain": [
       "  0%|          | 0/5000 [00:00<?, ?it/s]"
      ]
     },
     "metadata": {},
     "output_type": "display_data"
    },
    {
     "name": "stdout",
     "output_type": "stream",
     "text": [
      "Step 0/5000, Loss: 0.164518\n",
      "Step 500/5000, Loss: 0.058835\n",
      "Step 1000/5000, Loss: 0.058702\n",
      "Step 1500/5000, Loss: 0.058304\n",
      "Step 2000/5000, Loss: 0.055481\n",
      "Step 2500/5000, Loss: 0.053160\n",
      "Step 3000/5000, Loss: 0.051858\n",
      "Step 3500/5000, Loss: 0.050996\n",
      "Step 4000/5000, Loss: 0.051012\n",
      "Step 4500/5000, Loss: 0.051007\n",
      "Step 4999/5000, Loss: 0.051005\n",
      "\n",
      "Training model with n_hidden = 60, l1_lambda = 0.0, l2_lambda = 0.0\n"
     ]
    },
    {
     "data": {
      "application/vnd.jupyter.widget-view+json": {
       "model_id": "9d43e8b4f3fa44f6b19d19bbe0a926d7",
       "version_major": 2,
       "version_minor": 0
      },
      "text/plain": [
       "  0%|          | 0/5000 [00:00<?, ?it/s]"
      ]
     },
     "metadata": {},
     "output_type": "display_data"
    },
    {
     "name": "stdout",
     "output_type": "stream",
     "text": [
      "Step 0/5000, Loss: 0.164646\n",
      "Step 500/5000, Loss: 0.036342\n",
      "Step 1000/5000, Loss: 0.035874\n",
      "Step 1500/5000, Loss: 0.033461\n",
      "Step 2000/5000, Loss: 0.031861\n",
      "Step 2500/5000, Loss: 0.030518\n",
      "Step 3000/5000, Loss: 0.029897\n",
      "Step 3500/5000, Loss: 0.030266\n",
      "Step 4000/5000, Loss: 0.030039\n",
      "Step 4500/5000, Loss: 0.030733\n",
      "Step 4999/5000, Loss: 0.029674\n",
      "\n",
      "Training model with n_hidden = 80, l1_lambda = 0.0, l2_lambda = 0.0\n"
     ]
    },
    {
     "data": {
      "application/vnd.jupyter.widget-view+json": {
       "model_id": "f538b1bd47e744ccbda55e1905eb5d3b",
       "version_major": 2,
       "version_minor": 0
      },
      "text/plain": [
       "  0%|          | 0/5000 [00:00<?, ?it/s]"
      ]
     },
     "metadata": {},
     "output_type": "display_data"
    },
    {
     "name": "stdout",
     "output_type": "stream",
     "text": [
      "Step 0/5000, Loss: 0.168827\n",
      "Step 500/5000, Loss: 0.016611\n",
      "Step 1000/5000, Loss: 0.015945\n",
      "Step 1500/5000, Loss: 0.015680\n",
      "Step 2000/5000, Loss: 0.015660\n",
      "Step 2500/5000, Loss: 0.015107\n",
      "Step 3000/5000, Loss: 0.015300\n",
      "Step 3500/5000, Loss: 0.015412\n",
      "Step 4000/5000, Loss: 0.015259\n",
      "Step 4500/5000, Loss: 0.015080\n",
      "Step 4999/5000, Loss: 0.014906\n",
      "\n",
      "Training model with n_hidden = 100, l1_lambda = 0.0, l2_lambda = 0.0\n"
     ]
    },
    {
     "data": {
      "application/vnd.jupyter.widget-view+json": {
       "model_id": "7d24aae8588147ffac4470c2e21ac1d8",
       "version_major": 2,
       "version_minor": 0
      },
      "text/plain": [
       "  0%|          | 0/5000 [00:00<?, ?it/s]"
      ]
     },
     "metadata": {},
     "output_type": "display_data"
    },
    {
     "name": "stdout",
     "output_type": "stream",
     "text": [
      "Step 0/5000, Loss: 0.179283\n",
      "Step 500/5000, Loss: 0.000098\n",
      "Step 1000/5000, Loss: 0.000000\n",
      "Step 1500/5000, Loss: 0.000000\n",
      "Step 2000/5000, Loss: 0.000000\n",
      "Step 2500/5000, Loss: 0.000000\n",
      "Step 3000/5000, Loss: 0.000000\n",
      "Step 3500/5000, Loss: 0.000031\n",
      "Step 4000/5000, Loss: 0.000001\n",
      "Step 4500/5000, Loss: 0.000002\n",
      "Step 4999/5000, Loss: 0.000017\n",
      "\n",
      "Training model with n_hidden = 120, l1_lambda = 0.0, l2_lambda = 0.0\n"
     ]
    },
    {
     "data": {
      "application/vnd.jupyter.widget-view+json": {
       "model_id": "3a37c317374a42d4956616d4224ac0ec",
       "version_major": 2,
       "version_minor": 0
      },
      "text/plain": [
       "  0%|          | 0/5000 [00:00<?, ?it/s]"
      ]
     },
     "metadata": {},
     "output_type": "display_data"
    },
    {
     "name": "stdout",
     "output_type": "stream",
     "text": [
      "Step 0/5000, Loss: 0.166431\n",
      "Step 500/5000, Loss: 0.000003\n",
      "Step 1000/5000, Loss: 0.000000\n",
      "Step 1500/5000, Loss: 0.000000\n",
      "Step 2000/5000, Loss: 0.000000\n",
      "Step 2500/5000, Loss: 0.000001\n",
      "Step 3000/5000, Loss: 0.000010\n",
      "Step 3500/5000, Loss: 0.000001\n",
      "Step 4000/5000, Loss: 0.000001\n",
      "Step 4500/5000, Loss: 0.000015\n",
      "Step 4999/5000, Loss: 0.000000\n",
      "\n",
      "Training model with n_hidden = 20, l1_lambda = 0.0, l2_lambda = 0.0001\n"
     ]
    },
    {
     "data": {
      "application/vnd.jupyter.widget-view+json": {
       "model_id": "7bb85622ee70405fabc2fea1a2651adc",
       "version_major": 2,
       "version_minor": 0
      },
      "text/plain": [
       "  0%|          | 0/5000 [00:00<?, ?it/s]"
      ]
     },
     "metadata": {},
     "output_type": "display_data"
    },
    {
     "name": "stdout",
     "output_type": "stream",
     "text": [
      "Step 0/5000, Loss: 0.160342\n",
      "Step 500/5000, Loss: 0.087344\n",
      "Step 1000/5000, Loss: 0.086673\n",
      "Step 1500/5000, Loss: 0.086665\n",
      "Step 2000/5000, Loss: 0.086574\n",
      "Step 2500/5000, Loss: 0.086338\n",
      "Step 3000/5000, Loss: 0.085981\n",
      "Step 3500/5000, Loss: 0.084977\n",
      "Step 4000/5000, Loss: 0.084825\n",
      "Step 4500/5000, Loss: 0.084394\n",
      "Step 4999/5000, Loss: 0.084549\n",
      "\n",
      "Training model with n_hidden = 40, l1_lambda = 0.0, l2_lambda = 0.0001\n"
     ]
    },
    {
     "data": {
      "application/vnd.jupyter.widget-view+json": {
       "model_id": "7f863bf2348e4acd9f6451b2254de730",
       "version_major": 2,
       "version_minor": 0
      },
      "text/plain": [
       "  0%|          | 0/5000 [00:00<?, ?it/s]"
      ]
     },
     "metadata": {},
     "output_type": "display_data"
    },
    {
     "name": "stdout",
     "output_type": "stream",
     "text": [
      "Step 0/5000, Loss: 0.172792\n",
      "Step 500/5000, Loss: 0.069620\n",
      "Step 1000/5000, Loss: 0.068502\n",
      "Step 1500/5000, Loss: 0.068372\n",
      "Step 2000/5000, Loss: 0.068266\n",
      "Step 2500/5000, Loss: 0.067338\n",
      "Step 3000/5000, Loss: 0.065162\n",
      "Step 3500/5000, Loss: 0.065868\n",
      "Step 4000/5000, Loss: 0.065359\n",
      "Step 4500/5000, Loss: 0.065169\n",
      "Step 4999/5000, Loss: 0.064983\n",
      "\n",
      "Training model with n_hidden = 60, l1_lambda = 0.0, l2_lambda = 0.0001\n"
     ]
    },
    {
     "data": {
      "application/vnd.jupyter.widget-view+json": {
       "model_id": "530a96a012f1449fac0aa661af2d7856",
       "version_major": 2,
       "version_minor": 0
      },
      "text/plain": [
       "  0%|          | 0/5000 [00:00<?, ?it/s]"
      ]
     },
     "metadata": {},
     "output_type": "display_data"
    },
    {
     "name": "stdout",
     "output_type": "stream",
     "text": [
      "Step 0/5000, Loss: 0.178179\n",
      "Step 500/5000, Loss: 0.050776\n",
      "Step 1000/5000, Loss: 0.050859\n",
      "Step 1500/5000, Loss: 0.050119\n",
      "Step 2000/5000, Loss: 0.048732\n",
      "Step 2500/5000, Loss: 0.048427\n",
      "Step 3000/5000, Loss: 0.048354\n",
      "Step 3500/5000, Loss: 0.047622\n",
      "Step 4000/5000, Loss: 0.047785\n",
      "Step 4500/5000, Loss: 0.047682\n",
      "Step 4999/5000, Loss: 0.047720\n",
      "\n",
      "Training model with n_hidden = 80, l1_lambda = 0.0, l2_lambda = 0.0001\n"
     ]
    },
    {
     "data": {
      "application/vnd.jupyter.widget-view+json": {
       "model_id": "948897294d6a4495a4a73b686898c451",
       "version_major": 2,
       "version_minor": 0
      },
      "text/plain": [
       "  0%|          | 0/5000 [00:00<?, ?it/s]"
      ]
     },
     "metadata": {},
     "output_type": "display_data"
    },
    {
     "name": "stdout",
     "output_type": "stream",
     "text": [
      "Step 0/5000, Loss: 0.193687\n",
      "Step 500/5000, Loss: 0.034555\n",
      "Step 1000/5000, Loss: 0.033677\n",
      "Step 1500/5000, Loss: 0.033929\n",
      "Step 2000/5000, Loss: 0.033575\n",
      "Step 2500/5000, Loss: 0.033475\n",
      "Step 3000/5000, Loss: 0.033438\n",
      "Step 3500/5000, Loss: 0.033342\n",
      "Step 4000/5000, Loss: 0.032980\n",
      "Step 4500/5000, Loss: 0.033542\n",
      "Step 4999/5000, Loss: 0.033462\n",
      "\n",
      "Training model with n_hidden = 100, l1_lambda = 0.0, l2_lambda = 0.0001\n"
     ]
    },
    {
     "data": {
      "application/vnd.jupyter.widget-view+json": {
       "model_id": "5722616f6258421db2a3b65f7cc0dafd",
       "version_major": 2,
       "version_minor": 0
      },
      "text/plain": [
       "  0%|          | 0/5000 [00:00<?, ?it/s]"
      ]
     },
     "metadata": {},
     "output_type": "display_data"
    },
    {
     "name": "stdout",
     "output_type": "stream",
     "text": [
      "Step 0/5000, Loss: 0.192754\n",
      "Step 500/5000, Loss: 0.019598\n",
      "Step 1000/5000, Loss: 0.019063\n",
      "Step 1500/5000, Loss: 0.019045\n",
      "Step 2000/5000, Loss: 0.019055\n",
      "Step 2500/5000, Loss: 0.019052\n",
      "Step 3000/5000, Loss: 0.019067\n",
      "Step 3500/5000, Loss: 0.019066\n",
      "Step 4000/5000, Loss: 0.019063\n",
      "Step 4500/5000, Loss: 0.019063\n",
      "Step 4999/5000, Loss: 0.019069\n",
      "\n",
      "Training model with n_hidden = 120, l1_lambda = 0.0, l2_lambda = 0.0001\n"
     ]
    },
    {
     "data": {
      "application/vnd.jupyter.widget-view+json": {
       "model_id": "694a70d139f34fb287f1c820d20d09fe",
       "version_major": 2,
       "version_minor": 0
      },
      "text/plain": [
       "  0%|          | 0/5000 [00:00<?, ?it/s]"
      ]
     },
     "metadata": {},
     "output_type": "display_data"
    },
    {
     "name": "stdout",
     "output_type": "stream",
     "text": [
      "Step 0/5000, Loss: 0.191718\n",
      "Step 500/5000, Loss: 0.019249\n",
      "Step 1000/5000, Loss: 0.019053\n",
      "Step 1500/5000, Loss: 0.019053\n",
      "Step 2000/5000, Loss: 0.019059\n",
      "Step 2500/5000, Loss: 0.019055\n",
      "Step 3000/5000, Loss: 0.019063\n",
      "Step 3500/5000, Loss: 0.019066\n",
      "Step 4000/5000, Loss: 0.019065\n",
      "Step 4500/5000, Loss: 0.019069\n",
      "Step 4999/5000, Loss: 0.019060\n",
      "\n",
      "Training model with n_hidden = 20, l1_lambda = 0.0, l2_lambda = 0.0005\n"
     ]
    },
    {
     "data": {
      "application/vnd.jupyter.widget-view+json": {
       "model_id": "62bf0d9bdb4a488fa507a2679e7a7b1b",
       "version_major": 2,
       "version_minor": 0
      },
      "text/plain": [
       "  0%|          | 0/5000 [00:00<?, ?it/s]"
      ]
     },
     "metadata": {},
     "output_type": "display_data"
    },
    {
     "name": "stdout",
     "output_type": "stream",
     "text": [
      "Step 0/5000, Loss: 0.194363\n",
      "Step 500/5000, Loss: 0.098981\n",
      "Step 1000/5000, Loss: 0.098540\n",
      "Step 1500/5000, Loss: 0.097983\n",
      "Step 2000/5000, Loss: 0.098661\n",
      "Step 2500/5000, Loss: 0.098758\n",
      "Step 3000/5000, Loss: 0.098803\n",
      "Step 3500/5000, Loss: 0.098466\n",
      "Step 4000/5000, Loss: 0.098190\n",
      "Step 4500/5000, Loss: 0.098405\n",
      "Step 4999/5000, Loss: 0.099172\n",
      "\n",
      "Training model with n_hidden = 40, l1_lambda = 0.0, l2_lambda = 0.0005\n"
     ]
    },
    {
     "data": {
      "application/vnd.jupyter.widget-view+json": {
       "model_id": "1f05ed8cd5774906ad1fb0f49932292d",
       "version_major": 2,
       "version_minor": 0
      },
      "text/plain": [
       "  0%|          | 0/5000 [00:00<?, ?it/s]"
      ]
     },
     "metadata": {},
     "output_type": "display_data"
    },
    {
     "name": "stdout",
     "output_type": "stream",
     "text": [
      "Step 0/5000, Loss: 0.216899\n",
      "Step 500/5000, Loss: 0.093414\n",
      "Step 1000/5000, Loss: 0.093117\n",
      "Step 1500/5000, Loss: 0.093410\n",
      "Step 2000/5000, Loss: 0.092999\n",
      "Step 2500/5000, Loss: 0.093013\n",
      "Step 3000/5000, Loss: 0.093263\n",
      "Step 3500/5000, Loss: 0.092937\n",
      "Step 4000/5000, Loss: 0.092386\n",
      "Step 4500/5000, Loss: 0.093133\n",
      "Step 4999/5000, Loss: 0.092982\n",
      "\n",
      "Training model with n_hidden = 60, l1_lambda = 0.0, l2_lambda = 0.0005\n"
     ]
    },
    {
     "data": {
      "application/vnd.jupyter.widget-view+json": {
       "model_id": "0454faadcef44dfbb72ce6db3184ce8b",
       "version_major": 2,
       "version_minor": 0
      },
      "text/plain": [
       "  0%|          | 0/5000 [00:00<?, ?it/s]"
      ]
     },
     "metadata": {},
     "output_type": "display_data"
    },
    {
     "name": "stdout",
     "output_type": "stream",
     "text": [
      "Step 0/5000, Loss: 0.241821\n",
      "Step 500/5000, Loss: 0.087209\n",
      "Step 1000/5000, Loss: 0.087329\n",
      "Step 1500/5000, Loss: 0.087615\n",
      "Step 2000/5000, Loss: 0.087249\n",
      "Step 2500/5000, Loss: 0.086926\n",
      "Step 3000/5000, Loss: 0.087365\n",
      "Step 3500/5000, Loss: 0.087841\n",
      "Step 4000/5000, Loss: 0.087572\n",
      "Step 4500/5000, Loss: 0.087468\n",
      "Step 4999/5000, Loss: 0.087674\n",
      "\n",
      "Training model with n_hidden = 80, l1_lambda = 0.0, l2_lambda = 0.0005\n"
     ]
    },
    {
     "data": {
      "application/vnd.jupyter.widget-view+json": {
       "model_id": "b3dd3249bb694787a95b2690827ae2e1",
       "version_major": 2,
       "version_minor": 0
      },
      "text/plain": [
       "  0%|          | 0/5000 [00:00<?, ?it/s]"
      ]
     },
     "metadata": {},
     "output_type": "display_data"
    },
    {
     "name": "stdout",
     "output_type": "stream",
     "text": [
      "Step 0/5000, Loss: 0.261283\n",
      "Step 500/5000, Loss: 0.081896\n",
      "Step 1000/5000, Loss: 0.081593\n",
      "Step 1500/5000, Loss: 0.081753\n",
      "Step 2000/5000, Loss: 0.082028\n",
      "Step 2500/5000, Loss: 0.081856\n",
      "Step 3000/5000, Loss: 0.081789\n",
      "Step 3500/5000, Loss: 0.081909\n",
      "Step 4000/5000, Loss: 0.081834\n",
      "Step 4500/5000, Loss: 0.081570\n",
      "Step 4999/5000, Loss: 0.082178\n",
      "\n",
      "Training model with n_hidden = 100, l1_lambda = 0.0, l2_lambda = 0.0005\n"
     ]
    },
    {
     "data": {
      "application/vnd.jupyter.widget-view+json": {
       "model_id": "9abea14f41cc4bf195e95635c6b80ceb",
       "version_major": 2,
       "version_minor": 0
      },
      "text/plain": [
       "  0%|          | 0/5000 [00:00<?, ?it/s]"
      ]
     },
     "metadata": {},
     "output_type": "display_data"
    },
    {
     "name": "stdout",
     "output_type": "stream",
     "text": [
      "Step 0/5000, Loss: 0.274698\n",
      "Step 500/5000, Loss: 0.076390\n",
      "Step 1000/5000, Loss: 0.076031\n",
      "Step 1500/5000, Loss: 0.076124\n",
      "Step 2000/5000, Loss: 0.076137\n",
      "Step 2500/5000, Loss: 0.076301\n",
      "Step 3000/5000, Loss: 0.076172\n",
      "Step 3500/5000, Loss: 0.076233\n",
      "Step 4000/5000, Loss: 0.076143\n",
      "Step 4500/5000, Loss: 0.076398\n",
      "Step 4999/5000, Loss: 0.076241\n",
      "\n",
      "Training model with n_hidden = 120, l1_lambda = 0.0, l2_lambda = 0.0005\n"
     ]
    },
    {
     "data": {
      "application/vnd.jupyter.widget-view+json": {
       "model_id": "8b74bf3116bc4c7880b29e4efa2cde67",
       "version_major": 2,
       "version_minor": 0
      },
      "text/plain": [
       "  0%|          | 0/5000 [00:00<?, ?it/s]"
      ]
     },
     "metadata": {},
     "output_type": "display_data"
    },
    {
     "name": "stdout",
     "output_type": "stream",
     "text": [
      "Step 0/5000, Loss: 0.285337\n",
      "Step 500/5000, Loss: 0.076297\n",
      "Step 1000/5000, Loss: 0.076165\n",
      "Step 1500/5000, Loss: 0.076147\n",
      "Step 2000/5000, Loss: 0.076253\n",
      "Step 2500/5000, Loss: 0.076130\n",
      "Step 3000/5000, Loss: 0.076391\n",
      "Step 3500/5000, Loss: 0.076241\n",
      "Step 4000/5000, Loss: 0.076187\n",
      "Step 4500/5000, Loss: 0.076200\n",
      "Step 4999/5000, Loss: 0.076169\n",
      "\n",
      "Training model with n_hidden = 20, l1_lambda = 0.0005, l2_lambda = 0.0\n"
     ]
    },
    {
     "data": {
      "application/vnd.jupyter.widget-view+json": {
       "model_id": "8c6981e4faa6423e86279463c49fdae7",
       "version_major": 2,
       "version_minor": 0
      },
      "text/plain": [
       "  0%|          | 0/5000 [00:00<?, ?it/s]"
      ]
     },
     "metadata": {},
     "output_type": "display_data"
    },
    {
     "name": "stdout",
     "output_type": "stream",
     "text": [
      "Step 0/5000, Loss: 0.372368\n",
      "Step 500/5000, Loss: 0.116162\n",
      "Step 1000/5000, Loss: 0.111729\n",
      "Step 1500/5000, Loss: 0.111208\n",
      "Step 2000/5000, Loss: 0.110785\n",
      "Step 2500/5000, Loss: 0.109856\n",
      "Step 3000/5000, Loss: 0.110011\n",
      "Step 3500/5000, Loss: 0.109558\n",
      "Step 4000/5000, Loss: 0.109505\n",
      "Step 4500/5000, Loss: 0.108921\n",
      "Step 4999/5000, Loss: 0.109067\n",
      "\n",
      "Training model with n_hidden = 40, l1_lambda = 0.0005, l2_lambda = 0.0\n"
     ]
    },
    {
     "data": {
      "application/vnd.jupyter.widget-view+json": {
       "model_id": "f278bd10b64b4876bb315aad76b35324",
       "version_major": 2,
       "version_minor": 0
      },
      "text/plain": [
       "  0%|          | 0/5000 [00:00<?, ?it/s]"
      ]
     },
     "metadata": {},
     "output_type": "display_data"
    },
    {
     "name": "stdout",
     "output_type": "stream",
     "text": [
      "Step 0/5000, Loss: 0.557406\n",
      "Step 500/5000, Loss: 0.113295\n",
      "Step 1000/5000, Loss: 0.111236\n",
      "Step 1500/5000, Loss: 0.110860\n",
      "Step 2000/5000, Loss: 0.110689\n",
      "Step 2500/5000, Loss: 0.109957\n",
      "Step 3000/5000, Loss: 0.109938\n",
      "Step 3500/5000, Loss: 0.109679\n",
      "Step 4000/5000, Loss: 0.109359\n",
      "Step 4500/5000, Loss: 0.108671\n",
      "Step 4999/5000, Loss: 0.109028\n",
      "\n",
      "Training model with n_hidden = 60, l1_lambda = 0.0005, l2_lambda = 0.0\n"
     ]
    },
    {
     "data": {
      "application/vnd.jupyter.widget-view+json": {
       "model_id": "0cba0f4e6c8b48a588f51acbba8f716a",
       "version_major": 2,
       "version_minor": 0
      },
      "text/plain": [
       "  0%|          | 0/5000 [00:00<?, ?it/s]"
      ]
     },
     "metadata": {},
     "output_type": "display_data"
    },
    {
     "name": "stdout",
     "output_type": "stream",
     "text": [
      "Step 0/5000, Loss: 0.706049\n",
      "Step 500/5000, Loss: 0.114327\n",
      "Step 1000/5000, Loss: 0.112868\n",
      "Step 1500/5000, Loss: 0.111189\n",
      "Step 2000/5000, Loss: 0.111099\n",
      "Step 2500/5000, Loss: 0.110863\n",
      "Step 3000/5000, Loss: 0.110606\n",
      "Step 3500/5000, Loss: 0.110423\n",
      "Step 4000/5000, Loss: 0.110165\n",
      "Step 4500/5000, Loss: 0.109996\n",
      "Step 4999/5000, Loss: 0.108897\n",
      "\n",
      "Training model with n_hidden = 80, l1_lambda = 0.0005, l2_lambda = 0.0\n"
     ]
    },
    {
     "data": {
      "application/vnd.jupyter.widget-view+json": {
       "model_id": "63df645227384370999f26ac8ad1cc32",
       "version_major": 2,
       "version_minor": 0
      },
      "text/plain": [
       "  0%|          | 0/5000 [00:00<?, ?it/s]"
      ]
     },
     "metadata": {},
     "output_type": "display_data"
    },
    {
     "name": "stdout",
     "output_type": "stream",
     "text": [
      "Step 0/5000, Loss: 0.850663\n",
      "Step 500/5000, Loss: 0.118061\n",
      "Step 1000/5000, Loss: 0.116467\n",
      "Step 1500/5000, Loss: 0.116205\n",
      "Step 2000/5000, Loss: 0.116371\n",
      "Step 2500/5000, Loss: 0.116480\n",
      "Step 3000/5000, Loss: 0.116384\n",
      "Step 3500/5000, Loss: 0.116292\n",
      "Step 4000/5000, Loss: 0.116166\n",
      "Step 4500/5000, Loss: 0.116682\n",
      "Step 4999/5000, Loss: 0.116615\n",
      "\n",
      "Training model with n_hidden = 100, l1_lambda = 0.0005, l2_lambda = 0.0\n"
     ]
    },
    {
     "data": {
      "application/vnd.jupyter.widget-view+json": {
       "model_id": "0863336251594519a8e10e937be2c109",
       "version_major": 2,
       "version_minor": 0
      },
      "text/plain": [
       "  0%|          | 0/5000 [00:00<?, ?it/s]"
      ]
     },
     "metadata": {},
     "output_type": "display_data"
    },
    {
     "name": "stdout",
     "output_type": "stream",
     "text": [
      "Step 0/5000, Loss: 0.975080\n",
      "Step 500/5000, Loss: 0.114703\n",
      "Step 1000/5000, Loss: 0.112260\n",
      "Step 1500/5000, Loss: 0.111933\n",
      "Step 2000/5000, Loss: 0.111482\n",
      "Step 2500/5000, Loss: 0.110800\n",
      "Step 3000/5000, Loss: 0.109869\n",
      "Step 3500/5000, Loss: 0.110248\n",
      "Step 4000/5000, Loss: 0.109662\n",
      "Step 4500/5000, Loss: 0.109632\n",
      "Step 4999/5000, Loss: 0.109969\n",
      "\n",
      "Training model with n_hidden = 120, l1_lambda = 0.0005, l2_lambda = 0.0\n"
     ]
    },
    {
     "data": {
      "application/vnd.jupyter.widget-view+json": {
       "model_id": "e60d1f6df8c84907bb1d980cb4804c20",
       "version_major": 2,
       "version_minor": 0
      },
      "text/plain": [
       "  0%|          | 0/5000 [00:00<?, ?it/s]"
      ]
     },
     "metadata": {},
     "output_type": "display_data"
    },
    {
     "name": "stdout",
     "output_type": "stream",
     "text": [
      "Step 0/5000, Loss: 1.091073\n",
      "Step 500/5000, Loss: 0.115802\n",
      "Step 1000/5000, Loss: 0.113327\n",
      "Step 1500/5000, Loss: 0.112744\n",
      "Step 2000/5000, Loss: 0.111432\n",
      "Step 2500/5000, Loss: 0.110624\n",
      "Step 3000/5000, Loss: 0.110801\n",
      "Step 3500/5000, Loss: 0.110631\n",
      "Step 4000/5000, Loss: 0.110249\n",
      "Step 4500/5000, Loss: 0.109796\n",
      "Step 4999/5000, Loss: 0.111015\n",
      "\n",
      "Training model with n_hidden = 20, l1_lambda = 0.0005, l2_lambda = 0.0001\n"
     ]
    },
    {
     "data": {
      "application/vnd.jupyter.widget-view+json": {
       "model_id": "cbc14b0e431f442dac3ab2e5544a75a0",
       "version_major": 2,
       "version_minor": 0
      },
      "text/plain": [
       "  0%|          | 0/5000 [00:00<?, ?it/s]"
      ]
     },
     "metadata": {},
     "output_type": "display_data"
    },
    {
     "name": "stdout",
     "output_type": "stream",
     "text": [
      "Step 0/5000, Loss: 0.371827\n",
      "Step 500/5000, Loss: 0.116072\n",
      "Step 1000/5000, Loss: 0.112114\n",
      "Step 1500/5000, Loss: 0.111432\n",
      "Step 2000/5000, Loss: 0.111970\n",
      "Step 2500/5000, Loss: 0.111404\n",
      "Step 3000/5000, Loss: 0.110601\n",
      "Step 3500/5000, Loss: 0.111467\n",
      "Step 4000/5000, Loss: 0.110537\n",
      "Step 4500/5000, Loss: 0.110693\n",
      "Step 4999/5000, Loss: 0.111653\n",
      "\n",
      "Training model with n_hidden = 40, l1_lambda = 0.0005, l2_lambda = 0.0001\n"
     ]
    },
    {
     "data": {
      "application/vnd.jupyter.widget-view+json": {
       "model_id": "42aee1f64acf4abfa2f4bfdc57fe69cd",
       "version_major": 2,
       "version_minor": 0
      },
      "text/plain": [
       "  0%|          | 0/5000 [00:00<?, ?it/s]"
      ]
     },
     "metadata": {},
     "output_type": "display_data"
    },
    {
     "name": "stdout",
     "output_type": "stream",
     "text": [
      "Step 0/5000, Loss: 0.560370\n",
      "Step 500/5000, Loss: 0.113452\n",
      "Step 1000/5000, Loss: 0.112118\n",
      "Step 1500/5000, Loss: 0.111803\n",
      "Step 2000/5000, Loss: 0.111975\n",
      "Step 2500/5000, Loss: 0.111948\n",
      "Step 3000/5000, Loss: 0.111722\n",
      "Step 3500/5000, Loss: 0.110513\n",
      "Step 4000/5000, Loss: 0.111124\n",
      "Step 4500/5000, Loss: 0.111215\n",
      "Step 4999/5000, Loss: 0.111601\n",
      "\n",
      "Training model with n_hidden = 60, l1_lambda = 0.0005, l2_lambda = 0.0001\n"
     ]
    },
    {
     "data": {
      "application/vnd.jupyter.widget-view+json": {
       "model_id": "0311d36d456240e3930427aa4777ea3f",
       "version_major": 2,
       "version_minor": 0
      },
      "text/plain": [
       "  0%|          | 0/5000 [00:00<?, ?it/s]"
      ]
     },
     "metadata": {},
     "output_type": "display_data"
    },
    {
     "name": "stdout",
     "output_type": "stream",
     "text": [
      "Step 0/5000, Loss: 0.727985\n",
      "Step 500/5000, Loss: 0.118769\n",
      "Step 1000/5000, Loss: 0.112428\n",
      "Step 1500/5000, Loss: 0.112515\n",
      "Step 2000/5000, Loss: 0.111222\n",
      "Step 2500/5000, Loss: 0.111803\n",
      "Step 3000/5000, Loss: 0.112526\n",
      "Step 3500/5000, Loss: 0.110724\n",
      "Step 4000/5000, Loss: 0.111377\n",
      "Step 4500/5000, Loss: 0.111282\n",
      "Step 4999/5000, Loss: 0.111196\n",
      "\n",
      "Training model with n_hidden = 80, l1_lambda = 0.0005, l2_lambda = 0.0001\n"
     ]
    },
    {
     "data": {
      "application/vnd.jupyter.widget-view+json": {
       "model_id": "6350458b009444e39a9a70e3900b251a",
       "version_major": 2,
       "version_minor": 0
      },
      "text/plain": [
       "  0%|          | 0/5000 [00:00<?, ?it/s]"
      ]
     },
     "metadata": {},
     "output_type": "display_data"
    },
    {
     "name": "stdout",
     "output_type": "stream",
     "text": [
      "Step 0/5000, Loss: 0.865115\n",
      "Step 500/5000, Loss: 0.114630\n",
      "Step 1000/5000, Loss: 0.113308\n",
      "Step 1500/5000, Loss: 0.112588\n",
      "Step 2000/5000, Loss: 0.112249\n",
      "Step 2500/5000, Loss: 0.111466\n",
      "Step 3000/5000, Loss: 0.111816\n",
      "Step 3500/5000, Loss: 0.111548\n",
      "Step 4000/5000, Loss: 0.110827\n",
      "Step 4500/5000, Loss: 0.111207\n",
      "Step 4999/5000, Loss: 0.111537\n",
      "\n",
      "Training model with n_hidden = 100, l1_lambda = 0.0005, l2_lambda = 0.0001\n"
     ]
    },
    {
     "data": {
      "application/vnd.jupyter.widget-view+json": {
       "model_id": "c98150342a414cc29b1cf0c22c0864b9",
       "version_major": 2,
       "version_minor": 0
      },
      "text/plain": [
       "  0%|          | 0/5000 [00:00<?, ?it/s]"
      ]
     },
     "metadata": {},
     "output_type": "display_data"
    },
    {
     "name": "stdout",
     "output_type": "stream",
     "text": [
      "Step 0/5000, Loss: 0.994953\n",
      "Step 500/5000, Loss: 0.118483\n",
      "Step 1000/5000, Loss: 0.117212\n",
      "Step 1500/5000, Loss: 0.117119\n",
      "Step 2000/5000, Loss: 0.117195\n",
      "Step 2500/5000, Loss: 0.117676\n",
      "Step 3000/5000, Loss: 0.117630\n",
      "Step 3500/5000, Loss: 0.116993\n",
      "Step 4000/5000, Loss: 0.116730\n",
      "Step 4500/5000, Loss: 0.117914\n",
      "Step 4999/5000, Loss: 0.117369\n",
      "\n",
      "Training model with n_hidden = 120, l1_lambda = 0.0005, l2_lambda = 0.0001\n"
     ]
    },
    {
     "data": {
      "application/vnd.jupyter.widget-view+json": {
       "model_id": "a89585e1963d4a2ab5212f4b237ee69c",
       "version_major": 2,
       "version_minor": 0
      },
      "text/plain": [
       "  0%|          | 0/5000 [00:00<?, ?it/s]"
      ]
     },
     "metadata": {},
     "output_type": "display_data"
    },
    {
     "name": "stdout",
     "output_type": "stream",
     "text": [
      "Step 0/5000, Loss: 1.110222\n",
      "Step 500/5000, Loss: 0.114642\n",
      "Step 1000/5000, Loss: 0.113880\n",
      "Step 1500/5000, Loss: 0.113317\n",
      "Step 2000/5000, Loss: 0.112872\n",
      "Step 2500/5000, Loss: 0.112383\n",
      "Step 3000/5000, Loss: 0.111969\n",
      "Step 3500/5000, Loss: 0.111653\n",
      "Step 4000/5000, Loss: 0.112234\n",
      "Step 4500/5000, Loss: 0.112191\n",
      "Step 4999/5000, Loss: 0.112286\n",
      "\n",
      "Training model with n_hidden = 20, l1_lambda = 0.0005, l2_lambda = 0.0005\n"
     ]
    },
    {
     "data": {
      "application/vnd.jupyter.widget-view+json": {
       "model_id": "7f1820b910f049fb8b298c125508f7ce",
       "version_major": 2,
       "version_minor": 0
      },
      "text/plain": [
       "  0%|          | 0/5000 [00:00<?, ?it/s]"
      ]
     },
     "metadata": {},
     "output_type": "display_data"
    },
    {
     "name": "stdout",
     "output_type": "stream",
     "text": [
      "Step 0/5000, Loss: 0.400086\n",
      "Step 500/5000, Loss: 0.113938\n",
      "Step 1000/5000, Loss: 0.113050\n",
      "Step 1500/5000, Loss: 0.113227\n",
      "Step 2000/5000, Loss: 0.112735\n",
      "Step 2500/5000, Loss: 0.113738\n",
      "Step 3000/5000, Loss: 0.112479\n",
      "Step 3500/5000, Loss: 0.112639\n",
      "Step 4000/5000, Loss: 0.113711\n",
      "Step 4500/5000, Loss: 0.112747\n",
      "Step 4999/5000, Loss: 0.113290\n",
      "\n",
      "Training model with n_hidden = 40, l1_lambda = 0.0005, l2_lambda = 0.0005\n"
     ]
    },
    {
     "data": {
      "application/vnd.jupyter.widget-view+json": {
       "model_id": "37865b63b1f743838dfa20796e7f0594",
       "version_major": 2,
       "version_minor": 0
      },
      "text/plain": [
       "  0%|          | 0/5000 [00:00<?, ?it/s]"
      ]
     },
     "metadata": {},
     "output_type": "display_data"
    },
    {
     "name": "stdout",
     "output_type": "stream",
     "text": [
      "Step 0/5000, Loss: 0.604490\n",
      "Step 500/5000, Loss: 0.114024\n",
      "Step 1000/5000, Loss: 0.113472\n",
      "Step 1500/5000, Loss: 0.113648\n",
      "Step 2000/5000, Loss: 0.113329\n",
      "Step 2500/5000, Loss: 0.113746\n",
      "Step 3000/5000, Loss: 0.113397\n",
      "Step 3500/5000, Loss: 0.113540\n",
      "Step 4000/5000, Loss: 0.113628\n",
      "Step 4500/5000, Loss: 0.113516\n",
      "Step 4999/5000, Loss: 0.113389\n",
      "\n",
      "Training model with n_hidden = 60, l1_lambda = 0.0005, l2_lambda = 0.0005\n"
     ]
    },
    {
     "data": {
      "application/vnd.jupyter.widget-view+json": {
       "model_id": "f4960679a8624c92abff2ecb02078f62",
       "version_major": 2,
       "version_minor": 0
      },
      "text/plain": [
       "  0%|          | 0/5000 [00:00<?, ?it/s]"
      ]
     },
     "metadata": {},
     "output_type": "display_data"
    },
    {
     "name": "stdout",
     "output_type": "stream",
     "text": [
      "Step 0/5000, Loss: 0.764787\n",
      "Step 500/5000, Loss: 0.113636\n",
      "Step 1000/5000, Loss: 0.113145\n",
      "Step 1500/5000, Loss: 0.112482\n",
      "Step 2000/5000, Loss: 0.113379\n",
      "Step 2500/5000, Loss: 0.113206\n",
      "Step 3000/5000, Loss: 0.113177\n",
      "Step 3500/5000, Loss: 0.113728\n",
      "Step 4000/5000, Loss: 0.113307\n",
      "Step 4500/5000, Loss: 0.113016\n",
      "Step 4999/5000, Loss: 0.113322\n",
      "\n",
      "Training model with n_hidden = 80, l1_lambda = 0.0005, l2_lambda = 0.0005\n"
     ]
    },
    {
     "data": {
      "application/vnd.jupyter.widget-view+json": {
       "model_id": "ceb9d25956da47f583eb53c77e46b487",
       "version_major": 2,
       "version_minor": 0
      },
      "text/plain": [
       "  0%|          | 0/5000 [00:00<?, ?it/s]"
      ]
     },
     "metadata": {},
     "output_type": "display_data"
    },
    {
     "name": "stdout",
     "output_type": "stream",
     "text": [
      "Step 0/5000, Loss: 0.924299\n",
      "Step 500/5000, Loss: 0.114444\n",
      "Step 1000/5000, Loss: 0.113806\n",
      "Step 1500/5000, Loss: 0.113777\n",
      "Step 2000/5000, Loss: 0.113273\n",
      "Step 2500/5000, Loss: 0.114059\n",
      "Step 3000/5000, Loss: 0.113608\n",
      "Step 3500/5000, Loss: 0.114107\n",
      "Step 4000/5000, Loss: 0.114041\n",
      "Step 4500/5000, Loss: 0.113555\n",
      "Step 4999/5000, Loss: 0.113578\n",
      "\n",
      "Training model with n_hidden = 100, l1_lambda = 0.0005, l2_lambda = 0.0005\n"
     ]
    },
    {
     "data": {
      "application/vnd.jupyter.widget-view+json": {
       "model_id": "95cbf73ff2e14f07bcc288201a89516f",
       "version_major": 2,
       "version_minor": 0
      },
      "text/plain": [
       "  0%|          | 0/5000 [00:00<?, ?it/s]"
      ]
     },
     "metadata": {},
     "output_type": "display_data"
    },
    {
     "name": "stdout",
     "output_type": "stream",
     "text": [
      "Step 0/5000, Loss: 1.061871\n",
      "Step 500/5000, Loss: 0.118753\n",
      "Step 1000/5000, Loss: 0.114144\n",
      "Step 1500/5000, Loss: 0.113868\n",
      "Step 2000/5000, Loss: 0.113935\n",
      "Step 2500/5000, Loss: 0.114415\n",
      "Step 3000/5000, Loss: 0.114141\n",
      "Step 3500/5000, Loss: 0.114267\n",
      "Step 4000/5000, Loss: 0.114178\n",
      "Step 4500/5000, Loss: 0.113356\n",
      "Step 4999/5000, Loss: 0.113246\n",
      "\n",
      "Training model with n_hidden = 120, l1_lambda = 0.0005, l2_lambda = 0.0005\n"
     ]
    },
    {
     "data": {
      "application/vnd.jupyter.widget-view+json": {
       "model_id": "4b85bffdf0724639b55e048fd2c07047",
       "version_major": 2,
       "version_minor": 0
      },
      "text/plain": [
       "  0%|          | 0/5000 [00:00<?, ?it/s]"
      ]
     },
     "metadata": {},
     "output_type": "display_data"
    },
    {
     "name": "stdout",
     "output_type": "stream",
     "text": [
      "Step 0/5000, Loss: 1.186762\n",
      "Step 500/5000, Loss: 0.115162\n",
      "Step 1000/5000, Loss: 0.114741\n",
      "Step 1500/5000, Loss: 0.114663\n",
      "Step 2000/5000, Loss: 0.113249\n",
      "Step 2500/5000, Loss: 0.113784\n",
      "Step 3000/5000, Loss: 0.114370\n",
      "Step 3500/5000, Loss: 0.113288\n",
      "Step 4000/5000, Loss: 0.114646\n",
      "Step 4500/5000, Loss: 0.114680\n",
      "Step 4999/5000, Loss: 0.114191\n",
      "\n",
      "Training model with n_hidden = 20, l1_lambda = 0.001, l2_lambda = 0.0\n"
     ]
    },
    {
     "data": {
      "application/vnd.jupyter.widget-view+json": {
       "model_id": "0fb5ded7b19543619b5ff2953897e183",
       "version_major": 2,
       "version_minor": 0
      },
      "text/plain": [
       "  0%|          | 0/5000 [00:00<?, ?it/s]"
      ]
     },
     "metadata": {},
     "output_type": "display_data"
    },
    {
     "name": "stdout",
     "output_type": "stream",
     "text": [
      "Step 0/5000, Loss: 0.576527\n",
      "Step 500/5000, Loss: 0.127236\n",
      "Step 1000/5000, Loss: 0.128120\n",
      "Step 1500/5000, Loss: 0.126877\n",
      "Step 2000/5000, Loss: 0.126347\n",
      "Step 2500/5000, Loss: 0.127357\n",
      "Step 3000/5000, Loss: 0.127543\n",
      "Step 3500/5000, Loss: 0.126533\n",
      "Step 4000/5000, Loss: 0.127202\n",
      "Step 4500/5000, Loss: 0.127448\n",
      "Step 4999/5000, Loss: 0.127151\n",
      "\n",
      "Training model with n_hidden = 40, l1_lambda = 0.001, l2_lambda = 0.0\n"
     ]
    },
    {
     "data": {
      "application/vnd.jupyter.widget-view+json": {
       "model_id": "4e66cd620a0e484b89e2bb87d1424b95",
       "version_major": 2,
       "version_minor": 0
      },
      "text/plain": [
       "  0%|          | 0/5000 [00:00<?, ?it/s]"
      ]
     },
     "metadata": {},
     "output_type": "display_data"
    },
    {
     "name": "stdout",
     "output_type": "stream",
     "text": [
      "Step 0/5000, Loss: 0.937851\n",
      "Step 500/5000, Loss: 0.126860\n",
      "Step 1000/5000, Loss: 0.127157\n",
      "Step 1500/5000, Loss: 0.127627\n",
      "Step 2000/5000, Loss: 0.128066\n",
      "Step 2500/5000, Loss: 0.127254\n",
      "Step 3000/5000, Loss: 0.126839\n",
      "Step 3500/5000, Loss: 0.127444\n",
      "Step 4000/5000, Loss: 0.126418\n",
      "Step 4500/5000, Loss: 0.127906\n",
      "Step 4999/5000, Loss: 0.127373\n",
      "\n",
      "Training model with n_hidden = 60, l1_lambda = 0.001, l2_lambda = 0.0\n"
     ]
    },
    {
     "data": {
      "application/vnd.jupyter.widget-view+json": {
       "model_id": "7c1761bb9e334e5481cd0465afbdcbf1",
       "version_major": 2,
       "version_minor": 0
      },
      "text/plain": [
       "  0%|          | 0/5000 [00:00<?, ?it/s]"
      ]
     },
     "metadata": {},
     "output_type": "display_data"
    },
    {
     "name": "stdout",
     "output_type": "stream",
     "text": [
      "Step 0/5000, Loss: 1.228034\n",
      "Step 500/5000, Loss: 0.128377\n",
      "Step 1000/5000, Loss: 0.127965\n",
      "Step 1500/5000, Loss: 0.128551\n",
      "Step 2000/5000, Loss: 0.127669\n",
      "Step 2500/5000, Loss: 0.128330\n",
      "Step 3000/5000, Loss: 0.127854\n",
      "Step 3500/5000, Loss: 0.127541\n",
      "Step 4000/5000, Loss: 0.127303\n",
      "Step 4500/5000, Loss: 0.127476\n",
      "Step 4999/5000, Loss: 0.127900\n",
      "\n",
      "Training model with n_hidden = 80, l1_lambda = 0.001, l2_lambda = 0.0\n"
     ]
    },
    {
     "data": {
      "application/vnd.jupyter.widget-view+json": {
       "model_id": "274bf2a6b1224c2ebb9e569b38ee6873",
       "version_major": 2,
       "version_minor": 0
      },
      "text/plain": [
       "  0%|          | 0/5000 [00:00<?, ?it/s]"
      ]
     },
     "metadata": {},
     "output_type": "display_data"
    },
    {
     "name": "stdout",
     "output_type": "stream",
     "text": [
      "Step 0/5000, Loss: 1.519473\n",
      "Step 500/5000, Loss: 0.128246\n",
      "Step 1000/5000, Loss: 0.127709\n",
      "Step 1500/5000, Loss: 0.128349\n",
      "Step 2000/5000, Loss: 0.127838\n",
      "Step 2500/5000, Loss: 0.129225\n",
      "Step 3000/5000, Loss: 0.128924\n",
      "Step 3500/5000, Loss: 0.128685\n",
      "Step 4000/5000, Loss: 0.128914\n",
      "Step 4500/5000, Loss: 0.128227\n",
      "Step 4999/5000, Loss: 0.127469\n",
      "\n",
      "Training model with n_hidden = 100, l1_lambda = 0.001, l2_lambda = 0.0\n"
     ]
    },
    {
     "data": {
      "application/vnd.jupyter.widget-view+json": {
       "model_id": "66cdf6601c594a08bd75159eb80cfbdc",
       "version_major": 2,
       "version_minor": 0
      },
      "text/plain": [
       "  0%|          | 0/5000 [00:00<?, ?it/s]"
      ]
     },
     "metadata": {},
     "output_type": "display_data"
    },
    {
     "name": "stdout",
     "output_type": "stream",
     "text": [
      "Step 0/5000, Loss: 1.783715\n",
      "Step 500/5000, Loss: 0.128880\n",
      "Step 1000/5000, Loss: 0.128305\n",
      "Step 1500/5000, Loss: 0.129012\n",
      "Step 2000/5000, Loss: 0.129645\n",
      "Step 2500/5000, Loss: 0.129147\n",
      "Step 3000/5000, Loss: 0.128678\n",
      "Step 3500/5000, Loss: 0.127812\n",
      "Step 4000/5000, Loss: 0.128304\n",
      "Step 4500/5000, Loss: 0.129242\n",
      "Step 4999/5000, Loss: 0.129400\n",
      "\n",
      "Training model with n_hidden = 120, l1_lambda = 0.001, l2_lambda = 0.0\n"
     ]
    },
    {
     "data": {
      "application/vnd.jupyter.widget-view+json": {
       "model_id": "05b4c9debc6c41eb8eb5e1c33107d477",
       "version_major": 2,
       "version_minor": 0
      },
      "text/plain": [
       "  0%|          | 0/5000 [00:00<?, ?it/s]"
      ]
     },
     "metadata": {},
     "output_type": "display_data"
    },
    {
     "name": "stdout",
     "output_type": "stream",
     "text": [
      "Step 0/5000, Loss: 2.011745\n",
      "Step 500/5000, Loss: 0.128724\n",
      "Step 1000/5000, Loss: 0.129690\n",
      "Step 1500/5000, Loss: 0.128772\n",
      "Step 2000/5000, Loss: 0.129381\n",
      "Step 2500/5000, Loss: 0.130131\n",
      "Step 3000/5000, Loss: 0.128667\n",
      "Step 3500/5000, Loss: 0.128993\n",
      "Step 4000/5000, Loss: 0.128770\n",
      "Step 4500/5000, Loss: 0.129243\n",
      "Step 4999/5000, Loss: 0.129067\n",
      "\n",
      "Training model with n_hidden = 20, l1_lambda = 0.001, l2_lambda = 0.0001\n"
     ]
    },
    {
     "data": {
      "application/vnd.jupyter.widget-view+json": {
       "model_id": "157ab4c1caee4754bfe189b4ec548181",
       "version_major": 2,
       "version_minor": 0
      },
      "text/plain": [
       "  0%|          | 0/5000 [00:00<?, ?it/s]"
      ]
     },
     "metadata": {},
     "output_type": "display_data"
    },
    {
     "name": "stdout",
     "output_type": "stream",
     "text": [
      "Step 0/5000, Loss: 0.590935\n",
      "Step 500/5000, Loss: 0.126782\n",
      "Step 1000/5000, Loss: 0.126789\n",
      "Step 1500/5000, Loss: 0.127990\n",
      "Step 2000/5000, Loss: 0.127744\n",
      "Step 2500/5000, Loss: 0.127219\n",
      "Step 3000/5000, Loss: 0.127583\n",
      "Step 3500/5000, Loss: 0.126230\n",
      "Step 4000/5000, Loss: 0.126878\n",
      "Step 4500/5000, Loss: 0.127452\n",
      "Step 4999/5000, Loss: 0.126589\n",
      "\n",
      "Training model with n_hidden = 40, l1_lambda = 0.001, l2_lambda = 0.0001\n"
     ]
    },
    {
     "data": {
      "application/vnd.jupyter.widget-view+json": {
       "model_id": "1d06f7331a434965b16caf1fb1c00cea",
       "version_major": 2,
       "version_minor": 0
      },
      "text/plain": [
       "  0%|          | 0/5000 [00:00<?, ?it/s]"
      ]
     },
     "metadata": {},
     "output_type": "display_data"
    },
    {
     "name": "stdout",
     "output_type": "stream",
     "text": [
      "Step 0/5000, Loss: 0.947059\n",
      "Step 500/5000, Loss: 0.128425\n",
      "Step 1000/5000, Loss: 0.127926\n",
      "Step 1500/5000, Loss: 0.127744\n",
      "Step 2000/5000, Loss: 0.127315\n",
      "Step 2500/5000, Loss: 0.128047\n",
      "Step 3000/5000, Loss: 0.127881\n",
      "Step 3500/5000, Loss: 0.127235\n",
      "Step 4000/5000, Loss: 0.128367\n",
      "Step 4500/5000, Loss: 0.127872\n",
      "Step 4999/5000, Loss: 0.127954\n",
      "\n",
      "Training model with n_hidden = 60, l1_lambda = 0.001, l2_lambda = 0.0001\n"
     ]
    },
    {
     "data": {
      "application/vnd.jupyter.widget-view+json": {
       "model_id": "4beb5e9b8562485c8733d8bc259a3580",
       "version_major": 2,
       "version_minor": 0
      },
      "text/plain": [
       "  0%|          | 0/5000 [00:00<?, ?it/s]"
      ]
     },
     "metadata": {},
     "output_type": "display_data"
    },
    {
     "name": "stdout",
     "output_type": "stream",
     "text": [
      "Step 0/5000, Loss: 1.260011\n",
      "Step 500/5000, Loss: 0.127940\n",
      "Step 1000/5000, Loss: 0.127508\n",
      "Step 1500/5000, Loss: 0.128910\n",
      "Step 2000/5000, Loss: 0.128387\n",
      "Step 2500/5000, Loss: 0.128453\n",
      "Step 3000/5000, Loss: 0.128151\n",
      "Step 3500/5000, Loss: 0.128699\n",
      "Step 4000/5000, Loss: 0.129029\n",
      "Step 4500/5000, Loss: 0.128562\n",
      "Step 4999/5000, Loss: 0.128123\n",
      "\n",
      "Training model with n_hidden = 80, l1_lambda = 0.001, l2_lambda = 0.0001\n"
     ]
    },
    {
     "data": {
      "application/vnd.jupyter.widget-view+json": {
       "model_id": "fa26497b2dab419f90b55fee16d1987a",
       "version_major": 2,
       "version_minor": 0
      },
      "text/plain": [
       "  0%|          | 0/5000 [00:00<?, ?it/s]"
      ]
     },
     "metadata": {},
     "output_type": "display_data"
    },
    {
     "name": "stdout",
     "output_type": "stream",
     "text": [
      "Step 0/5000, Loss: 1.553691\n",
      "Step 500/5000, Loss: 0.129366\n",
      "Step 1000/5000, Loss: 0.128706\n",
      "Step 1500/5000, Loss: 0.129369\n",
      "Step 2000/5000, Loss: 0.128183\n",
      "Step 2500/5000, Loss: 0.127991\n",
      "Step 3000/5000, Loss: 0.128437\n",
      "Step 3500/5000, Loss: 0.128884\n",
      "Step 4000/5000, Loss: 0.128269\n",
      "Step 4500/5000, Loss: 0.128120\n",
      "Step 4999/5000, Loss: 0.128458\n",
      "\n",
      "Training model with n_hidden = 100, l1_lambda = 0.001, l2_lambda = 0.0001\n"
     ]
    },
    {
     "data": {
      "application/vnd.jupyter.widget-view+json": {
       "model_id": "d8279c4ebbc14745b4820a25f6b83a41",
       "version_major": 2,
       "version_minor": 0
      },
      "text/plain": [
       "  0%|          | 0/5000 [00:00<?, ?it/s]"
      ]
     },
     "metadata": {},
     "output_type": "display_data"
    },
    {
     "name": "stdout",
     "output_type": "stream",
     "text": [
      "Step 0/5000, Loss: 1.790093\n",
      "Step 500/5000, Loss: 0.129472\n",
      "Step 1000/5000, Loss: 0.128673\n",
      "Step 1500/5000, Loss: 0.128705\n",
      "Step 2000/5000, Loss: 0.129184\n",
      "Step 2500/5000, Loss: 0.129238\n",
      "Step 3000/5000, Loss: 0.129564\n",
      "Step 3500/5000, Loss: 0.129023\n",
      "Step 4000/5000, Loss: 0.128930\n",
      "Step 4500/5000, Loss: 0.130328\n",
      "Step 4999/5000, Loss: 0.129561\n",
      "\n",
      "Training model with n_hidden = 120, l1_lambda = 0.001, l2_lambda = 0.0001\n"
     ]
    },
    {
     "data": {
      "application/vnd.jupyter.widget-view+json": {
       "model_id": "fbd8f901b5334142ab1dc6e2164967ae",
       "version_major": 2,
       "version_minor": 0
      },
      "text/plain": [
       "  0%|          | 0/5000 [00:00<?, ?it/s]"
      ]
     },
     "metadata": {},
     "output_type": "display_data"
    },
    {
     "name": "stdout",
     "output_type": "stream",
     "text": [
      "Step 0/5000, Loss: 2.038009\n",
      "Step 500/5000, Loss: 0.129731\n",
      "Step 1000/5000, Loss: 0.128985\n",
      "Step 1500/5000, Loss: 0.129820\n",
      "Step 2000/5000, Loss: 0.128820\n",
      "Step 2500/5000, Loss: 0.129391\n",
      "Step 3000/5000, Loss: 0.129718\n",
      "Step 3500/5000, Loss: 0.128722\n",
      "Step 4000/5000, Loss: 0.129892\n",
      "Step 4500/5000, Loss: 0.129770\n",
      "Step 4999/5000, Loss: 0.129796\n",
      "\n",
      "Training model with n_hidden = 20, l1_lambda = 0.001, l2_lambda = 0.0005\n"
     ]
    },
    {
     "data": {
      "application/vnd.jupyter.widget-view+json": {
       "model_id": "7ee69c25e6eb4a7880f461dbb6252375",
       "version_major": 2,
       "version_minor": 0
      },
      "text/plain": [
       "  0%|          | 0/5000 [00:00<?, ?it/s]"
      ]
     },
     "metadata": {},
     "output_type": "display_data"
    },
    {
     "name": "stdout",
     "output_type": "stream",
     "text": [
      "Step 0/5000, Loss: 0.621862\n",
      "Step 500/5000, Loss: 0.122372\n",
      "Step 1000/5000, Loss: 0.121593\n",
      "Step 1500/5000, Loss: 0.121529\n",
      "Step 2000/5000, Loss: 0.120910\n",
      "Step 2500/5000, Loss: 0.119554\n",
      "Step 3000/5000, Loss: 0.120323\n",
      "Step 3500/5000, Loss: 0.120095\n",
      "Step 4000/5000, Loss: 0.120289\n",
      "Step 4500/5000, Loss: 0.120096\n",
      "Step 4999/5000, Loss: 0.119487\n",
      "\n",
      "Training model with n_hidden = 40, l1_lambda = 0.001, l2_lambda = 0.0005\n"
     ]
    },
    {
     "data": {
      "application/vnd.jupyter.widget-view+json": {
       "model_id": "4e1a6e5645f5440daec5f39055a908b2",
       "version_major": 2,
       "version_minor": 0
      },
      "text/plain": [
       "  0%|          | 0/5000 [00:00<?, ?it/s]"
      ]
     },
     "metadata": {},
     "output_type": "display_data"
    },
    {
     "name": "stdout",
     "output_type": "stream",
     "text": [
      "Step 0/5000, Loss: 0.992429\n",
      "Step 500/5000, Loss: 0.122450\n",
      "Step 1000/5000, Loss: 0.122044\n",
      "Step 1500/5000, Loss: 0.121775\n",
      "Step 2000/5000, Loss: 0.120072\n",
      "Step 2500/5000, Loss: 0.120312\n",
      "Step 3000/5000, Loss: 0.120795\n",
      "Step 3500/5000, Loss: 0.120965\n",
      "Step 4000/5000, Loss: 0.120319\n",
      "Step 4500/5000, Loss: 0.120993\n",
      "Step 4999/5000, Loss: 0.120363\n",
      "\n",
      "Training model with n_hidden = 60, l1_lambda = 0.001, l2_lambda = 0.0005\n"
     ]
    },
    {
     "data": {
      "application/vnd.jupyter.widget-view+json": {
       "model_id": "27c7e72283244ab19c6e8997a4866b33",
       "version_major": 2,
       "version_minor": 0
      },
      "text/plain": [
       "  0%|          | 0/5000 [00:00<?, ?it/s]"
      ]
     },
     "metadata": {},
     "output_type": "display_data"
    },
    {
     "name": "stdout",
     "output_type": "stream",
     "text": [
      "Step 0/5000, Loss: 1.312865\n",
      "Step 500/5000, Loss: 0.129823\n",
      "Step 1000/5000, Loss: 0.128979\n",
      "Step 1500/5000, Loss: 0.129364\n",
      "Step 2000/5000, Loss: 0.128884\n",
      "Step 2500/5000, Loss: 0.128746\n",
      "Step 3000/5000, Loss: 0.127941\n",
      "Step 3500/5000, Loss: 0.127730\n",
      "Step 4000/5000, Loss: 0.128477\n",
      "Step 4500/5000, Loss: 0.128250\n",
      "Step 4999/5000, Loss: 0.128543\n",
      "\n",
      "Training model with n_hidden = 80, l1_lambda = 0.001, l2_lambda = 0.0005\n"
     ]
    },
    {
     "data": {
      "application/vnd.jupyter.widget-view+json": {
       "model_id": "36184ce50814424f92e343bc45822ca6",
       "version_major": 2,
       "version_minor": 0
      },
      "text/plain": [
       "  0%|          | 0/5000 [00:00<?, ?it/s]"
      ]
     },
     "metadata": {},
     "output_type": "display_data"
    },
    {
     "name": "stdout",
     "output_type": "stream",
     "text": [
      "Step 0/5000, Loss: 1.635447\n",
      "Step 500/5000, Loss: 0.129415\n",
      "Step 1000/5000, Loss: 0.129321\n",
      "Step 1500/5000, Loss: 0.129503\n",
      "Step 2000/5000, Loss: 0.129314\n",
      "Step 2500/5000, Loss: 0.129907\n",
      "Step 3000/5000, Loss: 0.129283\n",
      "Step 3500/5000, Loss: 0.129163\n",
      "Step 4000/5000, Loss: 0.129725\n",
      "Step 4500/5000, Loss: 0.129025\n",
      "Step 4999/5000, Loss: 0.129763\n",
      "\n",
      "Training model with n_hidden = 100, l1_lambda = 0.001, l2_lambda = 0.0005\n"
     ]
    },
    {
     "data": {
      "application/vnd.jupyter.widget-view+json": {
       "model_id": "59c2abf1ca7b4601b64d27b40dc213bf",
       "version_major": 2,
       "version_minor": 0
      },
      "text/plain": [
       "  0%|          | 0/5000 [00:00<?, ?it/s]"
      ]
     },
     "metadata": {},
     "output_type": "display_data"
    },
    {
     "name": "stdout",
     "output_type": "stream",
     "text": [
      "Step 0/5000, Loss: 1.863039\n",
      "Step 500/5000, Loss: 0.130260\n",
      "Step 1000/5000, Loss: 0.129693\n",
      "Step 1500/5000, Loss: 0.129514\n",
      "Step 2000/5000, Loss: 0.129440\n",
      "Step 2500/5000, Loss: 0.129043\n",
      "Step 3000/5000, Loss: 0.129706\n",
      "Step 3500/5000, Loss: 0.129688\n",
      "Step 4000/5000, Loss: 0.129241\n",
      "Step 4500/5000, Loss: 0.130164\n",
      "Step 4999/5000, Loss: 0.130217\n",
      "\n",
      "Training model with n_hidden = 120, l1_lambda = 0.001, l2_lambda = 0.0005\n"
     ]
    },
    {
     "data": {
      "application/vnd.jupyter.widget-view+json": {
       "model_id": "44e34abea078411584fbce73e2f021f3",
       "version_major": 2,
       "version_minor": 0
      },
      "text/plain": [
       "  0%|          | 0/5000 [00:00<?, ?it/s]"
      ]
     },
     "metadata": {},
     "output_type": "display_data"
    },
    {
     "name": "stdout",
     "output_type": "stream",
     "text": [
      "Step 0/5000, Loss: 2.091598\n",
      "Step 500/5000, Loss: 0.129712\n",
      "Step 1000/5000, Loss: 0.130780\n",
      "Step 1500/5000, Loss: 0.130561\n",
      "Step 2000/5000, Loss: 0.129925\n",
      "Step 2500/5000, Loss: 0.130231\n",
      "Step 3000/5000, Loss: 0.131304\n",
      "Step 3500/5000, Loss: 0.130360\n",
      "Step 4000/5000, Loss: 0.130165\n",
      "Step 4500/5000, Loss: 0.129490\n",
      "Step 4999/5000, Loss: 0.129806\n"
     ]
    }
   ],
   "source": [
    "n_features = 100\n",
    "n_hidden_list = [20, 40, 60, 80, 100, 120]\n",
    "l1_lambda_list = [0.0, 5e-4, 1e-3]\n",
    "l2_lambda_list = [0.0, 1e-4, 5e-4]\n",
    "results_regularization = run_experiment(\n",
    "    n_features=n_features,\n",
    "    n_hidden_list=n_hidden_list,\n",
    "    l1_lambda_list=l1_lambda_list,\n",
    "    l2_lambda_list=l2_lambda_list,\n",
    "    attack_type='pgd',\n",
    "    nonlinear_hidden=False,\n",
    "    num_layers=1,\n",
    "    feature_probability=0.5,\n",
    "    correlated=False\n",
    ")"
   ]
  },
  {
   "cell_type": "code",
   "execution_count": 12,
   "metadata": {},
   "outputs": [
    {
     "name": "stdout",
     "output_type": "stream",
     "text": [
      "\n",
      "Results with Different Regularization Strengths:\n"
     ]
    },
    {
     "data": {
      "text/html": [
       "<div>\n",
       "<style scoped>\n",
       "    .dataframe tbody tr th:only-of-type {\n",
       "        vertical-align: middle;\n",
       "    }\n",
       "\n",
       "    .dataframe tbody tr th {\n",
       "        vertical-align: top;\n",
       "    }\n",
       "\n",
       "    .dataframe thead th {\n",
       "        text-align: right;\n",
       "    }\n",
       "</style>\n",
       "<table border=\"1\" class=\"dataframe\">\n",
       "  <thead>\n",
       "    <tr style=\"text-align: right;\">\n",
       "      <th></th>\n",
       "      <th>n_hidden</th>\n",
       "      <th>l1_lambda</th>\n",
       "      <th>l2_lambda</th>\n",
       "      <th>loss_clean</th>\n",
       "      <th>loss_adv</th>\n",
       "      <th>superposition</th>\n",
       "      <th>attack_type</th>\n",
       "      <th>nonlinear_hidden</th>\n",
       "      <th>num_layers</th>\n",
       "      <th>feature_probability</th>\n",
       "      <th>correlated</th>\n",
       "    </tr>\n",
       "  </thead>\n",
       "  <tbody>\n",
       "    <tr>\n",
       "      <th>0</th>\n",
       "      <td>20</td>\n",
       "      <td>0.0000</td>\n",
       "      <td>0.0000</td>\n",
       "      <td>7.793858e-02</td>\n",
       "      <td>0.086548</td>\n",
       "      <td>0.006443</td>\n",
       "      <td>pgd</td>\n",
       "      <td>False</td>\n",
       "      <td>1</td>\n",
       "      <td>0.5</td>\n",
       "      <td>False</td>\n",
       "    </tr>\n",
       "    <tr>\n",
       "      <th>1</th>\n",
       "      <td>40</td>\n",
       "      <td>0.0000</td>\n",
       "      <td>0.0000</td>\n",
       "      <td>5.060347e-02</td>\n",
       "      <td>0.065395</td>\n",
       "      <td>0.012713</td>\n",
       "      <td>pgd</td>\n",
       "      <td>False</td>\n",
       "      <td>1</td>\n",
       "      <td>0.5</td>\n",
       "      <td>False</td>\n",
       "    </tr>\n",
       "    <tr>\n",
       "      <th>2</th>\n",
       "      <td>60</td>\n",
       "      <td>0.0000</td>\n",
       "      <td>0.0000</td>\n",
       "      <td>3.008052e-02</td>\n",
       "      <td>0.047171</td>\n",
       "      <td>0.024094</td>\n",
       "      <td>pgd</td>\n",
       "      <td>False</td>\n",
       "      <td>1</td>\n",
       "      <td>0.5</td>\n",
       "      <td>False</td>\n",
       "    </tr>\n",
       "    <tr>\n",
       "      <th>3</th>\n",
       "      <td>80</td>\n",
       "      <td>0.0000</td>\n",
       "      <td>0.0000</td>\n",
       "      <td>1.513784e-02</td>\n",
       "      <td>0.029072</td>\n",
       "      <td>0.040365</td>\n",
       "      <td>pgd</td>\n",
       "      <td>False</td>\n",
       "      <td>1</td>\n",
       "      <td>0.5</td>\n",
       "      <td>False</td>\n",
       "    </tr>\n",
       "    <tr>\n",
       "      <th>4</th>\n",
       "      <td>100</td>\n",
       "      <td>0.0000</td>\n",
       "      <td>0.0000</td>\n",
       "      <td>1.129020e-05</td>\n",
       "      <td>0.009599</td>\n",
       "      <td>0.049645</td>\n",
       "      <td>pgd</td>\n",
       "      <td>False</td>\n",
       "      <td>1</td>\n",
       "      <td>0.5</td>\n",
       "      <td>False</td>\n",
       "    </tr>\n",
       "    <tr>\n",
       "      <th>5</th>\n",
       "      <td>120</td>\n",
       "      <td>0.0000</td>\n",
       "      <td>0.0000</td>\n",
       "      <td>8.881825e-08</td>\n",
       "      <td>0.009511</td>\n",
       "      <td>0.055766</td>\n",
       "      <td>pgd</td>\n",
       "      <td>False</td>\n",
       "      <td>1</td>\n",
       "      <td>0.5</td>\n",
       "      <td>False</td>\n",
       "    </tr>\n",
       "    <tr>\n",
       "      <th>6</th>\n",
       "      <td>20</td>\n",
       "      <td>0.0000</td>\n",
       "      <td>0.0001</td>\n",
       "      <td>7.909179e-02</td>\n",
       "      <td>0.087337</td>\n",
       "      <td>0.007422</td>\n",
       "      <td>pgd</td>\n",
       "      <td>False</td>\n",
       "      <td>1</td>\n",
       "      <td>0.5</td>\n",
       "      <td>False</td>\n",
       "    </tr>\n",
       "    <tr>\n",
       "      <th>7</th>\n",
       "      <td>40</td>\n",
       "      <td>0.0000</td>\n",
       "      <td>0.0001</td>\n",
       "      <td>5.340263e-02</td>\n",
       "      <td>0.064579</td>\n",
       "      <td>0.007742</td>\n",
       "      <td>pgd</td>\n",
       "      <td>False</td>\n",
       "      <td>1</td>\n",
       "      <td>0.5</td>\n",
       "      <td>False</td>\n",
       "    </tr>\n",
       "    <tr>\n",
       "      <th>8</th>\n",
       "      <td>60</td>\n",
       "      <td>0.0000</td>\n",
       "      <td>0.0001</td>\n",
       "      <td>3.262989e-02</td>\n",
       "      <td>0.044728</td>\n",
       "      <td>0.011462</td>\n",
       "      <td>pgd</td>\n",
       "      <td>False</td>\n",
       "      <td>1</td>\n",
       "      <td>0.5</td>\n",
       "      <td>False</td>\n",
       "    </tr>\n",
       "    <tr>\n",
       "      <th>9</th>\n",
       "      <td>80</td>\n",
       "      <td>0.0000</td>\n",
       "      <td>0.0001</td>\n",
       "      <td>1.655124e-02</td>\n",
       "      <td>0.026925</td>\n",
       "      <td>0.015748</td>\n",
       "      <td>pgd</td>\n",
       "      <td>False</td>\n",
       "      <td>1</td>\n",
       "      <td>0.5</td>\n",
       "      <td>False</td>\n",
       "    </tr>\n",
       "    <tr>\n",
       "      <th>10</th>\n",
       "      <td>100</td>\n",
       "      <td>0.0000</td>\n",
       "      <td>0.0001</td>\n",
       "      <td>9.919334e-04</td>\n",
       "      <td>0.014071</td>\n",
       "      <td>0.000812</td>\n",
       "      <td>pgd</td>\n",
       "      <td>False</td>\n",
       "      <td>1</td>\n",
       "      <td>0.5</td>\n",
       "      <td>False</td>\n",
       "    </tr>\n",
       "    <tr>\n",
       "      <th>11</th>\n",
       "      <td>120</td>\n",
       "      <td>0.0000</td>\n",
       "      <td>0.0001</td>\n",
       "      <td>9.780693e-04</td>\n",
       "      <td>0.014058</td>\n",
       "      <td>0.005923</td>\n",
       "      <td>pgd</td>\n",
       "      <td>False</td>\n",
       "      <td>1</td>\n",
       "      <td>0.5</td>\n",
       "      <td>False</td>\n",
       "    </tr>\n",
       "    <tr>\n",
       "      <th>12</th>\n",
       "      <td>20</td>\n",
       "      <td>0.0000</td>\n",
       "      <td>0.0005</td>\n",
       "      <td>8.807811e-02</td>\n",
       "      <td>0.094913</td>\n",
       "      <td>0.030975</td>\n",
       "      <td>pgd</td>\n",
       "      <td>False</td>\n",
       "      <td>1</td>\n",
       "      <td>0.5</td>\n",
       "      <td>False</td>\n",
       "    </tr>\n",
       "    <tr>\n",
       "      <th>13</th>\n",
       "      <td>40</td>\n",
       "      <td>0.0000</td>\n",
       "      <td>0.0005</td>\n",
       "      <td>7.198719e-02</td>\n",
       "      <td>0.081280</td>\n",
       "      <td>0.038762</td>\n",
       "      <td>pgd</td>\n",
       "      <td>False</td>\n",
       "      <td>1</td>\n",
       "      <td>0.5</td>\n",
       "      <td>False</td>\n",
       "    </tr>\n",
       "    <tr>\n",
       "      <th>14</th>\n",
       "      <td>60</td>\n",
       "      <td>0.0000</td>\n",
       "      <td>0.0005</td>\n",
       "      <td>5.564269e-02</td>\n",
       "      <td>0.068127</td>\n",
       "      <td>0.039001</td>\n",
       "      <td>pgd</td>\n",
       "      <td>False</td>\n",
       "      <td>1</td>\n",
       "      <td>0.5</td>\n",
       "      <td>False</td>\n",
       "    </tr>\n",
       "    <tr>\n",
       "      <th>15</th>\n",
       "      <td>80</td>\n",
       "      <td>0.0000</td>\n",
       "      <td>0.0005</td>\n",
       "      <td>3.959765e-02</td>\n",
       "      <td>0.054142</td>\n",
       "      <td>0.031794</td>\n",
       "      <td>pgd</td>\n",
       "      <td>False</td>\n",
       "      <td>1</td>\n",
       "      <td>0.5</td>\n",
       "      <td>False</td>\n",
       "    </tr>\n",
       "    <tr>\n",
       "      <th>16</th>\n",
       "      <td>100</td>\n",
       "      <td>0.0000</td>\n",
       "      <td>0.0005</td>\n",
       "      <td>2.425749e-02</td>\n",
       "      <td>0.040798</td>\n",
       "      <td>0.004983</td>\n",
       "      <td>pgd</td>\n",
       "      <td>False</td>\n",
       "      <td>1</td>\n",
       "      <td>0.5</td>\n",
       "      <td>False</td>\n",
       "    </tr>\n",
       "    <tr>\n",
       "      <th>17</th>\n",
       "      <td>120</td>\n",
       "      <td>0.0000</td>\n",
       "      <td>0.0005</td>\n",
       "      <td>2.400866e-02</td>\n",
       "      <td>0.040775</td>\n",
       "      <td>0.007749</td>\n",
       "      <td>pgd</td>\n",
       "      <td>False</td>\n",
       "      <td>1</td>\n",
       "      <td>0.5</td>\n",
       "      <td>False</td>\n",
       "    </tr>\n",
       "    <tr>\n",
       "      <th>18</th>\n",
       "      <td>20</td>\n",
       "      <td>0.0005</td>\n",
       "      <td>0.0000</td>\n",
       "      <td>1.005657e-01</td>\n",
       "      <td>0.101178</td>\n",
       "      <td>0.031003</td>\n",
       "      <td>pgd</td>\n",
       "      <td>False</td>\n",
       "      <td>1</td>\n",
       "      <td>0.5</td>\n",
       "      <td>False</td>\n",
       "    </tr>\n",
       "    <tr>\n",
       "      <th>19</th>\n",
       "      <td>40</td>\n",
       "      <td>0.0005</td>\n",
       "      <td>0.0000</td>\n",
       "      <td>9.989686e-02</td>\n",
       "      <td>0.100680</td>\n",
       "      <td>0.045701</td>\n",
       "      <td>pgd</td>\n",
       "      <td>False</td>\n",
       "      <td>1</td>\n",
       "      <td>0.5</td>\n",
       "      <td>False</td>\n",
       "    </tr>\n",
       "    <tr>\n",
       "      <th>20</th>\n",
       "      <td>60</td>\n",
       "      <td>0.0005</td>\n",
       "      <td>0.0000</td>\n",
       "      <td>1.012844e-01</td>\n",
       "      <td>0.102321</td>\n",
       "      <td>0.059360</td>\n",
       "      <td>pgd</td>\n",
       "      <td>False</td>\n",
       "      <td>1</td>\n",
       "      <td>0.5</td>\n",
       "      <td>False</td>\n",
       "    </tr>\n",
       "    <tr>\n",
       "      <th>21</th>\n",
       "      <td>80</td>\n",
       "      <td>0.0005</td>\n",
       "      <td>0.0000</td>\n",
       "      <td>1.006450e-01</td>\n",
       "      <td>0.101533</td>\n",
       "      <td>0.067987</td>\n",
       "      <td>pgd</td>\n",
       "      <td>False</td>\n",
       "      <td>1</td>\n",
       "      <td>0.5</td>\n",
       "      <td>False</td>\n",
       "    </tr>\n",
       "    <tr>\n",
       "      <th>22</th>\n",
       "      <td>100</td>\n",
       "      <td>0.0005</td>\n",
       "      <td>0.0000</td>\n",
       "      <td>1.008999e-01</td>\n",
       "      <td>0.101075</td>\n",
       "      <td>0.076426</td>\n",
       "      <td>pgd</td>\n",
       "      <td>False</td>\n",
       "      <td>1</td>\n",
       "      <td>0.5</td>\n",
       "      <td>False</td>\n",
       "    </tr>\n",
       "    <tr>\n",
       "      <th>23</th>\n",
       "      <td>120</td>\n",
       "      <td>0.0005</td>\n",
       "      <td>0.0000</td>\n",
       "      <td>9.822845e-02</td>\n",
       "      <td>0.100332</td>\n",
       "      <td>0.082470</td>\n",
       "      <td>pgd</td>\n",
       "      <td>False</td>\n",
       "      <td>1</td>\n",
       "      <td>0.5</td>\n",
       "      <td>False</td>\n",
       "    </tr>\n",
       "    <tr>\n",
       "      <th>24</th>\n",
       "      <td>20</td>\n",
       "      <td>0.0005</td>\n",
       "      <td>0.0001</td>\n",
       "      <td>1.020302e-01</td>\n",
       "      <td>0.102755</td>\n",
       "      <td>0.031737</td>\n",
       "      <td>pgd</td>\n",
       "      <td>False</td>\n",
       "      <td>1</td>\n",
       "      <td>0.5</td>\n",
       "      <td>False</td>\n",
       "    </tr>\n",
       "    <tr>\n",
       "      <th>25</th>\n",
       "      <td>40</td>\n",
       "      <td>0.0005</td>\n",
       "      <td>0.0001</td>\n",
       "      <td>1.031748e-01</td>\n",
       "      <td>0.103150</td>\n",
       "      <td>0.048109</td>\n",
       "      <td>pgd</td>\n",
       "      <td>False</td>\n",
       "      <td>1</td>\n",
       "      <td>0.5</td>\n",
       "      <td>False</td>\n",
       "    </tr>\n",
       "    <tr>\n",
       "      <th>26</th>\n",
       "      <td>60</td>\n",
       "      <td>0.0005</td>\n",
       "      <td>0.0001</td>\n",
       "      <td>1.005517e-01</td>\n",
       "      <td>0.100857</td>\n",
       "      <td>0.057686</td>\n",
       "      <td>pgd</td>\n",
       "      <td>False</td>\n",
       "      <td>1</td>\n",
       "      <td>0.5</td>\n",
       "      <td>False</td>\n",
       "    </tr>\n",
       "    <tr>\n",
       "      <th>27</th>\n",
       "      <td>80</td>\n",
       "      <td>0.0005</td>\n",
       "      <td>0.0001</td>\n",
       "      <td>1.011040e-01</td>\n",
       "      <td>0.101795</td>\n",
       "      <td>0.069444</td>\n",
       "      <td>pgd</td>\n",
       "      <td>False</td>\n",
       "      <td>1</td>\n",
       "      <td>0.5</td>\n",
       "      <td>False</td>\n",
       "    </tr>\n",
       "    <tr>\n",
       "      <th>28</th>\n",
       "      <td>100</td>\n",
       "      <td>0.0005</td>\n",
       "      <td>0.0001</td>\n",
       "      <td>1.041228e-01</td>\n",
       "      <td>0.103723</td>\n",
       "      <td>0.076581</td>\n",
       "      <td>pgd</td>\n",
       "      <td>False</td>\n",
       "      <td>1</td>\n",
       "      <td>0.5</td>\n",
       "      <td>False</td>\n",
       "    </tr>\n",
       "    <tr>\n",
       "      <th>29</th>\n",
       "      <td>120</td>\n",
       "      <td>0.0005</td>\n",
       "      <td>0.0001</td>\n",
       "      <td>1.045787e-01</td>\n",
       "      <td>0.104201</td>\n",
       "      <td>0.087332</td>\n",
       "      <td>pgd</td>\n",
       "      <td>False</td>\n",
       "      <td>1</td>\n",
       "      <td>0.5</td>\n",
       "      <td>False</td>\n",
       "    </tr>\n",
       "    <tr>\n",
       "      <th>30</th>\n",
       "      <td>20</td>\n",
       "      <td>0.0005</td>\n",
       "      <td>0.0005</td>\n",
       "      <td>1.037057e-01</td>\n",
       "      <td>0.105914</td>\n",
       "      <td>0.035148</td>\n",
       "      <td>pgd</td>\n",
       "      <td>False</td>\n",
       "      <td>1</td>\n",
       "      <td>0.5</td>\n",
       "      <td>False</td>\n",
       "    </tr>\n",
       "    <tr>\n",
       "      <th>31</th>\n",
       "      <td>40</td>\n",
       "      <td>0.0005</td>\n",
       "      <td>0.0005</td>\n",
       "      <td>1.037640e-01</td>\n",
       "      <td>0.105420</td>\n",
       "      <td>0.049701</td>\n",
       "      <td>pgd</td>\n",
       "      <td>False</td>\n",
       "      <td>1</td>\n",
       "      <td>0.5</td>\n",
       "      <td>False</td>\n",
       "    </tr>\n",
       "    <tr>\n",
       "      <th>32</th>\n",
       "      <td>60</td>\n",
       "      <td>0.0005</td>\n",
       "      <td>0.0005</td>\n",
       "      <td>1.034586e-01</td>\n",
       "      <td>0.105078</td>\n",
       "      <td>0.061360</td>\n",
       "      <td>pgd</td>\n",
       "      <td>False</td>\n",
       "      <td>1</td>\n",
       "      <td>0.5</td>\n",
       "      <td>False</td>\n",
       "    </tr>\n",
       "    <tr>\n",
       "      <th>33</th>\n",
       "      <td>80</td>\n",
       "      <td>0.0005</td>\n",
       "      <td>0.0005</td>\n",
       "      <td>1.034543e-01</td>\n",
       "      <td>0.105568</td>\n",
       "      <td>0.070750</td>\n",
       "      <td>pgd</td>\n",
       "      <td>False</td>\n",
       "      <td>1</td>\n",
       "      <td>0.5</td>\n",
       "      <td>False</td>\n",
       "    </tr>\n",
       "    <tr>\n",
       "      <th>34</th>\n",
       "      <td>100</td>\n",
       "      <td>0.0005</td>\n",
       "      <td>0.0005</td>\n",
       "      <td>1.032148e-01</td>\n",
       "      <td>0.105866</td>\n",
       "      <td>0.078902</td>\n",
       "      <td>pgd</td>\n",
       "      <td>False</td>\n",
       "      <td>1</td>\n",
       "      <td>0.5</td>\n",
       "      <td>False</td>\n",
       "    </tr>\n",
       "    <tr>\n",
       "      <th>35</th>\n",
       "      <td>120</td>\n",
       "      <td>0.0005</td>\n",
       "      <td>0.0005</td>\n",
       "      <td>1.030948e-01</td>\n",
       "      <td>0.105515</td>\n",
       "      <td>0.086252</td>\n",
       "      <td>pgd</td>\n",
       "      <td>False</td>\n",
       "      <td>1</td>\n",
       "      <td>0.5</td>\n",
       "      <td>False</td>\n",
       "    </tr>\n",
       "    <tr>\n",
       "      <th>36</th>\n",
       "      <td>20</td>\n",
       "      <td>0.0010</td>\n",
       "      <td>0.0000</td>\n",
       "      <td>1.064924e-01</td>\n",
       "      <td>0.106877</td>\n",
       "      <td>0.034874</td>\n",
       "      <td>pgd</td>\n",
       "      <td>False</td>\n",
       "      <td>1</td>\n",
       "      <td>0.5</td>\n",
       "      <td>False</td>\n",
       "    </tr>\n",
       "    <tr>\n",
       "      <th>37</th>\n",
       "      <td>40</td>\n",
       "      <td>0.0010</td>\n",
       "      <td>0.0000</td>\n",
       "      <td>1.071300e-01</td>\n",
       "      <td>0.106552</td>\n",
       "      <td>0.049690</td>\n",
       "      <td>pgd</td>\n",
       "      <td>False</td>\n",
       "      <td>1</td>\n",
       "      <td>0.5</td>\n",
       "      <td>False</td>\n",
       "    </tr>\n",
       "    <tr>\n",
       "      <th>38</th>\n",
       "      <td>60</td>\n",
       "      <td>0.0010</td>\n",
       "      <td>0.0000</td>\n",
       "      <td>1.061525e-01</td>\n",
       "      <td>0.106373</td>\n",
       "      <td>0.059975</td>\n",
       "      <td>pgd</td>\n",
       "      <td>False</td>\n",
       "      <td>1</td>\n",
       "      <td>0.5</td>\n",
       "      <td>False</td>\n",
       "    </tr>\n",
       "    <tr>\n",
       "      <th>39</th>\n",
       "      <td>80</td>\n",
       "      <td>0.0010</td>\n",
       "      <td>0.0000</td>\n",
       "      <td>1.065423e-01</td>\n",
       "      <td>0.106189</td>\n",
       "      <td>0.069068</td>\n",
       "      <td>pgd</td>\n",
       "      <td>False</td>\n",
       "      <td>1</td>\n",
       "      <td>0.5</td>\n",
       "      <td>False</td>\n",
       "    </tr>\n",
       "    <tr>\n",
       "      <th>40</th>\n",
       "      <td>100</td>\n",
       "      <td>0.0010</td>\n",
       "      <td>0.0000</td>\n",
       "      <td>1.056413e-01</td>\n",
       "      <td>0.106777</td>\n",
       "      <td>0.077676</td>\n",
       "      <td>pgd</td>\n",
       "      <td>False</td>\n",
       "      <td>1</td>\n",
       "      <td>0.5</td>\n",
       "      <td>False</td>\n",
       "    </tr>\n",
       "    <tr>\n",
       "      <th>41</th>\n",
       "      <td>120</td>\n",
       "      <td>0.0010</td>\n",
       "      <td>0.0000</td>\n",
       "      <td>1.064255e-01</td>\n",
       "      <td>0.106431</td>\n",
       "      <td>0.086215</td>\n",
       "      <td>pgd</td>\n",
       "      <td>False</td>\n",
       "      <td>1</td>\n",
       "      <td>0.5</td>\n",
       "      <td>False</td>\n",
       "    </tr>\n",
       "    <tr>\n",
       "      <th>42</th>\n",
       "      <td>20</td>\n",
       "      <td>0.0010</td>\n",
       "      <td>0.0001</td>\n",
       "      <td>1.061585e-01</td>\n",
       "      <td>0.106617</td>\n",
       "      <td>0.034233</td>\n",
       "      <td>pgd</td>\n",
       "      <td>False</td>\n",
       "      <td>1</td>\n",
       "      <td>0.5</td>\n",
       "      <td>False</td>\n",
       "    </tr>\n",
       "    <tr>\n",
       "      <th>43</th>\n",
       "      <td>40</td>\n",
       "      <td>0.0010</td>\n",
       "      <td>0.0001</td>\n",
       "      <td>1.069139e-01</td>\n",
       "      <td>0.106871</td>\n",
       "      <td>0.048358</td>\n",
       "      <td>pgd</td>\n",
       "      <td>False</td>\n",
       "      <td>1</td>\n",
       "      <td>0.5</td>\n",
       "      <td>False</td>\n",
       "    </tr>\n",
       "    <tr>\n",
       "      <th>44</th>\n",
       "      <td>60</td>\n",
       "      <td>0.0010</td>\n",
       "      <td>0.0001</td>\n",
       "      <td>1.070397e-01</td>\n",
       "      <td>0.106468</td>\n",
       "      <td>0.060032</td>\n",
       "      <td>pgd</td>\n",
       "      <td>False</td>\n",
       "      <td>1</td>\n",
       "      <td>0.5</td>\n",
       "      <td>False</td>\n",
       "    </tr>\n",
       "    <tr>\n",
       "      <th>45</th>\n",
       "      <td>80</td>\n",
       "      <td>0.0010</td>\n",
       "      <td>0.0001</td>\n",
       "      <td>1.075158e-01</td>\n",
       "      <td>0.107197</td>\n",
       "      <td>0.069235</td>\n",
       "      <td>pgd</td>\n",
       "      <td>False</td>\n",
       "      <td>1</td>\n",
       "      <td>0.5</td>\n",
       "      <td>False</td>\n",
       "    </tr>\n",
       "    <tr>\n",
       "      <th>46</th>\n",
       "      <td>100</td>\n",
       "      <td>0.0010</td>\n",
       "      <td>0.0001</td>\n",
       "      <td>1.063077e-01</td>\n",
       "      <td>0.106457</td>\n",
       "      <td>0.078495</td>\n",
       "      <td>pgd</td>\n",
       "      <td>False</td>\n",
       "      <td>1</td>\n",
       "      <td>0.5</td>\n",
       "      <td>False</td>\n",
       "    </tr>\n",
       "    <tr>\n",
       "      <th>47</th>\n",
       "      <td>120</td>\n",
       "      <td>0.0010</td>\n",
       "      <td>0.0001</td>\n",
       "      <td>1.069038e-01</td>\n",
       "      <td>0.106570</td>\n",
       "      <td>0.084593</td>\n",
       "      <td>pgd</td>\n",
       "      <td>False</td>\n",
       "      <td>1</td>\n",
       "      <td>0.5</td>\n",
       "      <td>False</td>\n",
       "    </tr>\n",
       "    <tr>\n",
       "      <th>48</th>\n",
       "      <td>20</td>\n",
       "      <td>0.0010</td>\n",
       "      <td>0.0005</td>\n",
       "      <td>1.045476e-01</td>\n",
       "      <td>0.104305</td>\n",
       "      <td>0.034900</td>\n",
       "      <td>pgd</td>\n",
       "      <td>False</td>\n",
       "      <td>1</td>\n",
       "      <td>0.5</td>\n",
       "      <td>False</td>\n",
       "    </tr>\n",
       "    <tr>\n",
       "      <th>49</th>\n",
       "      <td>40</td>\n",
       "      <td>0.0010</td>\n",
       "      <td>0.0005</td>\n",
       "      <td>1.040127e-01</td>\n",
       "      <td>0.105040</td>\n",
       "      <td>0.049815</td>\n",
       "      <td>pgd</td>\n",
       "      <td>False</td>\n",
       "      <td>1</td>\n",
       "      <td>0.5</td>\n",
       "      <td>False</td>\n",
       "    </tr>\n",
       "    <tr>\n",
       "      <th>50</th>\n",
       "      <td>60</td>\n",
       "      <td>0.0010</td>\n",
       "      <td>0.0005</td>\n",
       "      <td>1.067242e-01</td>\n",
       "      <td>0.107065</td>\n",
       "      <td>0.060782</td>\n",
       "      <td>pgd</td>\n",
       "      <td>False</td>\n",
       "      <td>1</td>\n",
       "      <td>0.5</td>\n",
       "      <td>False</td>\n",
       "    </tr>\n",
       "    <tr>\n",
       "      <th>51</th>\n",
       "      <td>80</td>\n",
       "      <td>0.0010</td>\n",
       "      <td>0.0005</td>\n",
       "      <td>1.067106e-01</td>\n",
       "      <td>0.107105</td>\n",
       "      <td>0.070206</td>\n",
       "      <td>pgd</td>\n",
       "      <td>False</td>\n",
       "      <td>1</td>\n",
       "      <td>0.5</td>\n",
       "      <td>False</td>\n",
       "    </tr>\n",
       "    <tr>\n",
       "      <th>52</th>\n",
       "      <td>100</td>\n",
       "      <td>0.0010</td>\n",
       "      <td>0.0005</td>\n",
       "      <td>1.075124e-01</td>\n",
       "      <td>0.107272</td>\n",
       "      <td>0.078555</td>\n",
       "      <td>pgd</td>\n",
       "      <td>False</td>\n",
       "      <td>1</td>\n",
       "      <td>0.5</td>\n",
       "      <td>False</td>\n",
       "    </tr>\n",
       "    <tr>\n",
       "      <th>53</th>\n",
       "      <td>120</td>\n",
       "      <td>0.0010</td>\n",
       "      <td>0.0005</td>\n",
       "      <td>1.060012e-01</td>\n",
       "      <td>0.107124</td>\n",
       "      <td>0.085580</td>\n",
       "      <td>pgd</td>\n",
       "      <td>False</td>\n",
       "      <td>1</td>\n",
       "      <td>0.5</td>\n",
       "      <td>False</td>\n",
       "    </tr>\n",
       "  </tbody>\n",
       "</table>\n",
       "</div>"
      ],
      "text/plain": [
       "    n_hidden  l1_lambda  l2_lambda    loss_clean  loss_adv  superposition  \\\n",
       "0         20     0.0000     0.0000  7.793858e-02  0.086548       0.006443   \n",
       "1         40     0.0000     0.0000  5.060347e-02  0.065395       0.012713   \n",
       "2         60     0.0000     0.0000  3.008052e-02  0.047171       0.024094   \n",
       "3         80     0.0000     0.0000  1.513784e-02  0.029072       0.040365   \n",
       "4        100     0.0000     0.0000  1.129020e-05  0.009599       0.049645   \n",
       "5        120     0.0000     0.0000  8.881825e-08  0.009511       0.055766   \n",
       "6         20     0.0000     0.0001  7.909179e-02  0.087337       0.007422   \n",
       "7         40     0.0000     0.0001  5.340263e-02  0.064579       0.007742   \n",
       "8         60     0.0000     0.0001  3.262989e-02  0.044728       0.011462   \n",
       "9         80     0.0000     0.0001  1.655124e-02  0.026925       0.015748   \n",
       "10       100     0.0000     0.0001  9.919334e-04  0.014071       0.000812   \n",
       "11       120     0.0000     0.0001  9.780693e-04  0.014058       0.005923   \n",
       "12        20     0.0000     0.0005  8.807811e-02  0.094913       0.030975   \n",
       "13        40     0.0000     0.0005  7.198719e-02  0.081280       0.038762   \n",
       "14        60     0.0000     0.0005  5.564269e-02  0.068127       0.039001   \n",
       "15        80     0.0000     0.0005  3.959765e-02  0.054142       0.031794   \n",
       "16       100     0.0000     0.0005  2.425749e-02  0.040798       0.004983   \n",
       "17       120     0.0000     0.0005  2.400866e-02  0.040775       0.007749   \n",
       "18        20     0.0005     0.0000  1.005657e-01  0.101178       0.031003   \n",
       "19        40     0.0005     0.0000  9.989686e-02  0.100680       0.045701   \n",
       "20        60     0.0005     0.0000  1.012844e-01  0.102321       0.059360   \n",
       "21        80     0.0005     0.0000  1.006450e-01  0.101533       0.067987   \n",
       "22       100     0.0005     0.0000  1.008999e-01  0.101075       0.076426   \n",
       "23       120     0.0005     0.0000  9.822845e-02  0.100332       0.082470   \n",
       "24        20     0.0005     0.0001  1.020302e-01  0.102755       0.031737   \n",
       "25        40     0.0005     0.0001  1.031748e-01  0.103150       0.048109   \n",
       "26        60     0.0005     0.0001  1.005517e-01  0.100857       0.057686   \n",
       "27        80     0.0005     0.0001  1.011040e-01  0.101795       0.069444   \n",
       "28       100     0.0005     0.0001  1.041228e-01  0.103723       0.076581   \n",
       "29       120     0.0005     0.0001  1.045787e-01  0.104201       0.087332   \n",
       "30        20     0.0005     0.0005  1.037057e-01  0.105914       0.035148   \n",
       "31        40     0.0005     0.0005  1.037640e-01  0.105420       0.049701   \n",
       "32        60     0.0005     0.0005  1.034586e-01  0.105078       0.061360   \n",
       "33        80     0.0005     0.0005  1.034543e-01  0.105568       0.070750   \n",
       "34       100     0.0005     0.0005  1.032148e-01  0.105866       0.078902   \n",
       "35       120     0.0005     0.0005  1.030948e-01  0.105515       0.086252   \n",
       "36        20     0.0010     0.0000  1.064924e-01  0.106877       0.034874   \n",
       "37        40     0.0010     0.0000  1.071300e-01  0.106552       0.049690   \n",
       "38        60     0.0010     0.0000  1.061525e-01  0.106373       0.059975   \n",
       "39        80     0.0010     0.0000  1.065423e-01  0.106189       0.069068   \n",
       "40       100     0.0010     0.0000  1.056413e-01  0.106777       0.077676   \n",
       "41       120     0.0010     0.0000  1.064255e-01  0.106431       0.086215   \n",
       "42        20     0.0010     0.0001  1.061585e-01  0.106617       0.034233   \n",
       "43        40     0.0010     0.0001  1.069139e-01  0.106871       0.048358   \n",
       "44        60     0.0010     0.0001  1.070397e-01  0.106468       0.060032   \n",
       "45        80     0.0010     0.0001  1.075158e-01  0.107197       0.069235   \n",
       "46       100     0.0010     0.0001  1.063077e-01  0.106457       0.078495   \n",
       "47       120     0.0010     0.0001  1.069038e-01  0.106570       0.084593   \n",
       "48        20     0.0010     0.0005  1.045476e-01  0.104305       0.034900   \n",
       "49        40     0.0010     0.0005  1.040127e-01  0.105040       0.049815   \n",
       "50        60     0.0010     0.0005  1.067242e-01  0.107065       0.060782   \n",
       "51        80     0.0010     0.0005  1.067106e-01  0.107105       0.070206   \n",
       "52       100     0.0010     0.0005  1.075124e-01  0.107272       0.078555   \n",
       "53       120     0.0010     0.0005  1.060012e-01  0.107124       0.085580   \n",
       "\n",
       "   attack_type  nonlinear_hidden  num_layers  feature_probability  correlated  \n",
       "0          pgd             False           1                  0.5       False  \n",
       "1          pgd             False           1                  0.5       False  \n",
       "2          pgd             False           1                  0.5       False  \n",
       "3          pgd             False           1                  0.5       False  \n",
       "4          pgd             False           1                  0.5       False  \n",
       "5          pgd             False           1                  0.5       False  \n",
       "6          pgd             False           1                  0.5       False  \n",
       "7          pgd             False           1                  0.5       False  \n",
       "8          pgd             False           1                  0.5       False  \n",
       "9          pgd             False           1                  0.5       False  \n",
       "10         pgd             False           1                  0.5       False  \n",
       "11         pgd             False           1                  0.5       False  \n",
       "12         pgd             False           1                  0.5       False  \n",
       "13         pgd             False           1                  0.5       False  \n",
       "14         pgd             False           1                  0.5       False  \n",
       "15         pgd             False           1                  0.5       False  \n",
       "16         pgd             False           1                  0.5       False  \n",
       "17         pgd             False           1                  0.5       False  \n",
       "18         pgd             False           1                  0.5       False  \n",
       "19         pgd             False           1                  0.5       False  \n",
       "20         pgd             False           1                  0.5       False  \n",
       "21         pgd             False           1                  0.5       False  \n",
       "22         pgd             False           1                  0.5       False  \n",
       "23         pgd             False           1                  0.5       False  \n",
       "24         pgd             False           1                  0.5       False  \n",
       "25         pgd             False           1                  0.5       False  \n",
       "26         pgd             False           1                  0.5       False  \n",
       "27         pgd             False           1                  0.5       False  \n",
       "28         pgd             False           1                  0.5       False  \n",
       "29         pgd             False           1                  0.5       False  \n",
       "30         pgd             False           1                  0.5       False  \n",
       "31         pgd             False           1                  0.5       False  \n",
       "32         pgd             False           1                  0.5       False  \n",
       "33         pgd             False           1                  0.5       False  \n",
       "34         pgd             False           1                  0.5       False  \n",
       "35         pgd             False           1                  0.5       False  \n",
       "36         pgd             False           1                  0.5       False  \n",
       "37         pgd             False           1                  0.5       False  \n",
       "38         pgd             False           1                  0.5       False  \n",
       "39         pgd             False           1                  0.5       False  \n",
       "40         pgd             False           1                  0.5       False  \n",
       "41         pgd             False           1                  0.5       False  \n",
       "42         pgd             False           1                  0.5       False  \n",
       "43         pgd             False           1                  0.5       False  \n",
       "44         pgd             False           1                  0.5       False  \n",
       "45         pgd             False           1                  0.5       False  \n",
       "46         pgd             False           1                  0.5       False  \n",
       "47         pgd             False           1                  0.5       False  \n",
       "48         pgd             False           1                  0.5       False  \n",
       "49         pgd             False           1                  0.5       False  \n",
       "50         pgd             False           1                  0.5       False  \n",
       "51         pgd             False           1                  0.5       False  \n",
       "52         pgd             False           1                  0.5       False  \n",
       "53         pgd             False           1                  0.5       False  "
      ]
     },
     "metadata": {},
     "output_type": "display_data"
    }
   ],
   "source": [
    "df_results_regularization = pd.DataFrame(results_regularization)\n",
    "\n",
    "print(\"\\nResults with Different Regularization Strengths:\")\n",
    "display(df_results_regularization)"
   ]
  },
  {
   "cell_type": "code",
   "execution_count": 14,
   "metadata": {},
   "outputs": [
    {
     "data": {
      "application/vnd.jupyter.widget-view+json": {
       "model_id": "00d23f08a9b24a448be11a13df690db2",
       "version_major": 2,
       "version_minor": 0
      },
      "text/plain": [
       "  0%|          | 0/5000 [00:00<?, ?it/s]"
      ]
     },
     "metadata": {},
     "output_type": "display_data"
    },
    {
     "name": "stdout",
     "output_type": "stream",
     "text": [
      "Step 0/5000, Loss: 0.270686\n",
      "Step 500/5000, Loss: 0.034009\n",
      "Step 1000/5000, Loss: 0.033395\n",
      "Step 1500/5000, Loss: 0.033669\n",
      "Step 2000/5000, Loss: 0.032633\n",
      "Step 2500/5000, Loss: 0.032938\n",
      "Step 3000/5000, Loss: 0.033347\n",
      "Step 3500/5000, Loss: 0.033121\n",
      "Step 4000/5000, Loss: 0.033346\n",
      "Step 4500/5000, Loss: 0.033060\n",
      "Step 4999/5000, Loss: 0.033197\n"
     ]
    },
    {
     "data": {
      "image/png": "[encoded data removed]",
      "text/plain": [
       "<Figure size 800x600 with 1 Axes>"
      ]
     },
     "metadata": {},
     "output_type": "display_data"
    },
    {
     "data": {
      "application/vnd.jupyter.widget-view+json": {
       "model_id": "a167da0feaba475eb1f8fba1bf51fe15",
       "version_major": 2,
       "version_minor": 0
      },
      "text/plain": [
       "  0%|          | 0/5000 [00:00<?, ?it/s]"
      ]
     },
     "metadata": {},
     "output_type": "display_data"
    },
    {
     "name": "stdout",
     "output_type": "stream",
     "text": [
      "Step 0/5000, Loss: 0.813779\n",
      "Step 500/5000, Loss: 0.097704\n",
      "Step 1000/5000, Loss: 0.092834\n",
      "Step 1500/5000, Loss: 0.092678\n",
      "Step 2000/5000, Loss: 0.093028\n",
      "Step 2500/5000, Loss: 0.092285\n",
      "Step 3000/5000, Loss: 0.091942\n",
      "Step 3500/5000, Loss: 0.091900\n",
      "Step 4000/5000, Loss: 0.091964\n",
      "Step 4500/5000, Loss: 0.091926\n",
      "Step 4999/5000, Loss: 0.091632\n"
     ]
    },
    {
     "data": {
      "image/png": "[encoded data removed]",
      "text/plain": [
       "<Figure size 800x600 with 1 Axes>"
      ]
     },
     "metadata": {},
     "output_type": "display_data"
    },
    {
     "data": {
      "application/vnd.jupyter.widget-view+json": {
       "model_id": "b325b245868a41b09343104eb90d491c",
       "version_major": 2,
       "version_minor": 0
      },
      "text/plain": [
       "  0%|          | 0/5000 [00:00<?, ?it/s]"
      ]
     },
     "metadata": {},
     "output_type": "display_data"
    },
    {
     "name": "stdout",
     "output_type": "stream",
     "text": [
      "Step 0/5000, Loss: 1.362795\n",
      "Step 500/5000, Loss: 0.104634\n",
      "Step 1000/5000, Loss: 0.103002\n",
      "Step 1500/5000, Loss: 0.102670\n",
      "Step 2000/5000, Loss: 0.102103\n",
      "Step 2500/5000, Loss: 0.102040\n",
      "Step 3000/5000, Loss: 0.101702\n",
      "Step 3500/5000, Loss: 0.100985\n",
      "Step 4000/5000, Loss: 0.100945\n",
      "Step 4500/5000, Loss: 0.100180\n",
      "Step 4999/5000, Loss: 0.100040\n"
     ]
    },
    {
     "data": {
      "image/png": "[encoded data removed]",
      "text/plain": [
       "<Figure size 800x600 with 1 Axes>"
      ]
     },
     "metadata": {},
     "output_type": "display_data"
    },
    {
     "data": {
      "application/vnd.jupyter.widget-view+json": {
       "model_id": "33dd0119c7af49ca900eff330484d0ad",
       "version_major": 2,
       "version_minor": 0
      },
      "text/plain": [
       "  0%|          | 0/5000 [00:00<?, ?it/s]"
      ]
     },
     "metadata": {},
     "output_type": "display_data"
    },
    {
     "name": "stdout",
     "output_type": "stream",
     "text": [
      "Step 0/5000, Loss: 0.257776\n",
      "Step 500/5000, Loss: 0.033636\n",
      "Step 1000/5000, Loss: 0.033545\n",
      "Step 1500/5000, Loss: 0.033268\n",
      "Step 2000/5000, Loss: 0.033348\n",
      "Step 2500/5000, Loss: 0.033026\n",
      "Step 3000/5000, Loss: 0.033314\n",
      "Step 3500/5000, Loss: 0.033110\n",
      "Step 4000/5000, Loss: 0.033121\n",
      "Step 4500/5000, Loss: 0.033221\n",
      "Step 4999/5000, Loss: 0.033506\n"
     ]
    },
    {
     "data": {
      "image/png": "[encoded data removed]",
      "text/plain": [
       "<Figure size 800x600 with 2 Axes>"
      ]
     },
     "metadata": {},
     "output_type": "display_data"
    },
    {
     "data": {
      "image/png": "[encoded data removed]",
      "text/plain": [
       "<Figure size 800x600 with 2 Axes>"
      ]
     },
     "metadata": {},
     "output_type": "display_data"
    }
   ],
   "source": [
    "# Plotting weight histograms for different l1_lambda values\n",
    "for l1_lambda in l1_lambda_list:\n",
    "    config = Config(n_features=n_features, n_hidden=60, n_instances=1)\n",
    "    model = Model(config=config, device=DEVICE, nonlinear_hidden=False, num_layers=1)\n",
    "    optimize(model, steps=5000, lr=1e-3, l1_lambda=l1_lambda)\n",
    "    plot_weight_histogram(model, title=f'Weight Histogram (l1_lambda={l1_lambda})')\n",
    "\n",
    "# Analyze activation patterns on clean and adversarial data\n",
    "config = Config(n_features=n_features, n_hidden=60, n_instances=1)\n",
    "model = Model(config=config, device=DEVICE, nonlinear_hidden=False, num_layers=1)\n",
    "optimize(model, steps=5000, lr=1e-3)\n",
    "data_clean = model.generate_batch(n_batch=100)\n",
    "data_adv = fgsm_attack(model, data_clean, epsilon=0.1, importance=model.importance)\n",
    "plot_activation_patterns(model, data_clean, title='Activation Patterns on Clean Data')\n",
    "plot_activation_patterns(model, data_adv, title='Activation Patterns on Adversarial Data')\n"
   ]
  },
  {
   "cell_type": "code",
   "execution_count": 15,
   "metadata": {},
   "outputs": [
    {
     "name": "stdout",
     "output_type": "stream",
     "text": [
      "\n",
      "Training model with n_hidden = 20, l1_lambda = 0.0, l2_lambda = 0.0\n"
     ]
    },
    {
     "data": {
      "application/vnd.jupyter.widget-view+json": {
       "model_id": "07e5116d70384bc7a95189e315670f0c",
       "version_major": 2,
       "version_minor": 0
      },
      "text/plain": [
       "  0%|          | 0/5000 [00:00<?, ?it/s]"
      ]
     },
     "metadata": {},
     "output_type": "display_data"
    },
    {
     "name": "stdout",
     "output_type": "stream",
     "text": [
      "Step 0/5000, Loss: 0.102725\n",
      "Step 500/5000, Loss: 0.059616\n",
      "Step 1000/5000, Loss: 0.056745\n",
      "Step 1500/5000, Loss: 0.053595\n",
      "Step 2000/5000, Loss: 0.052796\n",
      "Step 2500/5000, Loss: 0.052920\n",
      "Step 3000/5000, Loss: 0.052123\n",
      "Step 3500/5000, Loss: 0.052431\n",
      "Step 4000/5000, Loss: 0.053028\n",
      "Step 4500/5000, Loss: 0.053034\n",
      "Step 4999/5000, Loss: 0.052121\n",
      "\n",
      "Training model with n_hidden = 40, l1_lambda = 0.0, l2_lambda = 0.0\n"
     ]
    },
    {
     "data": {
      "application/vnd.jupyter.widget-view+json": {
       "model_id": "7170b0fa97554752ac283f36581fb2c7",
       "version_major": 2,
       "version_minor": 0
      },
      "text/plain": [
       "  0%|          | 0/5000 [00:00<?, ?it/s]"
      ]
     },
     "metadata": {},
     "output_type": "display_data"
    },
    {
     "name": "stdout",
     "output_type": "stream",
     "text": [
      "Step 0/5000, Loss: 0.110798\n",
      "Step 500/5000, Loss: 0.036690\n",
      "Step 1000/5000, Loss: 0.030818\n",
      "Step 1500/5000, Loss: 0.027571\n",
      "Step 2000/5000, Loss: 0.027846\n",
      "Step 2500/5000, Loss: 0.026621\n",
      "Step 3000/5000, Loss: 0.026533\n",
      "Step 3500/5000, Loss: 0.026651\n",
      "Step 4000/5000, Loss: 0.026663\n",
      "Step 4500/5000, Loss: 0.027056\n",
      "Step 4999/5000, Loss: 0.026702\n",
      "\n",
      "Training model with n_hidden = 60, l1_lambda = 0.0, l2_lambda = 0.0\n"
     ]
    },
    {
     "data": {
      "application/vnd.jupyter.widget-view+json": {
       "model_id": "c2d1c0005cb8478a8ef33d50417cb502",
       "version_major": 2,
       "version_minor": 0
      },
      "text/plain": [
       "  0%|          | 0/5000 [00:00<?, ?it/s]"
      ]
     },
     "metadata": {},
     "output_type": "display_data"
    },
    {
     "name": "stdout",
     "output_type": "stream",
     "text": [
      "Step 0/5000, Loss: 0.111969\n",
      "Step 500/5000, Loss: 0.019905\n",
      "Step 1000/5000, Loss: 0.013547\n",
      "Step 1500/5000, Loss: 0.011696\n",
      "Step 2000/5000, Loss: 0.010870\n",
      "Step 2500/5000, Loss: 0.011475\n",
      "Step 3000/5000, Loss: 0.011382\n",
      "Step 3500/5000, Loss: 0.011667\n",
      "Step 4000/5000, Loss: 0.010901\n",
      "Step 4500/5000, Loss: 0.011050\n",
      "Step 4999/5000, Loss: 0.010963\n",
      "\n",
      "Training model with n_hidden = 80, l1_lambda = 0.0, l2_lambda = 0.0\n"
     ]
    },
    {
     "data": {
      "application/vnd.jupyter.widget-view+json": {
       "model_id": "5490eb95dc9c4d8aba4fcef72cd37e75",
       "version_major": 2,
       "version_minor": 0
      },
      "text/plain": [
       "  0%|          | 0/5000 [00:00<?, ?it/s]"
      ]
     },
     "metadata": {},
     "output_type": "display_data"
    },
    {
     "name": "stdout",
     "output_type": "stream",
     "text": [
      "Step 0/5000, Loss: 0.108464\n",
      "Step 500/5000, Loss: 0.008749\n",
      "Step 1000/5000, Loss: 0.007703\n",
      "Step 1500/5000, Loss: 0.007123\n",
      "Step 2000/5000, Loss: 0.006432\n",
      "Step 2500/5000, Loss: 0.006477\n",
      "Step 3000/5000, Loss: 0.006748\n",
      "Step 3500/5000, Loss: 0.006320\n",
      "Step 4000/5000, Loss: 0.006424\n",
      "Step 4500/5000, Loss: 0.006173\n",
      "Step 4999/5000, Loss: 0.006084\n",
      "\n",
      "Training model with n_hidden = 100, l1_lambda = 0.0, l2_lambda = 0.0\n"
     ]
    },
    {
     "data": {
      "application/vnd.jupyter.widget-view+json": {
       "model_id": "564eb9b288364e47938a91b41e7c959b",
       "version_major": 2,
       "version_minor": 0
      },
      "text/plain": [
       "  0%|          | 0/5000 [00:00<?, ?it/s]"
      ]
     },
     "metadata": {},
     "output_type": "display_data"
    },
    {
     "name": "stdout",
     "output_type": "stream",
     "text": [
      "Step 0/5000, Loss: 0.114828\n",
      "Step 500/5000, Loss: 0.000364\n",
      "Step 1000/5000, Loss: 0.000000\n",
      "Step 1500/5000, Loss: 0.000000\n",
      "Step 2000/5000, Loss: 0.000000\n",
      "Step 2500/5000, Loss: 0.000000\n",
      "Step 3000/5000, Loss: 0.000000\n",
      "Step 3500/5000, Loss: 0.000000\n",
      "Step 4000/5000, Loss: 0.000001\n",
      "Step 4500/5000, Loss: 0.000000\n",
      "Step 4999/5000, Loss: 0.000000\n",
      "\n",
      "Training model with n_hidden = 120, l1_lambda = 0.0, l2_lambda = 0.0\n"
     ]
    },
    {
     "data": {
      "application/vnd.jupyter.widget-view+json": {
       "model_id": "9d51944b51c848f692320325d6452cad",
       "version_major": 2,
       "version_minor": 0
      },
      "text/plain": [
       "  0%|          | 0/5000 [00:00<?, ?it/s]"
      ]
     },
     "metadata": {},
     "output_type": "display_data"
    },
    {
     "name": "stdout",
     "output_type": "stream",
     "text": [
      "Step 0/5000, Loss: 0.119362\n",
      "Step 500/5000, Loss: 0.000003\n",
      "Step 1000/5000, Loss: 0.000000\n",
      "Step 1500/5000, Loss: 0.000000\n",
      "Step 2000/5000, Loss: 0.000000\n",
      "Step 2500/5000, Loss: 0.000000\n",
      "Step 3000/5000, Loss: 0.000000\n",
      "Step 3500/5000, Loss: 0.000000\n",
      "Step 4000/5000, Loss: 0.000000\n",
      "Step 4500/5000, Loss: 0.000003\n",
      "Step 4999/5000, Loss: 0.000004\n",
      "\n",
      "Training model with n_hidden = 20, l1_lambda = 0.0, l2_lambda = 0.0\n"
     ]
    },
    {
     "data": {
      "application/vnd.jupyter.widget-view+json": {
       "model_id": "a5e373a198f542f29fc6618db5b0eba3",
       "version_major": 2,
       "version_minor": 0
      },
      "text/plain": [
       "  0%|          | 0/5000 [00:00<?, ?it/s]"
      ]
     },
     "metadata": {},
     "output_type": "display_data"
    },
    {
     "name": "stdout",
     "output_type": "stream",
     "text": [
      "Step 0/5000, Loss: 0.152507\n",
      "Step 500/5000, Loss: 0.083084\n",
      "Step 1000/5000, Loss: 0.083093\n",
      "Step 1500/5000, Loss: 0.081788\n",
      "Step 2000/5000, Loss: 0.080170\n",
      "Step 2500/5000, Loss: 0.079222\n",
      "Step 3000/5000, Loss: 0.078545\n",
      "Step 3500/5000, Loss: 0.077001\n",
      "Step 4000/5000, Loss: 0.078288\n",
      "Step 4500/5000, Loss: 0.079015\n",
      "Step 4999/5000, Loss: 0.077578\n",
      "\n",
      "Training model with n_hidden = 40, l1_lambda = 0.0, l2_lambda = 0.0\n"
     ]
    },
    {
     "data": {
      "application/vnd.jupyter.widget-view+json": {
       "model_id": "aad92746b8994d82be9c5ef36e57bfdc",
       "version_major": 2,
       "version_minor": 0
      },
      "text/plain": [
       "  0%|          | 0/5000 [00:00<?, ?it/s]"
      ]
     },
     "metadata": {},
     "output_type": "display_data"
    },
    {
     "name": "stdout",
     "output_type": "stream",
     "text": [
      "Step 0/5000, Loss: 0.169598\n",
      "Step 500/5000, Loss: 0.059370\n",
      "Step 1000/5000, Loss: 0.059563\n",
      "Step 1500/5000, Loss: 0.057353\n",
      "Step 2000/5000, Loss: 0.054837\n",
      "Step 2500/5000, Loss: 0.052953\n",
      "Step 3000/5000, Loss: 0.051090\n",
      "Step 3500/5000, Loss: 0.051140\n",
      "Step 4000/5000, Loss: 0.051068\n",
      "Step 4500/5000, Loss: 0.050958\n",
      "Step 4999/5000, Loss: 0.050505\n",
      "\n",
      "Training model with n_hidden = 60, l1_lambda = 0.0, l2_lambda = 0.0\n"
     ]
    },
    {
     "data": {
      "application/vnd.jupyter.widget-view+json": {
       "model_id": "8aad2f4c86a24363a90a3e460a38bb08",
       "version_major": 2,
       "version_minor": 0
      },
      "text/plain": [
       "  0%|          | 0/5000 [00:00<?, ?it/s]"
      ]
     },
     "metadata": {},
     "output_type": "display_data"
    },
    {
     "name": "stdout",
     "output_type": "stream",
     "text": [
      "Step 0/5000, Loss: 0.167684\n",
      "Step 500/5000, Loss: 0.036555\n",
      "Step 1000/5000, Loss: 0.036027\n",
      "Step 1500/5000, Loss: 0.034669\n",
      "Step 2000/5000, Loss: 0.031549\n",
      "Step 2500/5000, Loss: 0.031231\n",
      "Step 3000/5000, Loss: 0.030333\n",
      "Step 3500/5000, Loss: 0.030683\n",
      "Step 4000/5000, Loss: 0.029583\n",
      "Step 4500/5000, Loss: 0.030024\n",
      "Step 4999/5000, Loss: 0.029430\n",
      "\n",
      "Training model with n_hidden = 80, l1_lambda = 0.0, l2_lambda = 0.0\n"
     ]
    },
    {
     "data": {
      "application/vnd.jupyter.widget-view+json": {
       "model_id": "bd8c28d946a342e494382ba19b81d00a",
       "version_major": 2,
       "version_minor": 0
      },
      "text/plain": [
       "  0%|          | 0/5000 [00:00<?, ?it/s]"
      ]
     },
     "metadata": {},
     "output_type": "display_data"
    },
    {
     "name": "stdout",
     "output_type": "stream",
     "text": [
      "Step 0/5000, Loss: 0.170947\n",
      "Step 500/5000, Loss: 0.016491\n",
      "Step 1000/5000, Loss: 0.015486\n",
      "Step 1500/5000, Loss: 0.015895\n",
      "Step 2000/5000, Loss: 0.015808\n",
      "Step 2500/5000, Loss: 0.015751\n",
      "Step 3000/5000, Loss: 0.015146\n",
      "Step 3500/5000, Loss: 0.015209\n",
      "Step 4000/5000, Loss: 0.015235\n",
      "Step 4500/5000, Loss: 0.015098\n",
      "Step 4999/5000, Loss: 0.014932\n",
      "\n",
      "Training model with n_hidden = 100, l1_lambda = 0.0, l2_lambda = 0.0\n"
     ]
    },
    {
     "data": {
      "application/vnd.jupyter.widget-view+json": {
       "model_id": "93482eb31f904bf29f90efcf99d8aa7d",
       "version_major": 2,
       "version_minor": 0
      },
      "text/plain": [
       "  0%|          | 0/5000 [00:00<?, ?it/s]"
      ]
     },
     "metadata": {},
     "output_type": "display_data"
    },
    {
     "name": "stdout",
     "output_type": "stream",
     "text": [
      "Step 0/5000, Loss: 0.171996\n",
      "Step 500/5000, Loss: 0.000033\n",
      "Step 1000/5000, Loss: 0.000000\n",
      "Step 1500/5000, Loss: 0.000000\n",
      "Step 2000/5000, Loss: 0.000000\n",
      "Step 2500/5000, Loss: 0.000000\n",
      "Step 3000/5000, Loss: 0.000001\n",
      "Step 3500/5000, Loss: 0.000000\n",
      "Step 4000/5000, Loss: 0.000000\n",
      "Step 4500/5000, Loss: 0.000018\n",
      "Step 4999/5000, Loss: 0.000000\n",
      "\n",
      "Training model with n_hidden = 120, l1_lambda = 0.0, l2_lambda = 0.0\n"
     ]
    },
    {
     "data": {
      "application/vnd.jupyter.widget-view+json": {
       "model_id": "ffea2586b2404327be8669af50d7951d",
       "version_major": 2,
       "version_minor": 0
      },
      "text/plain": [
       "  0%|          | 0/5000 [00:00<?, ?it/s]"
      ]
     },
     "metadata": {},
     "output_type": "display_data"
    },
    {
     "name": "stdout",
     "output_type": "stream",
     "text": [
      "Step 0/5000, Loss: 0.162676\n",
      "Step 500/5000, Loss: 0.000002\n",
      "Step 1000/5000, Loss: 0.000000\n",
      "Step 1500/5000, Loss: 0.000000\n",
      "Step 2000/5000, Loss: 0.000000\n",
      "Step 2500/5000, Loss: 0.000005\n",
      "Step 3000/5000, Loss: 0.000000\n",
      "Step 3500/5000, Loss: 0.000001\n",
      "Step 4000/5000, Loss: 0.000000\n",
      "Step 4500/5000, Loss: 0.000000\n",
      "Step 4999/5000, Loss: 0.000000\n",
      "\n",
      "Training model with n_hidden = 20, l1_lambda = 0.0, l2_lambda = 0.0\n"
     ]
    },
    {
     "data": {
      "application/vnd.jupyter.widget-view+json": {
       "model_id": "96529c9b75f349cbbb40f871eaf234cb",
       "version_major": 2,
       "version_minor": 0
      },
      "text/plain": [
       "  0%|          | 0/5000 [00:00<?, ?it/s]"
      ]
     },
     "metadata": {},
     "output_type": "display_data"
    },
    {
     "name": "stdout",
     "output_type": "stream",
     "text": [
      "Step 0/5000, Loss: 0.202640\n",
      "Step 500/5000, Loss: 0.088834\n",
      "Step 1000/5000, Loss: 0.088477\n",
      "Step 1500/5000, Loss: 0.088377\n",
      "Step 2000/5000, Loss: 0.088148\n",
      "Step 2500/5000, Loss: 0.088177\n",
      "Step 3000/5000, Loss: 0.087998\n",
      "Step 3500/5000, Loss: 0.088025\n",
      "Step 4000/5000, Loss: 0.088162\n",
      "Step 4500/5000, Loss: 0.088433\n",
      "Step 4999/5000, Loss: 0.088025\n",
      "\n",
      "Training model with n_hidden = 40, l1_lambda = 0.0, l2_lambda = 0.0\n"
     ]
    },
    {
     "data": {
      "application/vnd.jupyter.widget-view+json": {
       "model_id": "341c8ed1c23c4f76878b90e03d0fbd48",
       "version_major": 2,
       "version_minor": 0
      },
      "text/plain": [
       "  0%|          | 0/5000 [00:00<?, ?it/s]"
      ]
     },
     "metadata": {},
     "output_type": "display_data"
    },
    {
     "name": "stdout",
     "output_type": "stream",
     "text": [
      "Step 0/5000, Loss: 0.208659\n",
      "Step 500/5000, Loss: 0.065916\n",
      "Step 1000/5000, Loss: 0.065760\n",
      "Step 1500/5000, Loss: 0.065710\n",
      "Step 2000/5000, Loss: 0.065606\n",
      "Step 2500/5000, Loss: 0.065882\n",
      "Step 3000/5000, Loss: 0.065734\n",
      "Step 3500/5000, Loss: 0.065441\n",
      "Step 4000/5000, Loss: 0.065773\n",
      "Step 4500/5000, Loss: 0.065218\n",
      "Step 4999/5000, Loss: 0.065347\n",
      "\n",
      "Training model with n_hidden = 60, l1_lambda = 0.0, l2_lambda = 0.0\n"
     ]
    },
    {
     "data": {
      "application/vnd.jupyter.widget-view+json": {
       "model_id": "e135e7abd72e476ea385da338a20cef2",
       "version_major": 2,
       "version_minor": 0
      },
      "text/plain": [
       "  0%|          | 0/5000 [00:00<?, ?it/s]"
      ]
     },
     "metadata": {},
     "output_type": "display_data"
    },
    {
     "name": "stdout",
     "output_type": "stream",
     "text": [
      "Step 0/5000, Loss: 0.210870\n",
      "Step 500/5000, Loss: 0.042864\n",
      "Step 1000/5000, Loss: 0.042534\n",
      "Step 1500/5000, Loss: 0.042240\n",
      "Step 2000/5000, Loss: 0.042341\n",
      "Step 2500/5000, Loss: 0.042851\n",
      "Step 3000/5000, Loss: 0.042278\n",
      "Step 3500/5000, Loss: 0.041924\n",
      "Step 4000/5000, Loss: 0.042042\n",
      "Step 4500/5000, Loss: 0.041941\n",
      "Step 4999/5000, Loss: 0.041667\n",
      "\n",
      "Training model with n_hidden = 80, l1_lambda = 0.0, l2_lambda = 0.0\n"
     ]
    },
    {
     "data": {
      "application/vnd.jupyter.widget-view+json": {
       "model_id": "0d2b1e097f5a4b799b276d5429d6be72",
       "version_major": 2,
       "version_minor": 0
      },
      "text/plain": [
       "  0%|          | 0/5000 [00:00<?, ?it/s]"
      ]
     },
     "metadata": {},
     "output_type": "display_data"
    },
    {
     "name": "stdout",
     "output_type": "stream",
     "text": [
      "Step 0/5000, Loss: 0.210961\n",
      "Step 500/5000, Loss: 0.019751\n",
      "Step 1000/5000, Loss: 0.019991\n",
      "Step 1500/5000, Loss: 0.020056\n",
      "Step 2000/5000, Loss: 0.020073\n",
      "Step 2500/5000, Loss: 0.020301\n",
      "Step 3000/5000, Loss: 0.020016\n",
      "Step 3500/5000, Loss: 0.019769\n",
      "Step 4000/5000, Loss: 0.019910\n",
      "Step 4500/5000, Loss: 0.019619\n",
      "Step 4999/5000, Loss: 0.020000\n",
      "\n",
      "Training model with n_hidden = 100, l1_lambda = 0.0, l2_lambda = 0.0\n"
     ]
    },
    {
     "data": {
      "application/vnd.jupyter.widget-view+json": {
       "model_id": "64c76165b5a04569a5e2a7d082795eef",
       "version_major": 2,
       "version_minor": 0
      },
      "text/plain": [
       "  0%|          | 0/5000 [00:00<?, ?it/s]"
      ]
     },
     "metadata": {},
     "output_type": "display_data"
    },
    {
     "name": "stdout",
     "output_type": "stream",
     "text": [
      "Step 0/5000, Loss: 0.216004\n",
      "Step 500/5000, Loss: 0.001001\n",
      "Step 1000/5000, Loss: 0.000001\n",
      "Step 1500/5000, Loss: 0.000000\n",
      "Step 2000/5000, Loss: 0.000000\n",
      "Step 2500/5000, Loss: 0.000002\n",
      "Step 3000/5000, Loss: 0.000001\n",
      "Step 3500/5000, Loss: 0.000010\n",
      "Step 4000/5000, Loss: 0.000006\n",
      "Step 4500/5000, Loss: 0.000007\n",
      "Step 4999/5000, Loss: 0.000004\n",
      "\n",
      "Training model with n_hidden = 120, l1_lambda = 0.0, l2_lambda = 0.0\n"
     ]
    },
    {
     "data": {
      "application/vnd.jupyter.widget-view+json": {
       "model_id": "1309b046ac1b4c42a0c50e024048ba10",
       "version_major": 2,
       "version_minor": 0
      },
      "text/plain": [
       "  0%|          | 0/5000 [00:00<?, ?it/s]"
      ]
     },
     "metadata": {},
     "output_type": "display_data"
    },
    {
     "name": "stdout",
     "output_type": "stream",
     "text": [
      "Step 0/5000, Loss: 0.222537\n",
      "Step 500/5000, Loss: 0.000008\n",
      "Step 1000/5000, Loss: 0.000000\n",
      "Step 1500/5000, Loss: 0.000000\n",
      "Step 2000/5000, Loss: 0.000002\n",
      "Step 2500/5000, Loss: 0.000000\n",
      "Step 3000/5000, Loss: 0.000001\n",
      "Step 3500/5000, Loss: 0.000013\n",
      "Step 4000/5000, Loss: 0.000008\n",
      "Step 4500/5000, Loss: 0.000002\n",
      "Step 4999/5000, Loss: 0.000003\n",
      "\n",
      "Training model with n_hidden = 20, l1_lambda = 0.0, l2_lambda = 0.0\n"
     ]
    },
    {
     "data": {
      "application/vnd.jupyter.widget-view+json": {
       "model_id": "a337f4050621475b8b011e31be86f615",
       "version_major": 2,
       "version_minor": 0
      },
      "text/plain": [
       "  0%|          | 0/5000 [00:00<?, ?it/s]"
      ]
     },
     "metadata": {},
     "output_type": "display_data"
    },
    {
     "name": "stdout",
     "output_type": "stream",
     "text": [
      "Step 0/5000, Loss: 0.242294\n",
      "Step 500/5000, Loss: 0.088502\n",
      "Step 1000/5000, Loss: 0.087934\n",
      "Step 1500/5000, Loss: 0.086105\n",
      "Step 2000/5000, Loss: 0.084067\n",
      "Step 2500/5000, Loss: 0.083860\n",
      "Step 3000/5000, Loss: 0.081287\n",
      "Step 3500/5000, Loss: 0.082247\n",
      "Step 4000/5000, Loss: 0.082423\n",
      "Step 4500/5000, Loss: 0.079833\n",
      "Step 4999/5000, Loss: 0.079756\n",
      "\n",
      "Training model with n_hidden = 40, l1_lambda = 0.0, l2_lambda = 0.0\n"
     ]
    },
    {
     "data": {
      "application/vnd.jupyter.widget-view+json": {
       "model_id": "8966affc0c144677ac75a1cdb9678cb8",
       "version_major": 2,
       "version_minor": 0
      },
      "text/plain": [
       "  0%|          | 0/5000 [00:00<?, ?it/s]"
      ]
     },
     "metadata": {},
     "output_type": "display_data"
    },
    {
     "name": "stdout",
     "output_type": "stream",
     "text": [
      "Step 0/5000, Loss: 0.238217\n",
      "Step 500/5000, Loss: 0.058951\n",
      "Step 1000/5000, Loss: 0.058598\n",
      "Step 1500/5000, Loss: 0.058297\n",
      "Step 2000/5000, Loss: 0.058495\n",
      "Step 2500/5000, Loss: 0.058762\n",
      "Step 3000/5000, Loss: 0.058619\n",
      "Step 3500/5000, Loss: 0.058526\n",
      "Step 4000/5000, Loss: 0.058082\n",
      "Step 4500/5000, Loss: 0.058191\n",
      "Step 4999/5000, Loss: 0.058560\n",
      "\n",
      "Training model with n_hidden = 60, l1_lambda = 0.0, l2_lambda = 0.0\n"
     ]
    },
    {
     "data": {
      "application/vnd.jupyter.widget-view+json": {
       "model_id": "d316390316af45c4ac2bb91f8b469f00",
       "version_major": 2,
       "version_minor": 0
      },
      "text/plain": [
       "  0%|          | 0/5000 [00:00<?, ?it/s]"
      ]
     },
     "metadata": {},
     "output_type": "display_data"
    },
    {
     "name": "stdout",
     "output_type": "stream",
     "text": [
      "Step 0/5000, Loss: 0.254624\n",
      "Step 500/5000, Loss: 0.039145\n",
      "Step 1000/5000, Loss: 0.038778\n",
      "Step 1500/5000, Loss: 0.038227\n",
      "Step 2000/5000, Loss: 0.038144\n",
      "Step 2500/5000, Loss: 0.038384\n",
      "Step 3000/5000, Loss: 0.038758\n",
      "Step 3500/5000, Loss: 0.038471\n",
      "Step 4000/5000, Loss: 0.038683\n",
      "Step 4500/5000, Loss: 0.038490\n",
      "Step 4999/5000, Loss: 0.038136\n",
      "\n",
      "Training model with n_hidden = 80, l1_lambda = 0.0, l2_lambda = 0.0\n"
     ]
    },
    {
     "data": {
      "application/vnd.jupyter.widget-view+json": {
       "model_id": "1b79eeeca00244e197d09bed0231a780",
       "version_major": 2,
       "version_minor": 0
      },
      "text/plain": [
       "  0%|          | 0/5000 [00:00<?, ?it/s]"
      ]
     },
     "metadata": {},
     "output_type": "display_data"
    },
    {
     "name": "stdout",
     "output_type": "stream",
     "text": [
      "Step 0/5000, Loss: 0.264705\n",
      "Step 500/5000, Loss: 0.019486\n",
      "Step 1000/5000, Loss: 0.018729\n",
      "Step 1500/5000, Loss: 0.019195\n",
      "Step 2000/5000, Loss: 0.018921\n",
      "Step 2500/5000, Loss: 0.018661\n",
      "Step 3000/5000, Loss: 0.018975\n",
      "Step 3500/5000, Loss: 0.019180\n",
      "Step 4000/5000, Loss: 0.019016\n",
      "Step 4500/5000, Loss: 0.018710\n",
      "Step 4999/5000, Loss: 0.018993\n",
      "\n",
      "Training model with n_hidden = 100, l1_lambda = 0.0, l2_lambda = 0.0\n"
     ]
    },
    {
     "data": {
      "application/vnd.jupyter.widget-view+json": {
       "model_id": "f084952dee5146f7961147b3a70f9af7",
       "version_major": 2,
       "version_minor": 0
      },
      "text/plain": [
       "  0%|          | 0/5000 [00:00<?, ?it/s]"
      ]
     },
     "metadata": {},
     "output_type": "display_data"
    },
    {
     "name": "stdout",
     "output_type": "stream",
     "text": [
      "Step 0/5000, Loss: 0.263263\n",
      "Step 500/5000, Loss: 0.002644\n",
      "Step 1000/5000, Loss: 0.000005\n",
      "Step 1500/5000, Loss: 0.000001\n",
      "Step 2000/5000, Loss: 0.000001\n",
      "Step 2500/5000, Loss: 0.000001\n",
      "Step 3000/5000, Loss: 0.000022\n",
      "Step 3500/5000, Loss: 0.000029\n",
      "Step 4000/5000, Loss: 0.000004\n",
      "Step 4500/5000, Loss: 0.000015\n",
      "Step 4999/5000, Loss: 0.000002\n",
      "\n",
      "Training model with n_hidden = 120, l1_lambda = 0.0, l2_lambda = 0.0\n"
     ]
    },
    {
     "data": {
      "application/vnd.jupyter.widget-view+json": {
       "model_id": "390103a11b184ecab7d0c8c62338957c",
       "version_major": 2,
       "version_minor": 0
      },
      "text/plain": [
       "  0%|          | 0/5000 [00:00<?, ?it/s]"
      ]
     },
     "metadata": {},
     "output_type": "display_data"
    },
    {
     "name": "stdout",
     "output_type": "stream",
     "text": [
      "Step 0/5000, Loss: 0.251633\n",
      "Step 500/5000, Loss: 0.000040\n",
      "Step 1000/5000, Loss: 0.000004\n",
      "Step 1500/5000, Loss: 0.000001\n",
      "Step 2000/5000, Loss: 0.000001\n",
      "Step 2500/5000, Loss: 0.000003\n",
      "Step 3000/5000, Loss: 0.000001\n",
      "Step 3500/5000, Loss: 0.000015\n",
      "Step 4000/5000, Loss: 0.000016\n",
      "Step 4500/5000, Loss: 0.000004\n",
      "Step 4999/5000, Loss: 0.000004\n",
      "\n",
      "Results with Different Input Sparsity Levels:\n"
     ]
    },
    {
     "data": {
      "text/html": [
       "<div>\n",
       "<style scoped>\n",
       "    .dataframe tbody tr th:only-of-type {\n",
       "        vertical-align: middle;\n",
       "    }\n",
       "\n",
       "    .dataframe tbody tr th {\n",
       "        vertical-align: top;\n",
       "    }\n",
       "\n",
       "    .dataframe thead th {\n",
       "        text-align: right;\n",
       "    }\n",
       "</style>\n",
       "<table border=\"1\" class=\"dataframe\">\n",
       "  <thead>\n",
       "    <tr style=\"text-align: right;\">\n",
       "      <th></th>\n",
       "      <th>n_hidden</th>\n",
       "      <th>l1_lambda</th>\n",
       "      <th>l2_lambda</th>\n",
       "      <th>loss_clean</th>\n",
       "      <th>loss_adv</th>\n",
       "      <th>superposition</th>\n",
       "      <th>attack_type</th>\n",
       "      <th>nonlinear_hidden</th>\n",
       "      <th>num_layers</th>\n",
       "      <th>feature_probability</th>\n",
       "      <th>correlated</th>\n",
       "    </tr>\n",
       "  </thead>\n",
       "  <tbody>\n",
       "    <tr>\n",
       "      <th>0</th>\n",
       "      <td>20</td>\n",
       "      <td>0.0</td>\n",
       "      <td>0.0</td>\n",
       "      <td>5.210820e-02</td>\n",
       "      <td>0.057727</td>\n",
       "      <td>0.005098</td>\n",
       "      <td>pgd</td>\n",
       "      <td>False</td>\n",
       "      <td>1</td>\n",
       "      <td>0.3</td>\n",
       "      <td>False</td>\n",
       "    </tr>\n",
       "    <tr>\n",
       "      <th>1</th>\n",
       "      <td>40</td>\n",
       "      <td>0.0</td>\n",
       "      <td>0.0</td>\n",
       "      <td>2.696284e-02</td>\n",
       "      <td>0.036682</td>\n",
       "      <td>0.010827</td>\n",
       "      <td>pgd</td>\n",
       "      <td>False</td>\n",
       "      <td>1</td>\n",
       "      <td>0.3</td>\n",
       "      <td>False</td>\n",
       "    </tr>\n",
       "    <tr>\n",
       "      <th>2</th>\n",
       "      <td>60</td>\n",
       "      <td>0.0</td>\n",
       "      <td>0.0</td>\n",
       "      <td>1.108534e-02</td>\n",
       "      <td>0.021532</td>\n",
       "      <td>0.018859</td>\n",
       "      <td>pgd</td>\n",
       "      <td>False</td>\n",
       "      <td>1</td>\n",
       "      <td>0.3</td>\n",
       "      <td>False</td>\n",
       "    </tr>\n",
       "    <tr>\n",
       "      <th>3</th>\n",
       "      <td>80</td>\n",
       "      <td>0.0</td>\n",
       "      <td>0.0</td>\n",
       "      <td>6.519396e-03</td>\n",
       "      <td>0.016434</td>\n",
       "      <td>0.033851</td>\n",
       "      <td>pgd</td>\n",
       "      <td>False</td>\n",
       "      <td>1</td>\n",
       "      <td>0.3</td>\n",
       "      <td>False</td>\n",
       "    </tr>\n",
       "    <tr>\n",
       "      <th>4</th>\n",
       "      <td>100</td>\n",
       "      <td>0.0</td>\n",
       "      <td>0.0</td>\n",
       "      <td>4.229447e-07</td>\n",
       "      <td>0.009504</td>\n",
       "      <td>0.049226</td>\n",
       "      <td>pgd</td>\n",
       "      <td>False</td>\n",
       "      <td>1</td>\n",
       "      <td>0.3</td>\n",
       "      <td>False</td>\n",
       "    </tr>\n",
       "    <tr>\n",
       "      <th>5</th>\n",
       "      <td>120</td>\n",
       "      <td>0.0</td>\n",
       "      <td>0.0</td>\n",
       "      <td>4.304617e-06</td>\n",
       "      <td>0.009279</td>\n",
       "      <td>0.054571</td>\n",
       "      <td>pgd</td>\n",
       "      <td>False</td>\n",
       "      <td>1</td>\n",
       "      <td>0.3</td>\n",
       "      <td>False</td>\n",
       "    </tr>\n",
       "    <tr>\n",
       "      <th>6</th>\n",
       "      <td>20</td>\n",
       "      <td>0.0</td>\n",
       "      <td>0.0</td>\n",
       "      <td>7.771384e-02</td>\n",
       "      <td>0.087723</td>\n",
       "      <td>0.006915</td>\n",
       "      <td>pgd</td>\n",
       "      <td>False</td>\n",
       "      <td>1</td>\n",
       "      <td>0.5</td>\n",
       "      <td>False</td>\n",
       "    </tr>\n",
       "    <tr>\n",
       "      <th>7</th>\n",
       "      <td>40</td>\n",
       "      <td>0.0</td>\n",
       "      <td>0.0</td>\n",
       "      <td>4.979945e-02</td>\n",
       "      <td>0.065405</td>\n",
       "      <td>0.013512</td>\n",
       "      <td>pgd</td>\n",
       "      <td>False</td>\n",
       "      <td>1</td>\n",
       "      <td>0.5</td>\n",
       "      <td>False</td>\n",
       "    </tr>\n",
       "    <tr>\n",
       "      <th>8</th>\n",
       "      <td>60</td>\n",
       "      <td>0.0</td>\n",
       "      <td>0.0</td>\n",
       "      <td>3.001935e-02</td>\n",
       "      <td>0.046816</td>\n",
       "      <td>0.022354</td>\n",
       "      <td>pgd</td>\n",
       "      <td>False</td>\n",
       "      <td>1</td>\n",
       "      <td>0.5</td>\n",
       "      <td>False</td>\n",
       "    </tr>\n",
       "    <tr>\n",
       "      <th>9</th>\n",
       "      <td>80</td>\n",
       "      <td>0.0</td>\n",
       "      <td>0.0</td>\n",
       "      <td>1.530133e-02</td>\n",
       "      <td>0.028633</td>\n",
       "      <td>0.040047</td>\n",
       "      <td>pgd</td>\n",
       "      <td>False</td>\n",
       "      <td>1</td>\n",
       "      <td>0.5</td>\n",
       "      <td>False</td>\n",
       "    </tr>\n",
       "    <tr>\n",
       "      <th>10</th>\n",
       "      <td>100</td>\n",
       "      <td>0.0</td>\n",
       "      <td>0.0</td>\n",
       "      <td>1.270217e-08</td>\n",
       "      <td>0.009647</td>\n",
       "      <td>0.050907</td>\n",
       "      <td>pgd</td>\n",
       "      <td>False</td>\n",
       "      <td>1</td>\n",
       "      <td>0.5</td>\n",
       "      <td>False</td>\n",
       "    </tr>\n",
       "    <tr>\n",
       "      <th>11</th>\n",
       "      <td>120</td>\n",
       "      <td>0.0</td>\n",
       "      <td>0.0</td>\n",
       "      <td>2.857191e-08</td>\n",
       "      <td>0.009639</td>\n",
       "      <td>0.055411</td>\n",
       "      <td>pgd</td>\n",
       "      <td>False</td>\n",
       "      <td>1</td>\n",
       "      <td>0.5</td>\n",
       "      <td>False</td>\n",
       "    </tr>\n",
       "    <tr>\n",
       "      <th>12</th>\n",
       "      <td>20</td>\n",
       "      <td>0.0</td>\n",
       "      <td>0.0</td>\n",
       "      <td>8.783181e-02</td>\n",
       "      <td>0.094863</td>\n",
       "      <td>0.018585</td>\n",
       "      <td>pgd</td>\n",
       "      <td>False</td>\n",
       "      <td>1</td>\n",
       "      <td>0.7</td>\n",
       "      <td>False</td>\n",
       "    </tr>\n",
       "    <tr>\n",
       "      <th>13</th>\n",
       "      <td>40</td>\n",
       "      <td>0.0</td>\n",
       "      <td>0.0</td>\n",
       "      <td>6.497767e-02</td>\n",
       "      <td>0.074115</td>\n",
       "      <td>0.033518</td>\n",
       "      <td>pgd</td>\n",
       "      <td>False</td>\n",
       "      <td>1</td>\n",
       "      <td>0.7</td>\n",
       "      <td>False</td>\n",
       "    </tr>\n",
       "    <tr>\n",
       "      <th>14</th>\n",
       "      <td>60</td>\n",
       "      <td>0.0</td>\n",
       "      <td>0.0</td>\n",
       "      <td>4.188461e-02</td>\n",
       "      <td>0.053575</td>\n",
       "      <td>0.047491</td>\n",
       "      <td>pgd</td>\n",
       "      <td>False</td>\n",
       "      <td>1</td>\n",
       "      <td>0.7</td>\n",
       "      <td>False</td>\n",
       "    </tr>\n",
       "    <tr>\n",
       "      <th>15</th>\n",
       "      <td>80</td>\n",
       "      <td>0.0</td>\n",
       "      <td>0.0</td>\n",
       "      <td>1.972357e-02</td>\n",
       "      <td>0.031477</td>\n",
       "      <td>0.048631</td>\n",
       "      <td>pgd</td>\n",
       "      <td>False</td>\n",
       "      <td>1</td>\n",
       "      <td>0.7</td>\n",
       "      <td>False</td>\n",
       "    </tr>\n",
       "    <tr>\n",
       "      <th>16</th>\n",
       "      <td>100</td>\n",
       "      <td>0.0</td>\n",
       "      <td>0.0</td>\n",
       "      <td>5.126931e-06</td>\n",
       "      <td>0.009610</td>\n",
       "      <td>0.049544</td>\n",
       "      <td>pgd</td>\n",
       "      <td>False</td>\n",
       "      <td>1</td>\n",
       "      <td>0.7</td>\n",
       "      <td>False</td>\n",
       "    </tr>\n",
       "    <tr>\n",
       "      <th>17</th>\n",
       "      <td>120</td>\n",
       "      <td>0.0</td>\n",
       "      <td>0.0</td>\n",
       "      <td>2.569047e-06</td>\n",
       "      <td>0.009652</td>\n",
       "      <td>0.056146</td>\n",
       "      <td>pgd</td>\n",
       "      <td>False</td>\n",
       "      <td>1</td>\n",
       "      <td>0.7</td>\n",
       "      <td>False</td>\n",
       "    </tr>\n",
       "    <tr>\n",
       "      <th>18</th>\n",
       "      <td>20</td>\n",
       "      <td>0.0</td>\n",
       "      <td>0.0</td>\n",
       "      <td>8.012016e-02</td>\n",
       "      <td>0.086259</td>\n",
       "      <td>0.033004</td>\n",
       "      <td>pgd</td>\n",
       "      <td>False</td>\n",
       "      <td>1</td>\n",
       "      <td>0.9</td>\n",
       "      <td>False</td>\n",
       "    </tr>\n",
       "    <tr>\n",
       "      <th>19</th>\n",
       "      <td>40</td>\n",
       "      <td>0.0</td>\n",
       "      <td>0.0</td>\n",
       "      <td>5.863601e-02</td>\n",
       "      <td>0.065652</td>\n",
       "      <td>0.043491</td>\n",
       "      <td>pgd</td>\n",
       "      <td>False</td>\n",
       "      <td>1</td>\n",
       "      <td>0.9</td>\n",
       "      <td>False</td>\n",
       "    </tr>\n",
       "    <tr>\n",
       "      <th>20</th>\n",
       "      <td>60</td>\n",
       "      <td>0.0</td>\n",
       "      <td>0.0</td>\n",
       "      <td>3.800089e-02</td>\n",
       "      <td>0.047399</td>\n",
       "      <td>0.051385</td>\n",
       "      <td>pgd</td>\n",
       "      <td>False</td>\n",
       "      <td>1</td>\n",
       "      <td>0.9</td>\n",
       "      <td>False</td>\n",
       "    </tr>\n",
       "    <tr>\n",
       "      <th>21</th>\n",
       "      <td>80</td>\n",
       "      <td>0.0</td>\n",
       "      <td>0.0</td>\n",
       "      <td>1.884994e-02</td>\n",
       "      <td>0.028630</td>\n",
       "      <td>0.052251</td>\n",
       "      <td>pgd</td>\n",
       "      <td>False</td>\n",
       "      <td>1</td>\n",
       "      <td>0.9</td>\n",
       "      <td>False</td>\n",
       "    </tr>\n",
       "    <tr>\n",
       "      <th>22</th>\n",
       "      <td>100</td>\n",
       "      <td>0.0</td>\n",
       "      <td>0.0</td>\n",
       "      <td>3.004937e-06</td>\n",
       "      <td>0.009545</td>\n",
       "      <td>0.048589</td>\n",
       "      <td>pgd</td>\n",
       "      <td>False</td>\n",
       "      <td>1</td>\n",
       "      <td>0.9</td>\n",
       "      <td>False</td>\n",
       "    </tr>\n",
       "    <tr>\n",
       "      <th>23</th>\n",
       "      <td>120</td>\n",
       "      <td>0.0</td>\n",
       "      <td>0.0</td>\n",
       "      <td>4.894337e-06</td>\n",
       "      <td>0.009577</td>\n",
       "      <td>0.055555</td>\n",
       "      <td>pgd</td>\n",
       "      <td>False</td>\n",
       "      <td>1</td>\n",
       "      <td>0.9</td>\n",
       "      <td>False</td>\n",
       "    </tr>\n",
       "  </tbody>\n",
       "</table>\n",
       "</div>"
      ],
      "text/plain": [
       "    n_hidden  l1_lambda  l2_lambda    loss_clean  loss_adv  superposition  \\\n",
       "0         20        0.0        0.0  5.210820e-02  0.057727       0.005098   \n",
       "1         40        0.0        0.0  2.696284e-02  0.036682       0.010827   \n",
       "2         60        0.0        0.0  1.108534e-02  0.021532       0.018859   \n",
       "3         80        0.0        0.0  6.519396e-03  0.016434       0.033851   \n",
       "4        100        0.0        0.0  4.229447e-07  0.009504       0.049226   \n",
       "5        120        0.0        0.0  4.304617e-06  0.009279       0.054571   \n",
       "6         20        0.0        0.0  7.771384e-02  0.087723       0.006915   \n",
       "7         40        0.0        0.0  4.979945e-02  0.065405       0.013512   \n",
       "8         60        0.0        0.0  3.001935e-02  0.046816       0.022354   \n",
       "9         80        0.0        0.0  1.530133e-02  0.028633       0.040047   \n",
       "10       100        0.0        0.0  1.270217e-08  0.009647       0.050907   \n",
       "11       120        0.0        0.0  2.857191e-08  0.009639       0.055411   \n",
       "12        20        0.0        0.0  8.783181e-02  0.094863       0.018585   \n",
       "13        40        0.0        0.0  6.497767e-02  0.074115       0.033518   \n",
       "14        60        0.0        0.0  4.188461e-02  0.053575       0.047491   \n",
       "15        80        0.0        0.0  1.972357e-02  0.031477       0.048631   \n",
       "16       100        0.0        0.0  5.126931e-06  0.009610       0.049544   \n",
       "17       120        0.0        0.0  2.569047e-06  0.009652       0.056146   \n",
       "18        20        0.0        0.0  8.012016e-02  0.086259       0.033004   \n",
       "19        40        0.0        0.0  5.863601e-02  0.065652       0.043491   \n",
       "20        60        0.0        0.0  3.800089e-02  0.047399       0.051385   \n",
       "21        80        0.0        0.0  1.884994e-02  0.028630       0.052251   \n",
       "22       100        0.0        0.0  3.004937e-06  0.009545       0.048589   \n",
       "23       120        0.0        0.0  4.894337e-06  0.009577       0.055555   \n",
       "\n",
       "   attack_type  nonlinear_hidden  num_layers  feature_probability  correlated  \n",
       "0          pgd             False           1                  0.3       False  \n",
       "1          pgd             False           1                  0.3       False  \n",
       "2          pgd             False           1                  0.3       False  \n",
       "3          pgd             False           1                  0.3       False  \n",
       "4          pgd             False           1                  0.3       False  \n",
       "5          pgd             False           1                  0.3       False  \n",
       "6          pgd             False           1                  0.5       False  \n",
       "7          pgd             False           1                  0.5       False  \n",
       "8          pgd             False           1                  0.5       False  \n",
       "9          pgd             False           1                  0.5       False  \n",
       "10         pgd             False           1                  0.5       False  \n",
       "11         pgd             False           1                  0.5       False  \n",
       "12         pgd             False           1                  0.7       False  \n",
       "13         pgd             False           1                  0.7       False  \n",
       "14         pgd             False           1                  0.7       False  \n",
       "15         pgd             False           1                  0.7       False  \n",
       "16         pgd             False           1                  0.7       False  \n",
       "17         pgd             False           1                  0.7       False  \n",
       "18         pgd             False           1                  0.9       False  \n",
       "19         pgd             False           1                  0.9       False  \n",
       "20         pgd             False           1                  0.9       False  \n",
       "21         pgd             False           1                  0.9       False  \n",
       "22         pgd             False           1                  0.9       False  \n",
       "23         pgd             False           1                  0.9       False  "
      ]
     },
     "metadata": {},
     "output_type": "display_data"
    }
   ],
   "source": [
    "# Experiment 2: Investigate Input Sparsity Levels\n",
    "feature_probability_list = [0.3, 0.5, 0.7, 0.9]\n",
    "results_sparsity = []\n",
    "for feature_probability in feature_probability_list:\n",
    "    results = run_experiment(\n",
    "        n_features=n_features,\n",
    "        n_hidden_list=n_hidden_list,\n",
    "        l1_lambda_list=[0.0],\n",
    "        l2_lambda_list=[0.0],\n",
    "        attack_type='pgd',\n",
    "        nonlinear_hidden=False,\n",
    "        num_layers=1,\n",
    "        feature_probability=feature_probability,\n",
    "        correlated=False\n",
    "    )\n",
    "    results_sparsity.extend(results)\n",
    "\n",
    "df_results_sparsity = pd.DataFrame(results_sparsity)\n",
    "\n",
    "# Display the results\n",
    "print(\"\\nResults with Different Input Sparsity Levels:\")\n",
    "display(df_results_sparsity)"
   ]
  },
  {
   "cell_type": "code",
   "execution_count": 16,
   "metadata": {},
   "outputs": [
    {
     "name": "stdout",
     "output_type": "stream",
     "text": [
      "\n",
      "Training model with n_hidden = 20, l1_lambda = 0.0, l2_lambda = 0.0\n"
     ]
    },
    {
     "data": {
      "application/vnd.jupyter.widget-view+json": {
       "model_id": "63638dc91168418ca88bdaa0fb198c07",
       "version_major": 2,
       "version_minor": 0
      },
      "text/plain": [
       "  0%|          | 0/5000 [00:00<?, ?it/s]"
      ]
     },
     "metadata": {},
     "output_type": "display_data"
    },
    {
     "name": "stdout",
     "output_type": "stream",
     "text": [
      "Step 0/5000, Loss: 0.159762\n",
      "Step 500/5000, Loss: 0.082796\n",
      "Step 1000/5000, Loss: 0.082755\n",
      "Step 1500/5000, Loss: 0.082084\n",
      "Step 2000/5000, Loss: 0.080520\n",
      "Step 2500/5000, Loss: 0.079445\n",
      "Step 3000/5000, Loss: 0.079242\n",
      "Step 3500/5000, Loss: 0.078434\n",
      "Step 4000/5000, Loss: 0.078400\n",
      "Step 4500/5000, Loss: 0.078712\n",
      "Step 4999/5000, Loss: 0.077592\n",
      "\n",
      "Training model with n_hidden = 40, l1_lambda = 0.0, l2_lambda = 0.0\n"
     ]
    },
    {
     "data": {
      "application/vnd.jupyter.widget-view+json": {
       "model_id": "e4aed7ca7f074af78546ea859f17ec72",
       "version_major": 2,
       "version_minor": 0
      },
      "text/plain": [
       "  0%|          | 0/5000 [00:00<?, ?it/s]"
      ]
     },
     "metadata": {},
     "output_type": "display_data"
    },
    {
     "name": "stdout",
     "output_type": "stream",
     "text": [
      "Step 0/5000, Loss: 0.160692\n",
      "Step 500/5000, Loss: 0.059743\n",
      "Step 1000/5000, Loss: 0.059015\n",
      "Step 1500/5000, Loss: 0.058006\n",
      "Step 2000/5000, Loss: 0.055045\n",
      "Step 2500/5000, Loss: 0.053224\n",
      "Step 3000/5000, Loss: 0.051931\n",
      "Step 3500/5000, Loss: 0.050916\n",
      "Step 4000/5000, Loss: 0.050482\n",
      "Step 4500/5000, Loss: 0.050710\n",
      "Step 4999/5000, Loss: 0.050976\n",
      "\n",
      "Training model with n_hidden = 60, l1_lambda = 0.0, l2_lambda = 0.0\n"
     ]
    },
    {
     "data": {
      "application/vnd.jupyter.widget-view+json": {
       "model_id": "39cf500698924f399fc53bec1039a3ce",
       "version_major": 2,
       "version_minor": 0
      },
      "text/plain": [
       "  0%|          | 0/5000 [00:00<?, ?it/s]"
      ]
     },
     "metadata": {},
     "output_type": "display_data"
    },
    {
     "name": "stdout",
     "output_type": "stream",
     "text": [
      "Step 0/5000, Loss: 0.167659\n",
      "Step 500/5000, Loss: 0.036267\n",
      "Step 1000/5000, Loss: 0.035952\n",
      "Step 1500/5000, Loss: 0.033350\n",
      "Step 2000/5000, Loss: 0.031162\n",
      "Step 2500/5000, Loss: 0.030343\n",
      "Step 3000/5000, Loss: 0.029981\n",
      "Step 3500/5000, Loss: 0.030190\n",
      "Step 4000/5000, Loss: 0.029607\n",
      "Step 4500/5000, Loss: 0.030667\n",
      "Step 4999/5000, Loss: 0.029773\n",
      "\n",
      "Training model with n_hidden = 80, l1_lambda = 0.0, l2_lambda = 0.0\n"
     ]
    },
    {
     "data": {
      "application/vnd.jupyter.widget-view+json": {
       "model_id": "2c8233da299d4b6b83216770949df7ac",
       "version_major": 2,
       "version_minor": 0
      },
      "text/plain": [
       "  0%|          | 0/5000 [00:00<?, ?it/s]"
      ]
     },
     "metadata": {},
     "output_type": "display_data"
    },
    {
     "name": "stdout",
     "output_type": "stream",
     "text": [
      "Step 0/5000, Loss: 0.167034\n",
      "Step 500/5000, Loss: 0.015781\n",
      "Step 1000/5000, Loss: 0.016153\n",
      "Step 1500/5000, Loss: 0.016109\n",
      "Step 2000/5000, Loss: 0.015680\n",
      "Step 2500/5000, Loss: 0.015298\n",
      "Step 3000/5000, Loss: 0.015240\n",
      "Step 3500/5000, Loss: 0.014976\n",
      "Step 4000/5000, Loss: 0.014803\n",
      "Step 4500/5000, Loss: 0.015177\n",
      "Step 4999/5000, Loss: 0.015297\n",
      "\n",
      "Training model with n_hidden = 100, l1_lambda = 0.0, l2_lambda = 0.0\n"
     ]
    },
    {
     "data": {
      "application/vnd.jupyter.widget-view+json": {
       "model_id": "29534975caa241f99167d2d7836a15c7",
       "version_major": 2,
       "version_minor": 0
      },
      "text/plain": [
       "  0%|          | 0/5000 [00:00<?, ?it/s]"
      ]
     },
     "metadata": {},
     "output_type": "display_data"
    },
    {
     "name": "stdout",
     "output_type": "stream",
     "text": [
      "Step 0/5000, Loss: 0.163811\n",
      "Step 500/5000, Loss: 0.000017\n",
      "Step 1000/5000, Loss: 0.000000\n",
      "Step 1500/5000, Loss: 0.000000\n",
      "Step 2000/5000, Loss: 0.000000\n",
      "Step 2500/5000, Loss: 0.000010\n",
      "Step 3000/5000, Loss: 0.000002\n",
      "Step 3500/5000, Loss: 0.000000\n",
      "Step 4000/5000, Loss: 0.000002\n",
      "Step 4500/5000, Loss: 0.000006\n",
      "Step 4999/5000, Loss: 0.000005\n",
      "\n",
      "Training model with n_hidden = 120, l1_lambda = 0.0, l2_lambda = 0.0\n"
     ]
    },
    {
     "data": {
      "application/vnd.jupyter.widget-view+json": {
       "model_id": "1c7f9f771d6e46ccb732e208d59c2100",
       "version_major": 2,
       "version_minor": 0
      },
      "text/plain": [
       "  0%|          | 0/5000 [00:00<?, ?it/s]"
      ]
     },
     "metadata": {},
     "output_type": "display_data"
    },
    {
     "name": "stdout",
     "output_type": "stream",
     "text": [
      "Step 0/5000, Loss: 0.173794\n",
      "Step 500/5000, Loss: 0.000004\n",
      "Step 1000/5000, Loss: 0.000000\n",
      "Step 1500/5000, Loss: 0.000000\n",
      "Step 2000/5000, Loss: 0.000000\n",
      "Step 2500/5000, Loss: 0.000001\n",
      "Step 3000/5000, Loss: 0.000000\n",
      "Step 3500/5000, Loss: 0.000001\n",
      "Step 4000/5000, Loss: 0.000000\n",
      "Step 4500/5000, Loss: 0.000004\n",
      "Step 4999/5000, Loss: 0.000001\n",
      "\n",
      "Training model with n_hidden = 20, l1_lambda = 0.0, l2_lambda = 0.0\n"
     ]
    },
    {
     "data": {
      "application/vnd.jupyter.widget-view+json": {
       "model_id": "7b7c5f73fb96468da73d0a81c98bffd1",
       "version_major": 2,
       "version_minor": 0
      },
      "text/plain": [
       "  0%|          | 0/5000 [00:00<?, ?it/s]"
      ]
     },
     "metadata": {},
     "output_type": "display_data"
    },
    {
     "name": "stdout",
     "output_type": "stream",
     "text": [
      "Step 0/5000, Loss: 0.154601\n",
      "Step 500/5000, Loss: 0.082976\n",
      "Step 1000/5000, Loss: 0.082372\n",
      "Step 1500/5000, Loss: 0.081042\n",
      "Step 2000/5000, Loss: 0.080646\n",
      "Step 2500/5000, Loss: 0.077831\n",
      "Step 3000/5000, Loss: 0.078136\n",
      "Step 3500/5000, Loss: 0.078442\n",
      "Step 4000/5000, Loss: 0.078086\n",
      "Step 4500/5000, Loss: 0.078118\n",
      "Step 4999/5000, Loss: 0.077953\n",
      "\n",
      "Training model with n_hidden = 40, l1_lambda = 0.0, l2_lambda = 0.0\n"
     ]
    },
    {
     "data": {
      "application/vnd.jupyter.widget-view+json": {
       "model_id": "a687faa7fdc847c392901f75b858b23d",
       "version_major": 2,
       "version_minor": 0
      },
      "text/plain": [
       "  0%|          | 0/5000 [00:00<?, ?it/s]"
      ]
     },
     "metadata": {},
     "output_type": "display_data"
    },
    {
     "name": "stdout",
     "output_type": "stream",
     "text": [
      "Step 0/5000, Loss: 0.162154\n",
      "Step 500/5000, Loss: 0.059699\n",
      "Step 1000/5000, Loss: 0.058861\n",
      "Step 1500/5000, Loss: 0.057360\n",
      "Step 2000/5000, Loss: 0.053956\n",
      "Step 2500/5000, Loss: 0.053076\n",
      "Step 3000/5000, Loss: 0.051897\n",
      "Step 3500/5000, Loss: 0.051235\n",
      "Step 4000/5000, Loss: 0.050653\n",
      "Step 4500/5000, Loss: 0.050859\n",
      "Step 4999/5000, Loss: 0.050299\n",
      "\n",
      "Training model with n_hidden = 60, l1_lambda = 0.0, l2_lambda = 0.0\n"
     ]
    },
    {
     "data": {
      "application/vnd.jupyter.widget-view+json": {
       "model_id": "70dbe17f507646edae7953618f230c81",
       "version_major": 2,
       "version_minor": 0
      },
      "text/plain": [
       "  0%|          | 0/5000 [00:00<?, ?it/s]"
      ]
     },
     "metadata": {},
     "output_type": "display_data"
    },
    {
     "name": "stdout",
     "output_type": "stream",
     "text": [
      "Step 0/5000, Loss: 0.163015\n",
      "Step 500/5000, Loss: 0.036303\n",
      "Step 1000/5000, Loss: 0.035773\n",
      "Step 1500/5000, Loss: 0.033692\n",
      "Step 2000/5000, Loss: 0.031571\n",
      "Step 2500/5000, Loss: 0.030702\n",
      "Step 3000/5000, Loss: 0.029983\n",
      "Step 3500/5000, Loss: 0.029712\n",
      "Step 4000/5000, Loss: 0.029566\n",
      "Step 4500/5000, Loss: 0.029276\n",
      "Step 4999/5000, Loss: 0.029266\n",
      "\n",
      "Training model with n_hidden = 80, l1_lambda = 0.0, l2_lambda = 0.0\n"
     ]
    },
    {
     "data": {
      "application/vnd.jupyter.widget-view+json": {
       "model_id": "bb0a62866bac4628b1936073da1b0ada",
       "version_major": 2,
       "version_minor": 0
      },
      "text/plain": [
       "  0%|          | 0/5000 [00:00<?, ?it/s]"
      ]
     },
     "metadata": {},
     "output_type": "display_data"
    },
    {
     "name": "stdout",
     "output_type": "stream",
     "text": [
      "Step 0/5000, Loss: 0.164968\n",
      "Step 500/5000, Loss: 0.016186\n",
      "Step 1000/5000, Loss: 0.015841\n",
      "Step 1500/5000, Loss: 0.015660\n",
      "Step 2000/5000, Loss: 0.015688\n",
      "Step 2500/5000, Loss: 0.015388\n",
      "Step 3000/5000, Loss: 0.015114\n",
      "Step 3500/5000, Loss: 0.015094\n",
      "Step 4000/5000, Loss: 0.015210\n",
      "Step 4500/5000, Loss: 0.014841\n",
      "Step 4999/5000, Loss: 0.015087\n",
      "\n",
      "Training model with n_hidden = 100, l1_lambda = 0.0, l2_lambda = 0.0\n"
     ]
    },
    {
     "data": {
      "application/vnd.jupyter.widget-view+json": {
       "model_id": "ed56948be44d48c4aa3653876fba137b",
       "version_major": 2,
       "version_minor": 0
      },
      "text/plain": [
       "  0%|          | 0/5000 [00:00<?, ?it/s]"
      ]
     },
     "metadata": {},
     "output_type": "display_data"
    },
    {
     "name": "stdout",
     "output_type": "stream",
     "text": [
      "Step 0/5000, Loss: 0.175732\n",
      "Step 500/5000, Loss: 0.000683\n",
      "Step 1000/5000, Loss: 0.000000\n",
      "Step 1500/5000, Loss: 0.000000\n",
      "Step 2000/5000, Loss: 0.000000\n",
      "Step 2500/5000, Loss: 0.000000\n",
      "Step 3000/5000, Loss: 0.000002\n",
      "Step 3500/5000, Loss: 0.000009\n",
      "Step 4000/5000, Loss: 0.000000\n",
      "Step 4500/5000, Loss: 0.000000\n",
      "Step 4999/5000, Loss: 0.000007\n",
      "\n",
      "Training model with n_hidden = 120, l1_lambda = 0.0, l2_lambda = 0.0\n"
     ]
    },
    {
     "data": {
      "application/vnd.jupyter.widget-view+json": {
       "model_id": "461946f6a27f40f381dfd3abdb4221d3",
       "version_major": 2,
       "version_minor": 0
      },
      "text/plain": [
       "  0%|          | 0/5000 [00:00<?, ?it/s]"
      ]
     },
     "metadata": {},
     "output_type": "display_data"
    },
    {
     "name": "stdout",
     "output_type": "stream",
     "text": [
      "Step 0/5000, Loss: 0.174744\n",
      "Step 500/5000, Loss: 0.000004\n",
      "Step 1000/5000, Loss: 0.000000\n",
      "Step 1500/5000, Loss: 0.000000\n",
      "Step 2000/5000, Loss: 0.000000\n",
      "Step 2500/5000, Loss: 0.000018\n",
      "Step 3000/5000, Loss: 0.000000\n",
      "Step 3500/5000, Loss: 0.000001\n",
      "Step 4000/5000, Loss: 0.000011\n",
      "Step 4500/5000, Loss: 0.000000\n",
      "Step 4999/5000, Loss: 0.000001\n",
      "\n",
      "Training model with n_hidden = 20, l1_lambda = 0.0, l2_lambda = 0.0\n"
     ]
    },
    {
     "data": {
      "application/vnd.jupyter.widget-view+json": {
       "model_id": "74fed82af7944be5bcfa7f69ff096d8d",
       "version_major": 2,
       "version_minor": 0
      },
      "text/plain": [
       "  0%|          | 0/5000 [00:00<?, ?it/s]"
      ]
     },
     "metadata": {},
     "output_type": "display_data"
    },
    {
     "name": "stdout",
     "output_type": "stream",
     "text": [
      "Step 0/5000, Loss: 0.158307\n",
      "Step 500/5000, Loss: 0.083214\n",
      "Step 1000/5000, Loss: 0.082740\n",
      "Step 1500/5000, Loss: 0.081394\n",
      "Step 2000/5000, Loss: 0.080689\n",
      "Step 2500/5000, Loss: 0.078333\n",
      "Step 3000/5000, Loss: 0.078393\n",
      "Step 3500/5000, Loss: 0.078208\n",
      "Step 4000/5000, Loss: 0.077885\n",
      "Step 4500/5000, Loss: 0.077519\n",
      "Step 4999/5000, Loss: 0.077700\n",
      "\n",
      "Training model with n_hidden = 40, l1_lambda = 0.0, l2_lambda = 0.0\n"
     ]
    },
    {
     "data": {
      "application/vnd.jupyter.widget-view+json": {
       "model_id": "8e1413904d41466ba24f5b0af6deb8a9",
       "version_major": 2,
       "version_minor": 0
      },
      "text/plain": [
       "  0%|          | 0/5000 [00:00<?, ?it/s]"
      ]
     },
     "metadata": {},
     "output_type": "display_data"
    },
    {
     "name": "stdout",
     "output_type": "stream",
     "text": [
      "Step 0/5000, Loss: 0.165864\n",
      "Step 500/5000, Loss: 0.059536\n",
      "Step 1000/5000, Loss: 0.059763\n",
      "Step 1500/5000, Loss: 0.058250\n",
      "Step 2000/5000, Loss: 0.056077\n",
      "Step 2500/5000, Loss: 0.053023\n",
      "Step 3000/5000, Loss: 0.052700\n",
      "Step 3500/5000, Loss: 0.051417\n",
      "Step 4000/5000, Loss: 0.051189\n",
      "Step 4500/5000, Loss: 0.051049\n",
      "Step 4999/5000, Loss: 0.050612\n",
      "\n",
      "Training model with n_hidden = 60, l1_lambda = 0.0, l2_lambda = 0.0\n"
     ]
    },
    {
     "data": {
      "application/vnd.jupyter.widget-view+json": {
       "model_id": "6fb9c62074b24f37ac314e07f6925186",
       "version_major": 2,
       "version_minor": 0
      },
      "text/plain": [
       "  0%|          | 0/5000 [00:00<?, ?it/s]"
      ]
     },
     "metadata": {},
     "output_type": "display_data"
    },
    {
     "name": "stdout",
     "output_type": "stream",
     "text": [
      "Step 0/5000, Loss: 0.166627\n",
      "Step 500/5000, Loss: 0.036633\n",
      "Step 1000/5000, Loss: 0.035445\n",
      "Step 1500/5000, Loss: 0.033958\n",
      "Step 2000/5000, Loss: 0.030871\n",
      "Step 2500/5000, Loss: 0.030687\n",
      "Step 3000/5000, Loss: 0.029938\n",
      "Step 3500/5000, Loss: 0.030680\n",
      "Step 4000/5000, Loss: 0.030108\n",
      "Step 4500/5000, Loss: 0.029697\n",
      "Step 4999/5000, Loss: 0.030129\n",
      "\n",
      "Training model with n_hidden = 80, l1_lambda = 0.0, l2_lambda = 0.0\n"
     ]
    },
    {
     "data": {
      "application/vnd.jupyter.widget-view+json": {
       "model_id": "8e407fb62e4f4f5fb293adac2cb57bd9",
       "version_major": 2,
       "version_minor": 0
      },
      "text/plain": [
       "  0%|          | 0/5000 [00:00<?, ?it/s]"
      ]
     },
     "metadata": {},
     "output_type": "display_data"
    },
    {
     "name": "stdout",
     "output_type": "stream",
     "text": [
      "Step 0/5000, Loss: 0.163848\n",
      "Step 500/5000, Loss: 0.015885\n",
      "Step 1000/5000, Loss: 0.015700\n",
      "Step 1500/5000, Loss: 0.015789\n",
      "Step 2000/5000, Loss: 0.015733\n",
      "Step 2500/5000, Loss: 0.015378\n",
      "Step 3000/5000, Loss: 0.015424\n",
      "Step 3500/5000, Loss: 0.015071\n",
      "Step 4000/5000, Loss: 0.015152\n",
      "Step 4500/5000, Loss: 0.015104\n",
      "Step 4999/5000, Loss: 0.015011\n",
      "\n",
      "Training model with n_hidden = 100, l1_lambda = 0.0, l2_lambda = 0.0\n"
     ]
    },
    {
     "data": {
      "application/vnd.jupyter.widget-view+json": {
       "model_id": "201b6c10dc304085802500cb0a67fde5",
       "version_major": 2,
       "version_minor": 0
      },
      "text/plain": [
       "  0%|          | 0/5000 [00:00<?, ?it/s]"
      ]
     },
     "metadata": {},
     "output_type": "display_data"
    },
    {
     "name": "stdout",
     "output_type": "stream",
     "text": [
      "Step 0/5000, Loss: 0.166975\n",
      "Step 500/5000, Loss: 0.000193\n",
      "Step 1000/5000, Loss: 0.000000\n",
      "Step 1500/5000, Loss: 0.000000\n",
      "Step 2000/5000, Loss: 0.000000\n",
      "Step 2500/5000, Loss: 0.000000\n",
      "Step 3000/5000, Loss: 0.000000\n",
      "Step 3500/5000, Loss: 0.000000\n",
      "Step 4000/5000, Loss: 0.000001\n",
      "Step 4500/5000, Loss: 0.000003\n",
      "Step 4999/5000, Loss: 0.000003\n",
      "\n",
      "Training model with n_hidden = 120, l1_lambda = 0.0, l2_lambda = 0.0\n"
     ]
    },
    {
     "data": {
      "application/vnd.jupyter.widget-view+json": {
       "model_id": "2716951fd0ec4917a9e4e4ea76cc6443",
       "version_major": 2,
       "version_minor": 0
      },
      "text/plain": [
       "  0%|          | 0/5000 [00:00<?, ?it/s]"
      ]
     },
     "metadata": {},
     "output_type": "display_data"
    },
    {
     "name": "stdout",
     "output_type": "stream",
     "text": [
      "Step 0/5000, Loss: 0.174625\n",
      "Step 500/5000, Loss: 0.000003\n",
      "Step 1000/5000, Loss: 0.000000\n",
      "Step 1500/5000, Loss: 0.000000\n",
      "Step 2000/5000, Loss: 0.000000\n",
      "Step 2500/5000, Loss: 0.000010\n",
      "Step 3000/5000, Loss: 0.000000\n",
      "Step 3500/5000, Loss: 0.000000\n",
      "Step 4000/5000, Loss: 0.000000\n",
      "Step 4500/5000, Loss: 0.000000\n",
      "Step 4999/5000, Loss: 0.000001\n",
      "\n",
      "Results with Correlated Features:\n"
     ]
    },
    {
     "data": {
      "text/html": [
       "<div>\n",
       "<style scoped>\n",
       "    .dataframe tbody tr th:only-of-type {\n",
       "        vertical-align: middle;\n",
       "    }\n",
       "\n",
       "    .dataframe tbody tr th {\n",
       "        vertical-align: top;\n",
       "    }\n",
       "\n",
       "    .dataframe thead th {\n",
       "        text-align: right;\n",
       "    }\n",
       "</style>\n",
       "<table border=\"1\" class=\"dataframe\">\n",
       "  <thead>\n",
       "    <tr style=\"text-align: right;\">\n",
       "      <th></th>\n",
       "      <th>n_hidden</th>\n",
       "      <th>l1_lambda</th>\n",
       "      <th>l2_lambda</th>\n",
       "      <th>loss_clean</th>\n",
       "      <th>loss_adv</th>\n",
       "      <th>superposition</th>\n",
       "      <th>attack_type</th>\n",
       "      <th>nonlinear_hidden</th>\n",
       "      <th>num_layers</th>\n",
       "      <th>feature_probability</th>\n",
       "      <th>correlated</th>\n",
       "    </tr>\n",
       "  </thead>\n",
       "  <tbody>\n",
       "    <tr>\n",
       "      <th>0</th>\n",
       "      <td>20</td>\n",
       "      <td>0.0</td>\n",
       "      <td>0.0</td>\n",
       "      <td>6.484666e-02</td>\n",
       "      <td>0.074891</td>\n",
       "      <td>0.006135</td>\n",
       "      <td>pgd</td>\n",
       "      <td>False</td>\n",
       "      <td>1</td>\n",
       "      <td>0.5</td>\n",
       "      <td>True</td>\n",
       "    </tr>\n",
       "    <tr>\n",
       "      <th>1</th>\n",
       "      <td>40</td>\n",
       "      <td>0.0</td>\n",
       "      <td>0.0</td>\n",
       "      <td>4.894282e-02</td>\n",
       "      <td>0.061660</td>\n",
       "      <td>0.013256</td>\n",
       "      <td>pgd</td>\n",
       "      <td>False</td>\n",
       "      <td>1</td>\n",
       "      <td>0.5</td>\n",
       "      <td>True</td>\n",
       "    </tr>\n",
       "    <tr>\n",
       "      <th>2</th>\n",
       "      <td>60</td>\n",
       "      <td>0.0</td>\n",
       "      <td>0.0</td>\n",
       "      <td>3.115552e-02</td>\n",
       "      <td>0.046496</td>\n",
       "      <td>0.023863</td>\n",
       "      <td>pgd</td>\n",
       "      <td>False</td>\n",
       "      <td>1</td>\n",
       "      <td>0.5</td>\n",
       "      <td>True</td>\n",
       "    </tr>\n",
       "    <tr>\n",
       "      <th>3</th>\n",
       "      <td>80</td>\n",
       "      <td>0.0</td>\n",
       "      <td>0.0</td>\n",
       "      <td>1.465399e-02</td>\n",
       "      <td>0.028261</td>\n",
       "      <td>0.039867</td>\n",
       "      <td>pgd</td>\n",
       "      <td>False</td>\n",
       "      <td>1</td>\n",
       "      <td>0.5</td>\n",
       "      <td>True</td>\n",
       "    </tr>\n",
       "    <tr>\n",
       "      <th>4</th>\n",
       "      <td>100</td>\n",
       "      <td>0.0</td>\n",
       "      <td>0.0</td>\n",
       "      <td>6.674555e-06</td>\n",
       "      <td>0.010070</td>\n",
       "      <td>0.050028</td>\n",
       "      <td>pgd</td>\n",
       "      <td>False</td>\n",
       "      <td>1</td>\n",
       "      <td>0.5</td>\n",
       "      <td>True</td>\n",
       "    </tr>\n",
       "    <tr>\n",
       "      <th>5</th>\n",
       "      <td>120</td>\n",
       "      <td>0.0</td>\n",
       "      <td>0.0</td>\n",
       "      <td>1.178775e-06</td>\n",
       "      <td>0.009789</td>\n",
       "      <td>0.055990</td>\n",
       "      <td>pgd</td>\n",
       "      <td>False</td>\n",
       "      <td>1</td>\n",
       "      <td>0.5</td>\n",
       "      <td>True</td>\n",
       "    </tr>\n",
       "    <tr>\n",
       "      <th>6</th>\n",
       "      <td>20</td>\n",
       "      <td>0.0</td>\n",
       "      <td>0.0</td>\n",
       "      <td>6.445748e-02</td>\n",
       "      <td>0.076255</td>\n",
       "      <td>0.006300</td>\n",
       "      <td>pgd</td>\n",
       "      <td>False</td>\n",
       "      <td>1</td>\n",
       "      <td>0.5</td>\n",
       "      <td>True</td>\n",
       "    </tr>\n",
       "    <tr>\n",
       "      <th>7</th>\n",
       "      <td>40</td>\n",
       "      <td>0.0</td>\n",
       "      <td>0.0</td>\n",
       "      <td>5.032574e-02</td>\n",
       "      <td>0.065814</td>\n",
       "      <td>0.012458</td>\n",
       "      <td>pgd</td>\n",
       "      <td>False</td>\n",
       "      <td>1</td>\n",
       "      <td>0.5</td>\n",
       "      <td>True</td>\n",
       "    </tr>\n",
       "    <tr>\n",
       "      <th>8</th>\n",
       "      <td>60</td>\n",
       "      <td>0.0</td>\n",
       "      <td>0.0</td>\n",
       "      <td>3.528979e-02</td>\n",
       "      <td>0.048117</td>\n",
       "      <td>0.023090</td>\n",
       "      <td>pgd</td>\n",
       "      <td>False</td>\n",
       "      <td>1</td>\n",
       "      <td>0.5</td>\n",
       "      <td>True</td>\n",
       "    </tr>\n",
       "    <tr>\n",
       "      <th>9</th>\n",
       "      <td>80</td>\n",
       "      <td>0.0</td>\n",
       "      <td>0.0</td>\n",
       "      <td>1.652046e-02</td>\n",
       "      <td>0.030085</td>\n",
       "      <td>0.040193</td>\n",
       "      <td>pgd</td>\n",
       "      <td>False</td>\n",
       "      <td>1</td>\n",
       "      <td>0.5</td>\n",
       "      <td>True</td>\n",
       "    </tr>\n",
       "    <tr>\n",
       "      <th>10</th>\n",
       "      <td>100</td>\n",
       "      <td>0.0</td>\n",
       "      <td>0.0</td>\n",
       "      <td>7.780752e-06</td>\n",
       "      <td>0.009981</td>\n",
       "      <td>0.048400</td>\n",
       "      <td>pgd</td>\n",
       "      <td>False</td>\n",
       "      <td>1</td>\n",
       "      <td>0.5</td>\n",
       "      <td>True</td>\n",
       "    </tr>\n",
       "    <tr>\n",
       "      <th>11</th>\n",
       "      <td>120</td>\n",
       "      <td>0.0</td>\n",
       "      <td>0.0</td>\n",
       "      <td>7.481691e-07</td>\n",
       "      <td>0.009767</td>\n",
       "      <td>0.056257</td>\n",
       "      <td>pgd</td>\n",
       "      <td>False</td>\n",
       "      <td>1</td>\n",
       "      <td>0.5</td>\n",
       "      <td>True</td>\n",
       "    </tr>\n",
       "    <tr>\n",
       "      <th>12</th>\n",
       "      <td>20</td>\n",
       "      <td>0.0</td>\n",
       "      <td>0.0</td>\n",
       "      <td>6.511306e-02</td>\n",
       "      <td>0.075913</td>\n",
       "      <td>0.006841</td>\n",
       "      <td>pgd</td>\n",
       "      <td>False</td>\n",
       "      <td>1</td>\n",
       "      <td>0.5</td>\n",
       "      <td>True</td>\n",
       "    </tr>\n",
       "    <tr>\n",
       "      <th>13</th>\n",
       "      <td>40</td>\n",
       "      <td>0.0</td>\n",
       "      <td>0.0</td>\n",
       "      <td>5.240625e-02</td>\n",
       "      <td>0.066827</td>\n",
       "      <td>0.013461</td>\n",
       "      <td>pgd</td>\n",
       "      <td>False</td>\n",
       "      <td>1</td>\n",
       "      <td>0.5</td>\n",
       "      <td>True</td>\n",
       "    </tr>\n",
       "    <tr>\n",
       "      <th>14</th>\n",
       "      <td>60</td>\n",
       "      <td>0.0</td>\n",
       "      <td>0.0</td>\n",
       "      <td>3.503819e-02</td>\n",
       "      <td>0.051002</td>\n",
       "      <td>0.023696</td>\n",
       "      <td>pgd</td>\n",
       "      <td>False</td>\n",
       "      <td>1</td>\n",
       "      <td>0.5</td>\n",
       "      <td>True</td>\n",
       "    </tr>\n",
       "    <tr>\n",
       "      <th>15</th>\n",
       "      <td>80</td>\n",
       "      <td>0.0</td>\n",
       "      <td>0.0</td>\n",
       "      <td>1.806184e-02</td>\n",
       "      <td>0.030564</td>\n",
       "      <td>0.039949</td>\n",
       "      <td>pgd</td>\n",
       "      <td>False</td>\n",
       "      <td>1</td>\n",
       "      <td>0.5</td>\n",
       "      <td>True</td>\n",
       "    </tr>\n",
       "    <tr>\n",
       "      <th>16</th>\n",
       "      <td>100</td>\n",
       "      <td>0.0</td>\n",
       "      <td>0.0</td>\n",
       "      <td>4.637997e-06</td>\n",
       "      <td>0.009937</td>\n",
       "      <td>0.048527</td>\n",
       "      <td>pgd</td>\n",
       "      <td>False</td>\n",
       "      <td>1</td>\n",
       "      <td>0.5</td>\n",
       "      <td>True</td>\n",
       "    </tr>\n",
       "    <tr>\n",
       "      <th>17</th>\n",
       "      <td>120</td>\n",
       "      <td>0.0</td>\n",
       "      <td>0.0</td>\n",
       "      <td>7.211441e-07</td>\n",
       "      <td>0.009824</td>\n",
       "      <td>0.055427</td>\n",
       "      <td>pgd</td>\n",
       "      <td>False</td>\n",
       "      <td>1</td>\n",
       "      <td>0.5</td>\n",
       "      <td>True</td>\n",
       "    </tr>\n",
       "  </tbody>\n",
       "</table>\n",
       "</div>"
      ],
      "text/plain": [
       "    n_hidden  l1_lambda  l2_lambda    loss_clean  loss_adv  superposition  \\\n",
       "0         20        0.0        0.0  6.484666e-02  0.074891       0.006135   \n",
       "1         40        0.0        0.0  4.894282e-02  0.061660       0.013256   \n",
       "2         60        0.0        0.0  3.115552e-02  0.046496       0.023863   \n",
       "3         80        0.0        0.0  1.465399e-02  0.028261       0.039867   \n",
       "4        100        0.0        0.0  6.674555e-06  0.010070       0.050028   \n",
       "5        120        0.0        0.0  1.178775e-06  0.009789       0.055990   \n",
       "6         20        0.0        0.0  6.445748e-02  0.076255       0.006300   \n",
       "7         40        0.0        0.0  5.032574e-02  0.065814       0.012458   \n",
       "8         60        0.0        0.0  3.528979e-02  0.048117       0.023090   \n",
       "9         80        0.0        0.0  1.652046e-02  0.030085       0.040193   \n",
       "10       100        0.0        0.0  7.780752e-06  0.009981       0.048400   \n",
       "11       120        0.0        0.0  7.481691e-07  0.009767       0.056257   \n",
       "12        20        0.0        0.0  6.511306e-02  0.075913       0.006841   \n",
       "13        40        0.0        0.0  5.240625e-02  0.066827       0.013461   \n",
       "14        60        0.0        0.0  3.503819e-02  0.051002       0.023696   \n",
       "15        80        0.0        0.0  1.806184e-02  0.030564       0.039949   \n",
       "16       100        0.0        0.0  4.637997e-06  0.009937       0.048527   \n",
       "17       120        0.0        0.0  7.211441e-07  0.009824       0.055427   \n",
       "\n",
       "   attack_type  nonlinear_hidden  num_layers  feature_probability  correlated  \n",
       "0          pgd             False           1                  0.5        True  \n",
       "1          pgd             False           1                  0.5        True  \n",
       "2          pgd             False           1                  0.5        True  \n",
       "3          pgd             False           1                  0.5        True  \n",
       "4          pgd             False           1                  0.5        True  \n",
       "5          pgd             False           1                  0.5        True  \n",
       "6          pgd             False           1                  0.5        True  \n",
       "7          pgd             False           1                  0.5        True  \n",
       "8          pgd             False           1                  0.5        True  \n",
       "9          pgd             False           1                  0.5        True  \n",
       "10         pgd             False           1                  0.5        True  \n",
       "11         pgd             False           1                  0.5        True  \n",
       "12         pgd             False           1                  0.5        True  \n",
       "13         pgd             False           1                  0.5        True  \n",
       "14         pgd             False           1                  0.5        True  \n",
       "15         pgd             False           1                  0.5        True  \n",
       "16         pgd             False           1                  0.5        True  \n",
       "17         pgd             False           1                  0.5        True  "
      ]
     },
     "metadata": {},
     "output_type": "display_data"
    }
   ],
   "source": [
    "# Experiment 3: Introduce Correlated Features\n",
    "correlation_coefficients = [0.2, 0.5, 0.8]\n",
    "results_correlation = []\n",
    "for corr_coef in correlation_coefficients:\n",
    "    corr_matrix = create_correlation_matrix(n_features, corr_coef)\n",
    "    results = run_experiment(\n",
    "        n_features=n_features,\n",
    "        n_hidden_list=n_hidden_list,\n",
    "        l1_lambda_list=[0.0],\n",
    "        l2_lambda_list=[0.0],\n",
    "        attack_type='pgd',\n",
    "        nonlinear_hidden=False,\n",
    "        num_layers=1,\n",
    "        feature_probability=0.5,\n",
    "        correlated=True,\n",
    "        correlation_matrix=corr_matrix\n",
    "    )\n",
    "    results_correlation.extend(results)\n",
    "\n",
    "df_results_correlation = pd.DataFrame(results_correlation)\n",
    "\n",
    "# Display the results\n",
    "print(\"\\nResults with Correlated Features:\")\n",
    "display(df_results_correlation)"
   ]
  },
  {
   "cell_type": "code",
   "execution_count": 18,
   "metadata": {},
   "outputs": [
    {
     "name": "stdout",
     "output_type": "stream",
     "text": [
      "\n",
      "Training model with n_hidden = 20, l1_lambda = 0.0, l2_lambda = 0.0\n"
     ]
    },
    {
     "data": {
      "application/vnd.jupyter.widget-view+json": {
       "model_id": "f2238420172b4a1ea4b00076b7cb56d1",
       "version_major": 2,
       "version_minor": 0
      },
      "text/plain": [
       "  0%|          | 0/5000 [00:00<?, ?it/s]"
      ]
     },
     "metadata": {},
     "output_type": "display_data"
    },
    {
     "name": "stdout",
     "output_type": "stream",
     "text": [
      "Step 0/5000, Loss: 0.149044\n",
      "Step 500/5000, Loss: 0.096010\n",
      "Step 1000/5000, Loss: 0.095828\n",
      "Step 1500/5000, Loss: 0.096170\n",
      "Step 2000/5000, Loss: 0.095805\n",
      "Step 2500/5000, Loss: 0.095614\n",
      "Step 3000/5000, Loss: 0.095172\n",
      "Step 3500/5000, Loss: 0.093470\n",
      "Step 4000/5000, Loss: 0.093101\n",
      "Step 4500/5000, Loss: 0.092443\n",
      "Step 4999/5000, Loss: 0.092937\n",
      "\n",
      "Training model with n_hidden = 40, l1_lambda = 0.0, l2_lambda = 0.0\n"
     ]
    },
    {
     "data": {
      "application/vnd.jupyter.widget-view+json": {
       "model_id": "dafb10363b284a72a39721784a16b53e",
       "version_major": 2,
       "version_minor": 0
      },
      "text/plain": [
       "  0%|          | 0/5000 [00:00<?, ?it/s]"
      ]
     },
     "metadata": {},
     "output_type": "display_data"
    },
    {
     "name": "stdout",
     "output_type": "stream",
     "text": [
      "Step 0/5000, Loss: 0.148547\n",
      "Step 500/5000, Loss: 0.079529\n",
      "Step 1000/5000, Loss: 0.079977\n",
      "Step 1500/5000, Loss: 0.079085\n",
      "Step 2000/5000, Loss: 0.078478\n",
      "Step 2500/5000, Loss: 0.078486\n",
      "Step 3000/5000, Loss: 0.077757\n",
      "Step 3500/5000, Loss: 0.077070\n",
      "Step 4000/5000, Loss: 0.076169\n",
      "Step 4500/5000, Loss: 0.076151\n",
      "Step 4999/5000, Loss: 0.076254\n",
      "\n",
      "Training model with n_hidden = 60, l1_lambda = 0.0, l2_lambda = 0.0\n"
     ]
    },
    {
     "data": {
      "application/vnd.jupyter.widget-view+json": {
       "model_id": "395d9c24c22d4c669b7168e77bdd7312",
       "version_major": 2,
       "version_minor": 0
      },
      "text/plain": [
       "  0%|          | 0/5000 [00:00<?, ?it/s]"
      ]
     },
     "metadata": {},
     "output_type": "display_data"
    },
    {
     "name": "stdout",
     "output_type": "stream",
     "text": [
      "Step 0/5000, Loss: 0.149297\n",
      "Step 500/5000, Loss: 0.059526\n",
      "Step 1000/5000, Loss: 0.056358\n",
      "Step 1500/5000, Loss: 0.054304\n",
      "Step 2000/5000, Loss: 0.054846\n",
      "Step 2500/5000, Loss: 0.054067\n",
      "Step 3000/5000, Loss: 0.052613\n",
      "Step 3500/5000, Loss: 0.051754\n",
      "Step 4000/5000, Loss: 0.049736\n",
      "Step 4500/5000, Loss: 0.049843\n",
      "Step 4999/5000, Loss: 0.048287\n",
      "\n",
      "Training model with n_hidden = 80, l1_lambda = 0.0, l2_lambda = 0.0\n"
     ]
    },
    {
     "data": {
      "application/vnd.jupyter.widget-view+json": {
       "model_id": "f65c1848c1ef45d58f3973fe2f026e27",
       "version_major": 2,
       "version_minor": 0
      },
      "text/plain": [
       "  0%|          | 0/5000 [00:00<?, ?it/s]"
      ]
     },
     "metadata": {},
     "output_type": "display_data"
    },
    {
     "name": "stdout",
     "output_type": "stream",
     "text": [
      "Step 0/5000, Loss: 0.144824\n",
      "Step 500/5000, Loss: 0.043769\n",
      "Step 1000/5000, Loss: 0.039634\n",
      "Step 1500/5000, Loss: 0.039963\n",
      "Step 2000/5000, Loss: 0.039163\n",
      "Step 2500/5000, Loss: 0.039045\n",
      "Step 3000/5000, Loss: 0.038920\n",
      "Step 3500/5000, Loss: 0.037328\n",
      "Step 4000/5000, Loss: 0.037157\n",
      "Step 4500/5000, Loss: 0.036533\n",
      "Step 4999/5000, Loss: 0.036818\n",
      "\n",
      "Training model with n_hidden = 100, l1_lambda = 0.0, l2_lambda = 0.0\n"
     ]
    },
    {
     "data": {
      "application/vnd.jupyter.widget-view+json": {
       "model_id": "11d9f04f24474d11bc0440ebe26b1ea1",
       "version_major": 2,
       "version_minor": 0
      },
      "text/plain": [
       "  0%|          | 0/5000 [00:00<?, ?it/s]"
      ]
     },
     "metadata": {},
     "output_type": "display_data"
    },
    {
     "name": "stdout",
     "output_type": "stream",
     "text": [
      "Step 0/5000, Loss: 0.145531\n",
      "Step 500/5000, Loss: 0.029217\n",
      "Step 1000/5000, Loss: 0.024734\n",
      "Step 1500/5000, Loss: 0.023198\n",
      "Step 2000/5000, Loss: 0.021924\n",
      "Step 2500/5000, Loss: 0.021630\n",
      "Step 3000/5000, Loss: 0.021965\n",
      "Step 3500/5000, Loss: 0.021093\n",
      "Step 4000/5000, Loss: 0.021036\n",
      "Step 4500/5000, Loss: 0.021484\n",
      "Step 4999/5000, Loss: 0.020976\n",
      "\n",
      "Training model with n_hidden = 120, l1_lambda = 0.0, l2_lambda = 0.0\n"
     ]
    },
    {
     "data": {
      "application/vnd.jupyter.widget-view+json": {
       "model_id": "13dd99f0fc514f818cf8124e8e577b39",
       "version_major": 2,
       "version_minor": 0
      },
      "text/plain": [
       "  0%|          | 0/5000 [00:00<?, ?it/s]"
      ]
     },
     "metadata": {},
     "output_type": "display_data"
    },
    {
     "name": "stdout",
     "output_type": "stream",
     "text": [
      "Step 0/5000, Loss: 0.151024\n",
      "Step 500/5000, Loss: 0.018004\n",
      "Step 1000/5000, Loss: 0.012640\n",
      "Step 1500/5000, Loss: 0.010757\n",
      "Step 2000/5000, Loss: 0.009592\n",
      "Step 2500/5000, Loss: 0.009312\n",
      "Step 3000/5000, Loss: 0.007849\n",
      "Step 3500/5000, Loss: 0.007744\n",
      "Step 4000/5000, Loss: 0.007859\n",
      "Step 4500/5000, Loss: 0.008087\n",
      "Step 4999/5000, Loss: 0.007900\n",
      "\n",
      "Results with Nonlinear Hidden Layers and Deeper Networks:\n"
     ]
    },
    {
     "data": {
      "text/html": [
       "<div>\n",
       "<style scoped>\n",
       "    .dataframe tbody tr th:only-of-type {\n",
       "        vertical-align: middle;\n",
       "    }\n",
       "\n",
       "    .dataframe tbody tr th {\n",
       "        vertical-align: top;\n",
       "    }\n",
       "\n",
       "    .dataframe thead th {\n",
       "        text-align: right;\n",
       "    }\n",
       "</style>\n",
       "<table border=\"1\" class=\"dataframe\">\n",
       "  <thead>\n",
       "    <tr style=\"text-align: right;\">\n",
       "      <th></th>\n",
       "      <th>n_hidden</th>\n",
       "      <th>l1_lambda</th>\n",
       "      <th>l2_lambda</th>\n",
       "      <th>loss_clean</th>\n",
       "      <th>loss_adv</th>\n",
       "      <th>superposition</th>\n",
       "      <th>attack_type</th>\n",
       "      <th>nonlinear_hidden</th>\n",
       "      <th>num_layers</th>\n",
       "      <th>feature_probability</th>\n",
       "      <th>correlated</th>\n",
       "    </tr>\n",
       "  </thead>\n",
       "  <tbody>\n",
       "    <tr>\n",
       "      <th>0</th>\n",
       "      <td>20</td>\n",
       "      <td>0.0</td>\n",
       "      <td>0.0</td>\n",
       "      <td>0.092449</td>\n",
       "      <td>0.100393</td>\n",
       "      <td>0.038359</td>\n",
       "      <td>pgd</td>\n",
       "      <td>True</td>\n",
       "      <td>3</td>\n",
       "      <td>0.5</td>\n",
       "      <td>False</td>\n",
       "    </tr>\n",
       "    <tr>\n",
       "      <th>1</th>\n",
       "      <td>40</td>\n",
       "      <td>0.0</td>\n",
       "      <td>0.0</td>\n",
       "      <td>0.075062</td>\n",
       "      <td>0.086453</td>\n",
       "      <td>0.064516</td>\n",
       "      <td>pgd</td>\n",
       "      <td>True</td>\n",
       "      <td>3</td>\n",
       "      <td>0.5</td>\n",
       "      <td>False</td>\n",
       "    </tr>\n",
       "    <tr>\n",
       "      <th>2</th>\n",
       "      <td>60</td>\n",
       "      <td>0.0</td>\n",
       "      <td>0.0</td>\n",
       "      <td>0.048271</td>\n",
       "      <td>0.064447</td>\n",
       "      <td>0.088073</td>\n",
       "      <td>pgd</td>\n",
       "      <td>True</td>\n",
       "      <td>3</td>\n",
       "      <td>0.5</td>\n",
       "      <td>False</td>\n",
       "    </tr>\n",
       "    <tr>\n",
       "      <th>3</th>\n",
       "      <td>80</td>\n",
       "      <td>0.0</td>\n",
       "      <td>0.0</td>\n",
       "      <td>0.036868</td>\n",
       "      <td>0.051326</td>\n",
       "      <td>0.105941</td>\n",
       "      <td>pgd</td>\n",
       "      <td>True</td>\n",
       "      <td>3</td>\n",
       "      <td>0.5</td>\n",
       "      <td>False</td>\n",
       "    </tr>\n",
       "    <tr>\n",
       "      <th>4</th>\n",
       "      <td>100</td>\n",
       "      <td>0.0</td>\n",
       "      <td>0.0</td>\n",
       "      <td>0.020727</td>\n",
       "      <td>0.035135</td>\n",
       "      <td>0.136126</td>\n",
       "      <td>pgd</td>\n",
       "      <td>True</td>\n",
       "      <td>3</td>\n",
       "      <td>0.5</td>\n",
       "      <td>False</td>\n",
       "    </tr>\n",
       "    <tr>\n",
       "      <th>5</th>\n",
       "      <td>120</td>\n",
       "      <td>0.0</td>\n",
       "      <td>0.0</td>\n",
       "      <td>0.007772</td>\n",
       "      <td>0.016613</td>\n",
       "      <td>0.146106</td>\n",
       "      <td>pgd</td>\n",
       "      <td>True</td>\n",
       "      <td>3</td>\n",
       "      <td>0.5</td>\n",
       "      <td>False</td>\n",
       "    </tr>\n",
       "  </tbody>\n",
       "</table>\n",
       "</div>"
      ],
      "text/plain": [
       "   n_hidden  l1_lambda  l2_lambda  loss_clean  loss_adv  superposition  \\\n",
       "0        20        0.0        0.0    0.092449  0.100393       0.038359   \n",
       "1        40        0.0        0.0    0.075062  0.086453       0.064516   \n",
       "2        60        0.0        0.0    0.048271  0.064447       0.088073   \n",
       "3        80        0.0        0.0    0.036868  0.051326       0.105941   \n",
       "4       100        0.0        0.0    0.020727  0.035135       0.136126   \n",
       "5       120        0.0        0.0    0.007772  0.016613       0.146106   \n",
       "\n",
       "  attack_type  nonlinear_hidden  num_layers  feature_probability  correlated  \n",
       "0         pgd              True           3                  0.5       False  \n",
       "1         pgd              True           3                  0.5       False  \n",
       "2         pgd              True           3                  0.5       False  \n",
       "3         pgd              True           3                  0.5       False  \n",
       "4         pgd              True           3                  0.5       False  \n",
       "5         pgd              True           3                  0.5       False  "
      ]
     },
     "metadata": {},
     "output_type": "display_data"
    }
   ],
   "source": [
    "# Experiment 4: Extend to Different Architectures\n",
    "# Nonlinear hidden layers and deeper networks\n",
    "results_architecture = run_experiment(\n",
    "    n_features=n_features,\n",
    "    n_hidden_list=n_hidden_list,\n",
    "    l1_lambda_list=[0.0],\n",
    "    l2_lambda_list=[0.0],\n",
    "    attack_type='pgd',\n",
    "    nonlinear_hidden=True,\n",
    "    num_layers=3,  # Deeper network\n",
    "    feature_probability=0.5,\n",
    "    correlated=False\n",
    ")\n",
    "\n",
    "df_results_architecture = pd.DataFrame(results_architecture)\n",
    "\n",
    "# Display the results\n",
    "print(\"\\nResults with Nonlinear Hidden Layers and Deeper Networks:\")\n",
    "display(df_results_architecture)"
   ]
  },
  {
   "cell_type": "code",
   "execution_count": null,
   "metadata": {},
   "outputs": [],
   "source": []
  }
 ],
 "metadata": {
  "kernelspec": {
   "display_name": "toy_models_env",
   "language": "python",
   "name": "python3"
  },
  "language_info": {
   "codemirror_mode": {
    "name": "ipython",
    "version": 3
   },
   "file_extension": ".py",
   "mimetype": "text/x-python",
   "name": "python",
   "nbconvert_exporter": "python",
   "pygments_lexer": "ipython3",
   "version": "3.10.9"
  }
 },
 "nbformat": 4,
 "nbformat_minor": 2
}
